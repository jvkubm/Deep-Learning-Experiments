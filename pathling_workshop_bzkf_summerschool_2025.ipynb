{
  "cells": [
    {
      "cell_type": "code",
      "execution_count": 1,
      "id": "4707c816",
      "metadata": {
        "id": "4707c816",
        "outputId": "ed3464bd-a90f-4ada-a27f-77fd686ec7ba",
        "colab": {
          "base_uri": "https://localhost:8080/"
        }
      },
      "outputs": [
        {
          "output_type": "stream",
          "name": "stdout",
          "text": [
            "Archive:  testdaten_edit_06.06.25.zip\n",
            " extracting: testdaten_edit_06.06.25/0d3ca394ec4721bbb7040cc8be8a0e2c1881a50cf08399715eb3305b0769eb4a.json  \n",
            " extracting: testdaten_edit_06.06.25/3b34ee5ba8285beb05f42aeaa12f39ec10dd6e00643cce3eea50a78086e97d3c.json  \n",
            " extracting: testdaten_edit_06.06.25/4acf957e62cdf103c91a780b47faed6f08e669a70152f140f83b98072efb462f.json  \n",
            " extracting: testdaten_edit_06.06.25/4b3445e44d2729ab3ea8723f91e819edd09754dcd5d0e514564110c34322d74d.json  \n",
            " extracting: testdaten_edit_06.06.25/4fd06b5bff15c1178546f382964793baaf0a0c8af66b92b81dc8b6cd3504aab0.json  \n",
            " extracting: testdaten_edit_06.06.25/5dcf27da9477a18d0103ef7b61efe7b40cfffd9346eba5d2b777256120ed797c.json  \n",
            " extracting: testdaten_edit_06.06.25/5dd435a5190b43923ab1ab4173f5cc74e002e9162561df3cc39b037bb0096ada.json  \n",
            " extracting: testdaten_edit_06.06.25/5fd1ebc847703519f45eededc84f216cbc191cea99390dda1a5fc9b6291e5dcd.json  \n",
            " extracting: testdaten_edit_06.06.25/06a7dca0f637d59b11620203fd22309cf52ce7cf41363c51e222450a16081a8b.json  \n",
            " extracting: testdaten_edit_06.06.25/6b848dc7cc0344c674e87e97b0d193f86c8d89bf0751fb4760fd0b7ecc11a53e.json  \n",
            " extracting: testdaten_edit_06.06.25/6b912d29474e14767f22a621a6cb997dffb4b51781782a0d81d571eec0ab7892.json  \n",
            " extracting: testdaten_edit_06.06.25/6ed1659f802d306cdd97d7fb9bea201f31a6663a1197f877ed4990a180942847.json  \n",
            " extracting: testdaten_edit_06.06.25/9aa1279bc762016dcf209719b8ada11a2768bfb26d9264a789d0bf2c0ccb4d8e.json  \n",
            " extracting: testdaten_edit_06.06.25/9c4e8c340e3a1c04a2ea7d3fad5fadbc385f57eb622c698deeef2d8540bfe0fe.json  \n",
            " extracting: testdaten_edit_06.06.25/9e270ef517f513ea9356b08d65677809916eac467984a4b4940898de768e8f28.json  \n",
            " extracting: testdaten_edit_06.06.25/34f603ca88a8cb406444ef34a2d380d8105d09b7803bb8205d3679036d9443cd.json  \n",
            " extracting: testdaten_edit_06.06.25/40e917065197c23e2d5478480ed16a06a32cea6664d2789d432b8fb3aecf61e7.json  \n",
            " extracting: testdaten_edit_06.06.25/44d77783c3e4eddd5c2f108152f710efed044b667bb2012fcc2c7ba8e99afb86.json  \n",
            " extracting: testdaten_edit_06.06.25/64d1a5e23d8cbbdc231d1f62da461905e94e9108af12283122aafcef9796f90d.json  \n",
            " extracting: testdaten_edit_06.06.25/70e36f01b1d8cfa37db9b9f6a9e4adb44adadf628a8d0d4f929f6e1b9448e4d5.json  \n",
            " extracting: testdaten_edit_06.06.25/90b2939cc882080051cb450a4b14986a463cdc424c03f5fe859bb585a4ca1f14.json  \n",
            " extracting: testdaten_edit_06.06.25/105fb3262e9808634e8baf29e1878d8b2a9eee399e537df2ca7e9190c59409a9.json  \n",
            " extracting: testdaten_edit_06.06.25/164a748a8214d466e9d25c473b9d283d2ef030701e9b06cac94f7325182d062f.json  \n",
            " extracting: testdaten_edit_06.06.25/292bc08aaa8b94dea8108fd5e89e8b13e389587e6a6b0d3566a6fdad7a750226.json  \n",
            " extracting: testdaten_edit_06.06.25/293c462322c4b638d40337d45d8d655aef54c9baa44071a0dd2520fea3a12f12.json  \n",
            " extracting: testdaten_edit_06.06.25/0321acdcb629357e0301a23b55410186e002b56edc39b998c2fc336663d63260.json  \n",
            " extracting: testdaten_edit_06.06.25/388dff8bb13b7054b2619c817edf83947a61899469479ac3235130f4530be1d3.json  \n",
            " extracting: testdaten_edit_06.06.25/452b79f0b555af7d47ee31e70bbed7123ebf4c462898b284b0672c5379254d78.json  \n",
            " extracting: testdaten_edit_06.06.25/500c454afd335bc9f239f569a3bdbda3edf204ccfd5b0d1850dc173f02508845.json  \n",
            " extracting: testdaten_edit_06.06.25/643abee32b142ff3e1e92efb00190f032c99a297c085fafc94f83f0e6f66bef2.json  \n",
            " extracting: testdaten_edit_06.06.25/675af5236abcac5d4f4d4b4d1936da2d139fc70c995950d93f9744e9adb4b1fd.json  \n",
            " extracting: testdaten_edit_06.06.25/834d1452ae3dc221d97c7c9574ebcffe6b59d4a132f491eec0233646a9f2a0b7.json  \n",
            " extracting: testdaten_edit_06.06.25/899b00406f52b9bfbbd91d648f4b5bf883a12aac08d7653adede5915a6615aad.json  \n",
            " extracting: testdaten_edit_06.06.25/962df31a8c09a319b19542b1e3ed17ce65939c8c35aedb793310638a4783aa73.json  \n",
            " extracting: testdaten_edit_06.06.25/1109f12b077ae83edcbcc479b51905cdd00108e35b92a531599aabbce9fec08e.json  \n",
            " extracting: testdaten_edit_06.06.25/02561ef895b010111042796595fafb37c56b2446a280964ea003545757ebdbf4.json  \n",
            " extracting: testdaten_edit_06.06.25/3220fead600e2f5369fb8524d5289cee66daf9d3519de7bf61ca9a10523520ea.json  \n",
            " extracting: testdaten_edit_06.06.25/9730d2316a74c3f74000bb1225eb28bd7198a235845a3794fce78a1db52d10a7.json  \n",
            " extracting: testdaten_edit_06.06.25/12903dea1a0c4e39b1f420dee26f07048cff43f69873982cdf6dc6dda4d378f8.json  \n",
            " extracting: testdaten_edit_06.06.25/36951a4fa6a2093e5cfd01d004d12418d6ddf4ba8300f83feef08474c679fc94.json  \n",
            " extracting: testdaten_edit_06.06.25/47408f8b0abf247d52cac435e2bd59c2209e018439dcdec5fe0ee9a9c3b37da8.json  \n",
            " extracting: testdaten_edit_06.06.25/58952af2d7b68175113ae5e0a64568ba42756e3be08bf5dbae71202b5e13b085.json  \n",
            " extracting: testdaten_edit_06.06.25/59644dc18c4f84e5bb3b6ab4f46938635b8e4191d85dc941161e03c760560435.json  \n",
            " extracting: testdaten_edit_06.06.25/115596e04bd54002ddb0f893b47fd3955b3fbbd4c76415a91fcf31843b99b940.json  \n",
            " extracting: testdaten_edit_06.06.25/117849de74bde45cf72caa43885cd6e2b9bbd72f7970ab686207b08f7b0d301d.json  \n",
            " extracting: testdaten_edit_06.06.25/6890839691b14917b456d9cc1074c5dd79a1f686b9a49aa0df5f2e6065d72713.json  \n",
            " extracting: testdaten_edit_06.06.25/14767038471a52121f5d40fc339722762fe1c5288aa19834b240a7d2a9c57749.json  \n",
            " extracting: testdaten_edit_06.06.25/a3d80b57a0c6012d816a1a8d8cb8f5fc6f7b39b42ab94d3be7d8da7c47f831d4.json  \n",
            " extracting: testdaten_edit_06.06.25/a64fd6a001865bc93262b9ce48c5ac97d0221b920a606cf9c58943ab459c1bb7.json  \n",
            " extracting: testdaten_edit_06.06.25/a83b2d10243597b954c02d4a49ea8357dbe0ca0b6ec259453edc9faa1d9f4637.json  \n",
            " extracting: testdaten_edit_06.06.25/af75523925cc424aa0f3d987d20b0644e1475c4afcde0779c12aeb26d1643565.json  \n",
            " extracting: testdaten_edit_06.06.25/b6a320fd73b42ce17269c0a7bc04d7c7bb1cebc102f09649c8cada88293c6108.json  \n",
            " extracting: testdaten_edit_06.06.25/b215cb5345543b94333b6e29012d34a9a0289c85b0befa877e42d3562da9f039.json  \n",
            " extracting: testdaten_edit_06.06.25/b224c6267f4c0a6882b53029d531758d075f6c0658d43cd9f0cf2224c2ac3852.json  \n",
            " extracting: testdaten_edit_06.06.25/b2946bbbd8a28357806a7dab5ae99ee50ef8e4867016d1b8ee7a180bad0cb72b.json  \n",
            " extracting: testdaten_edit_06.06.25/bafaeeacf82a9ebc696cda89db6788f75cd11842c56d721ce1a07cddf7d3f370.json  \n",
            " extracting: testdaten_edit_06.06.25/bc8a02793006ba39875f205cf957cb2b0e2e5d6c3b178c64cc2741dd50e858c0.json  \n",
            " extracting: testdaten_edit_06.06.25/be74f07cd6c8c7707d6019a43eadbfd6b7b9a1c934d7171aaea5516c5da21759.json  \n",
            " extracting: testdaten_edit_06.06.25/c3d3b338ecff75a2a1847371457916cc4c8f7e071ca8229eab197e621f88ca5d.json  \n",
            " extracting: testdaten_edit_06.06.25/c8227d30bcf54bbc69c9d7c6e709237a3e7b07e5039bbcd063c050b2fe2c3698.json  \n",
            " extracting: testdaten_edit_06.06.25/ca27089e8cbb0f78a0b40cc3790ffdc1b7716e329eaa61778c376e31d39526e2.json  \n",
            " extracting: testdaten_edit_06.06.25/cb4e64444fcac80db036ad93f0ab03cad7905b55d103eee9d21991c06a4a885f.json  \n",
            " extracting: testdaten_edit_06.06.25/ce391692954c6127ee769e40c85735882cf49ed4d84196f2891e9276c7e13e19.json  \n",
            " extracting: testdaten_edit_06.06.25/d4d51f451e5d2c5b968ca07e04c1390a9bf1f29a3a4809a4a766610564b69616.json  \n",
            " extracting: testdaten_edit_06.06.25/dd4c63e0679a813a313253b141414558ea6660706ca06380aef0e125a7e52b87.json  \n",
            " extracting: testdaten_edit_06.06.25/e1bc57e4d9f8a70b89f942cd9e98aa2937d818c990eda7834866ca6d52c5b78c.json  \n",
            " extracting: testdaten_edit_06.06.25/e39f81d0c7083b9b1499a2fbeb4cd009111210e6939609934ff5298f55990d9c.json  \n",
            " extracting: testdaten_edit_06.06.25/ea02f1daab798c80098297b5cf80623bf655cbae3fc99c0a2442e6d35b634a0a.json  \n",
            " extracting: testdaten_edit_06.06.25/f1b75a80ba8616f0a3376932e6f7a43dbea434d8d3cd368b937f445d03dbb126.json  \n",
            " extracting: testdaten_edit_06.06.25/f6dc66ff8c0ba83cabf18871dbe7a3ed173493720d1a68145e45e70e5e1ab4c3.json  \n",
            " extracting: testdaten_edit_06.06.25/f00607b63021b7065437ec8d90e53c5fbc946e5f75e9680fafbc2a712768fb81.json  \n",
            " extracting: testdaten_edit_06.06.25/fb0bcff512ceb8c12a01dc9a9594034431f3987c1e809c7473d504bdd823c0f9.json  \n"
          ]
        }
      ],
      "source": [
        "!unzip -o \"testdaten_edit_06.06.25.zip\" -d \"testdaten_edit_06.06.25\""
      ]
    },
    {
      "cell_type": "markdown",
      "id": "9608b07b",
      "metadata": {
        "id": "9608b07b"
      },
      "source": [
        "# Pathling Workshop\n",
        "## Getting started\n",
        "### Testdaten Download: https://cloud.uk-erlangen.de/s/qS9BcyYLcpAJWH7\n",
        "\n",
        "### Relevante Links:\n",
        "#### https://build.fhir.org/fhirpath.html\n",
        "#### https://hl7.github.io/fhirpath.js/\n",
        "#### https://www.basisdatensatz.de/basisdatensatz\n",
        "#### https://simplifier.net/guide/mii-ig-modul-onkologie-2024-de/MIIIGModulOnkologie?version=current"
      ]
    },
    {
      "cell_type": "code",
      "execution_count": 2,
      "id": "a5bb6345-88a3-48c3-a07f-dbcc14f45a18",
      "metadata": {
        "execution": {
          "iopub.execute_input": "2025-06-05T11:09:11.168332Z",
          "iopub.status.busy": "2025-06-05T11:09:11.167646Z",
          "iopub.status.idle": "2025-06-05T11:09:14.142762Z",
          "shell.execute_reply": "2025-06-05T11:09:14.141057Z",
          "shell.execute_reply.started": "2025-06-05T11:09:11.168279Z"
        },
        "id": "a5bb6345-88a3-48c3-a07f-dbcc14f45a18",
        "outputId": "2b80af0c-4e80-4d6d-bf81-e5935b6c02a6",
        "colab": {
          "base_uri": "https://localhost:8080/"
        }
      },
      "outputs": [
        {
          "output_type": "stream",
          "name": "stdout",
          "text": [
            "\u001b[33m\r0% [Working]\u001b[0m\r            \rGet:1 https://cloud.r-project.org/bin/linux/ubuntu jammy-cran40/ InRelease [3,632 B]\n",
            "Hit:2 https://developer.download.nvidia.com/compute/cuda/repos/ubuntu2204/x86_64  InRelease\n",
            "Hit:3 http://archive.ubuntu.com/ubuntu jammy InRelease\n",
            "Get:4 https://r2u.stat.illinois.edu/ubuntu jammy InRelease [6,555 B]\n",
            "Get:5 http://security.ubuntu.com/ubuntu jammy-security InRelease [129 kB]\n",
            "Get:6 http://archive.ubuntu.com/ubuntu jammy-updates InRelease [128 kB]\n",
            "Get:7 https://r2u.stat.illinois.edu/ubuntu jammy/main amd64 Packages [2,742 kB]\n",
            "Hit:8 https://ppa.launchpadcontent.net/deadsnakes/ppa/ubuntu jammy InRelease\n",
            "Hit:9 https://ppa.launchpadcontent.net/graphics-drivers/ppa/ubuntu jammy InRelease\n",
            "Get:10 http://archive.ubuntu.com/ubuntu jammy-backports InRelease [127 kB]\n",
            "Hit:11 https://ppa.launchpadcontent.net/ubuntugis/ppa/ubuntu jammy InRelease\n",
            "Get:12 https://r2u.stat.illinois.edu/ubuntu jammy/main all Packages [9,021 kB]\n",
            "Get:13 http://security.ubuntu.com/ubuntu jammy-security/universe amd64 Packages [1,246 kB]\n",
            "Get:14 http://archive.ubuntu.com/ubuntu jammy-updates/main amd64 Packages [3,295 kB]\n",
            "Get:15 http://security.ubuntu.com/ubuntu jammy-security/main amd64 Packages [2,984 kB]\n",
            "Get:16 http://archive.ubuntu.com/ubuntu jammy-updates/universe amd64 Packages [1,553 kB]\n",
            "Fetched 21.2 MB in 3s (7,735 kB/s)\n",
            "Reading package lists... Done\n",
            "Building dependency tree... Done\n",
            "Reading state information... Done\n",
            "39 packages can be upgraded. Run 'apt list --upgradable' to see them.\n",
            "\u001b[1;33mW: \u001b[0mSkipping acquire of configured file 'main/source/Sources' as repository 'https://r2u.stat.illinois.edu/ubuntu jammy InRelease' does not seem to provide it (sources.list entry misspelt?)\u001b[0m\n",
            "Reading package lists... Done\n",
            "Building dependency tree... Done\n",
            "Reading state information... Done\n",
            "The following additional packages will be installed:\n",
            "  openjdk-17-jre-headless\n",
            "Suggested packages:\n",
            "  openjdk-17-demo openjdk-17-source libnss-mdns fonts-dejavu-extra\n",
            "  fonts-ipafont-gothic fonts-ipafont-mincho fonts-wqy-microhei\n",
            "  | fonts-wqy-zenhei fonts-indic\n",
            "The following NEW packages will be installed:\n",
            "  openjdk-17-jdk-headless openjdk-17-jre-headless\n",
            "0 upgraded, 2 newly installed, 0 to remove and 39 not upgraded.\n",
            "Need to get 120 MB of archives.\n",
            "After this operation, 272 MB of additional disk space will be used.\n",
            "Get:1 http://archive.ubuntu.com/ubuntu jammy-updates/universe amd64 openjdk-17-jre-headless amd64 17.0.15+6~us1-0ubuntu1~22.04 [48.3 MB]\n",
            "Get:2 http://archive.ubuntu.com/ubuntu jammy-updates/universe amd64 openjdk-17-jdk-headless amd64 17.0.15+6~us1-0ubuntu1~22.04 [71.3 MB]\n",
            "Fetched 120 MB in 5s (22.2 MB/s)\n",
            "Selecting previously unselected package openjdk-17-jre-headless:amd64.\n",
            "(Reading database ... 126111 files and directories currently installed.)\n",
            "Preparing to unpack .../openjdk-17-jre-headless_17.0.15+6~us1-0ubuntu1~22.04_amd64.deb ...\n",
            "Unpacking openjdk-17-jre-headless:amd64 (17.0.15+6~us1-0ubuntu1~22.04) ...\n",
            "Selecting previously unselected package openjdk-17-jdk-headless:amd64.\n",
            "Preparing to unpack .../openjdk-17-jdk-headless_17.0.15+6~us1-0ubuntu1~22.04_amd64.deb ...\n",
            "Unpacking openjdk-17-jdk-headless:amd64 (17.0.15+6~us1-0ubuntu1~22.04) ...\n",
            "Setting up openjdk-17-jre-headless:amd64 (17.0.15+6~us1-0ubuntu1~22.04) ...\n",
            "update-alternatives: using /usr/lib/jvm/java-17-openjdk-amd64/bin/java to provide /usr/bin/java (java) in auto mode\n",
            "update-alternatives: using /usr/lib/jvm/java-17-openjdk-amd64/bin/jpackage to provide /usr/bin/jpackage (jpackage) in auto mode\n",
            "update-alternatives: using /usr/lib/jvm/java-17-openjdk-amd64/bin/keytool to provide /usr/bin/keytool (keytool) in auto mode\n",
            "update-alternatives: using /usr/lib/jvm/java-17-openjdk-amd64/bin/rmiregistry to provide /usr/bin/rmiregistry (rmiregistry) in auto mode\n",
            "update-alternatives: using /usr/lib/jvm/java-17-openjdk-amd64/lib/jexec to provide /usr/bin/jexec (jexec) in auto mode\n",
            "Setting up openjdk-17-jdk-headless:amd64 (17.0.15+6~us1-0ubuntu1~22.04) ...\n",
            "update-alternatives: using /usr/lib/jvm/java-17-openjdk-amd64/bin/jar to provide /usr/bin/jar (jar) in auto mode\n",
            "update-alternatives: using /usr/lib/jvm/java-17-openjdk-amd64/bin/jarsigner to provide /usr/bin/jarsigner (jarsigner) in auto mode\n",
            "update-alternatives: using /usr/lib/jvm/java-17-openjdk-amd64/bin/javac to provide /usr/bin/javac (javac) in auto mode\n",
            "update-alternatives: using /usr/lib/jvm/java-17-openjdk-amd64/bin/javadoc to provide /usr/bin/javadoc (javadoc) in auto mode\n",
            "update-alternatives: using /usr/lib/jvm/java-17-openjdk-amd64/bin/javap to provide /usr/bin/javap (javap) in auto mode\n",
            "update-alternatives: using /usr/lib/jvm/java-17-openjdk-amd64/bin/jcmd to provide /usr/bin/jcmd (jcmd) in auto mode\n",
            "update-alternatives: using /usr/lib/jvm/java-17-openjdk-amd64/bin/jdb to provide /usr/bin/jdb (jdb) in auto mode\n",
            "update-alternatives: using /usr/lib/jvm/java-17-openjdk-amd64/bin/jdeprscan to provide /usr/bin/jdeprscan (jdeprscan) in auto mode\n",
            "update-alternatives: using /usr/lib/jvm/java-17-openjdk-amd64/bin/jdeps to provide /usr/bin/jdeps (jdeps) in auto mode\n",
            "update-alternatives: using /usr/lib/jvm/java-17-openjdk-amd64/bin/jfr to provide /usr/bin/jfr (jfr) in auto mode\n",
            "update-alternatives: using /usr/lib/jvm/java-17-openjdk-amd64/bin/jimage to provide /usr/bin/jimage (jimage) in auto mode\n",
            "update-alternatives: using /usr/lib/jvm/java-17-openjdk-amd64/bin/jinfo to provide /usr/bin/jinfo (jinfo) in auto mode\n",
            "update-alternatives: using /usr/lib/jvm/java-17-openjdk-amd64/bin/jlink to provide /usr/bin/jlink (jlink) in auto mode\n",
            "update-alternatives: using /usr/lib/jvm/java-17-openjdk-amd64/bin/jmap to provide /usr/bin/jmap (jmap) in auto mode\n",
            "update-alternatives: using /usr/lib/jvm/java-17-openjdk-amd64/bin/jmod to provide /usr/bin/jmod (jmod) in auto mode\n",
            "update-alternatives: using /usr/lib/jvm/java-17-openjdk-amd64/bin/jps to provide /usr/bin/jps (jps) in auto mode\n",
            "update-alternatives: using /usr/lib/jvm/java-17-openjdk-amd64/bin/jrunscript to provide /usr/bin/jrunscript (jrunscript) in auto mode\n",
            "update-alternatives: using /usr/lib/jvm/java-17-openjdk-amd64/bin/jshell to provide /usr/bin/jshell (jshell) in auto mode\n",
            "update-alternatives: using /usr/lib/jvm/java-17-openjdk-amd64/bin/jstack to provide /usr/bin/jstack (jstack) in auto mode\n",
            "update-alternatives: using /usr/lib/jvm/java-17-openjdk-amd64/bin/jstat to provide /usr/bin/jstat (jstat) in auto mode\n",
            "update-alternatives: using /usr/lib/jvm/java-17-openjdk-amd64/bin/jstatd to provide /usr/bin/jstatd (jstatd) in auto mode\n",
            "update-alternatives: using /usr/lib/jvm/java-17-openjdk-amd64/bin/serialver to provide /usr/bin/serialver (serialver) in auto mode\n",
            "update-alternatives: using /usr/lib/jvm/java-17-openjdk-amd64/bin/jhsdb to provide /usr/bin/jhsdb (jhsdb) in auto mode\n",
            "Collecting pathling==7.2.0\n",
            "  Downloading pathling-7.2.0-py2.py3-none-any.whl.metadata (12 kB)\n",
            "Requirement already satisfied: pandas==2.2.2 in /usr/local/lib/python3.11/dist-packages (2.2.2)\n",
            "Collecting matplotlib==3.9.1\n",
            "  Downloading matplotlib-3.9.1-cp311-cp311-manylinux_2_17_x86_64.manylinux2014_x86_64.whl.metadata (11 kB)\n",
            "Collecting pyspark<3.6.0,>=3.5.3 (from pathling==7.2.0)\n",
            "  Downloading pyspark-3.5.6.tar.gz (317.4 MB)\n",
            "\u001b[2K     \u001b[90m━━━━━━━━━━━━━━━━━━━━━━━━━━━━━━━━━━━━━━━\u001b[0m \u001b[32m317.4/317.4 MB\u001b[0m \u001b[31m4.7 MB/s\u001b[0m eta \u001b[36m0:00:00\u001b[0m\n",
            "\u001b[?25h  Preparing metadata (setup.py) ... \u001b[?25l\u001b[?25hdone\n",
            "Collecting deprecated>=1.2.13 (from pathling==7.2.0)\n",
            "  Downloading Deprecated-1.2.18-py2.py3-none-any.whl.metadata (5.7 kB)\n",
            "Requirement already satisfied: numpy>=1.23.2 in /usr/local/lib/python3.11/dist-packages (from pandas==2.2.2) (2.0.2)\n",
            "Requirement already satisfied: python-dateutil>=2.8.2 in /usr/local/lib/python3.11/dist-packages (from pandas==2.2.2) (2.9.0.post0)\n",
            "Requirement already satisfied: pytz>=2020.1 in /usr/local/lib/python3.11/dist-packages (from pandas==2.2.2) (2025.2)\n",
            "Requirement already satisfied: tzdata>=2022.7 in /usr/local/lib/python3.11/dist-packages (from pandas==2.2.2) (2025.2)\n",
            "Requirement already satisfied: contourpy>=1.0.1 in /usr/local/lib/python3.11/dist-packages (from matplotlib==3.9.1) (1.3.2)\n",
            "Requirement already satisfied: cycler>=0.10 in /usr/local/lib/python3.11/dist-packages (from matplotlib==3.9.1) (0.12.1)\n",
            "Requirement already satisfied: fonttools>=4.22.0 in /usr/local/lib/python3.11/dist-packages (from matplotlib==3.9.1) (4.58.1)\n",
            "Requirement already satisfied: kiwisolver>=1.3.1 in /usr/local/lib/python3.11/dist-packages (from matplotlib==3.9.1) (1.4.8)\n",
            "Requirement already satisfied: packaging>=20.0 in /usr/local/lib/python3.11/dist-packages (from matplotlib==3.9.1) (24.2)\n",
            "Requirement already satisfied: pillow>=8 in /usr/local/lib/python3.11/dist-packages (from matplotlib==3.9.1) (11.2.1)\n",
            "Requirement already satisfied: pyparsing>=2.3.1 in /usr/local/lib/python3.11/dist-packages (from matplotlib==3.9.1) (3.2.3)\n",
            "Requirement already satisfied: wrapt<2,>=1.10 in /usr/local/lib/python3.11/dist-packages (from deprecated>=1.2.13->pathling==7.2.0) (1.17.2)\n",
            "Requirement already satisfied: py4j==0.10.9.7 in /usr/local/lib/python3.11/dist-packages (from pyspark<3.6.0,>=3.5.3->pathling==7.2.0) (0.10.9.7)\n",
            "Requirement already satisfied: six>=1.5 in /usr/local/lib/python3.11/dist-packages (from python-dateutil>=2.8.2->pandas==2.2.2) (1.17.0)\n",
            "\u001b[33mWARNING: The candidate selected for download or install is a yanked version: 'matplotlib' candidate (version 3.9.1 at https://files.pythonhosted.org/packages/b8/63/cef838d92c1918ae28afd12b8aeaa9c104a0686cf6447aa0546f7c6dd1f0/matplotlib-3.9.1-cp311-cp311-manylinux_2_17_x86_64.manylinux2014_x86_64.whl (from https://pypi.org/simple/matplotlib/) (requires-python:>=3.9))\n",
            "Reason for being yanked: The Windows wheels, under some conditions, caused segfaults in unrelated user code.  Due to this we deleted the Windows wheels to prevent these segfaults, however this caused greater disruption as pip then began to try (and fail) to build 3.9.1 from the sdist on Windows which impacted far more users.  Yanking the whole release is the only tool available to eliminate these failures without changes to on the user side.  The sdist, OSX wheel, and manylinux wheels are all functional and there are no critical bugs in the release.   Downstream packagers should not yank their builds of Matplotlib 3.9.1.  See https://github.com/matplotlib/matplotlib/issues/28551 for details.\u001b[0m\u001b[33m\n",
            "\u001b[0mDownloading pathling-7.2.0-py2.py3-none-any.whl (71 kB)\n",
            "\u001b[2K   \u001b[90m━━━━━━━━━━━━━━━━━━━━━━━━━━━━━━━━━━━━━━━━\u001b[0m \u001b[32m71.6/71.6 kB\u001b[0m \u001b[31m6.5 MB/s\u001b[0m eta \u001b[36m0:00:00\u001b[0m\n",
            "\u001b[?25hDownloading matplotlib-3.9.1-cp311-cp311-manylinux_2_17_x86_64.manylinux2014_x86_64.whl (8.3 MB)\n",
            "\u001b[2K   \u001b[90m━━━━━━━━━━━━━━━━━━━━━━━━━━━━━━━━━━━━━━━━\u001b[0m \u001b[32m8.3/8.3 MB\u001b[0m \u001b[31m110.0 MB/s\u001b[0m eta \u001b[36m0:00:00\u001b[0m\n",
            "\u001b[?25hDownloading Deprecated-1.2.18-py2.py3-none-any.whl (10.0 kB)\n",
            "Building wheels for collected packages: pyspark\n",
            "  Building wheel for pyspark (setup.py) ... \u001b[?25l\u001b[?25hdone\n",
            "  Created wheel for pyspark: filename=pyspark-3.5.6-py2.py3-none-any.whl size=317895798 sha256=e30047c349ee87f221138c8b70d0af203e913eb0b23228c27d712fb74286ff64\n",
            "  Stored in directory: /root/.cache/pip/wheels/fc/97/82/2e7d88fca39c390b8f0745ff0719516a806a697e5e095ada48\n",
            "Successfully built pyspark\n",
            "Installing collected packages: pyspark, deprecated, pathling, matplotlib\n",
            "  Attempting uninstall: pyspark\n",
            "    Found existing installation: pyspark 3.5.1\n",
            "    Uninstalling pyspark-3.5.1:\n",
            "      Successfully uninstalled pyspark-3.5.1\n",
            "  Attempting uninstall: matplotlib\n",
            "    Found existing installation: matplotlib 3.10.0\n",
            "    Uninstalling matplotlib-3.10.0:\n",
            "      Successfully uninstalled matplotlib-3.10.0\n",
            "Successfully installed deprecated-1.2.18 matplotlib-3.9.1 pathling-7.2.0 pyspark-3.5.6\n"
          ]
        }
      ],
      "source": [
        "!apt update\n",
        "!apt install -y openjdk-17-jdk-headless\n",
        "!pip install pathling==7.2.0 pandas==2.2.2 matplotlib==3.9.1"
      ]
    },
    {
      "cell_type": "markdown",
      "id": "c8ee90f5-824d-4490-8262-222507de5662",
      "metadata": {
        "execution": {
          "iopub.execute_input": "2025-05-28T08:22:49.178122Z",
          "iopub.status.busy": "2025-05-28T08:22:49.177510Z",
          "iopub.status.idle": "2025-05-28T08:22:51.539759Z",
          "shell.execute_reply": "2025-05-28T08:22:51.538139Z",
          "shell.execute_reply.started": "2025-05-28T08:22:49.178066Z"
        },
        "id": "c8ee90f5-824d-4490-8262-222507de5662"
      },
      "source": [
        "# Einführung in die FHIR-Datenextraktion und -analyse mit Pathling"
      ]
    },
    {
      "cell_type": "code",
      "execution_count": 3,
      "id": "19ad03d7-6ac7-4811-bb04-7135d128b119",
      "metadata": {
        "execution": {
          "iopub.execute_input": "2025-06-05T18:52:46.714584Z",
          "iopub.status.busy": "2025-06-05T18:52:46.714023Z",
          "iopub.status.idle": "2025-06-05T18:52:46.796101Z",
          "shell.execute_reply": "2025-06-05T18:52:46.794673Z",
          "shell.execute_reply.started": "2025-06-05T18:52:46.714536Z"
        },
        "id": "19ad03d7-6ac7-4811-bb04-7135d128b119"
      },
      "outputs": [],
      "source": [
        "from pathling import PathlingContext, Expression as exp\n",
        "from pyspark.sql import SparkSession\n",
        "\n",
        "from pyspark.sql.functions import col, regexp_replace, to_date\n",
        "\n",
        "spark = (\n",
        "    SparkSession.builder.config(\n",
        "        \"spark.jars.packages\",\n",
        "        \"au.csiro.pathling:library-runtime:7.2.0,\",\n",
        "        # \"io.delta:delta-core_2.12:2.4.0,\"\n",
        "        # \"org.apache.hadoop:hadoop-aws:3.3.4\",\n",
        "    )\n",
        "    .config(\"spark.executor.memory\", \"8g\")\n",
        "    .config(\"spark.driver.memory\", \"10g\")\n",
        "    .config(\"spark.serializer\", \"org.apache.spark.serializer.KryoSerializer\")\n",
        "    .getOrCreate()\n",
        ")\n",
        "\n",
        "spark.sparkContext.setCheckpointDir(\"/tmp\")\n",
        "\n",
        "pc = PathlingContext.create(\n",
        "    spark=spark,\n",
        "    enable_extensions=True,\n",
        "    enable_delta=True,\n",
        "    enable_terminology=False,\n",
        ")"
      ]
    },
    {
      "cell_type": "code",
      "execution_count": 4,
      "id": "8511c788-e0c5-47cf-bda4-b75038d86075",
      "metadata": {
        "execution": {
          "iopub.execute_input": "2025-06-05T18:52:48.248348Z",
          "iopub.status.busy": "2025-06-05T18:52:48.247766Z",
          "iopub.status.idle": "2025-06-05T18:52:49.879123Z",
          "shell.execute_reply": "2025-06-05T18:52:49.877714Z",
          "shell.execute_reply.started": "2025-06-05T18:52:48.248296Z"
        },
        "id": "8511c788-e0c5-47cf-bda4-b75038d86075"
      },
      "outputs": [],
      "source": [
        "### Load Patient Data\n",
        "# Wir laden die einzelnen FHIR-Bundles in eine Pathling data source\n",
        "\n",
        "# !!Vorher müssen die json-Files in den Ordner data/ hier in die Laufzeit hochgeladen werden!!\n",
        "# TO DO: curl repo and download images here\n",
        "\n",
        "data = pc.read.bundles(\n",
        "    \"./testdaten_edit_06.06.25\", [\"Patient\", \"Condition\", \"Observation\", \"Procedure\"]\n",
        ")"
      ]
    },
    {
      "cell_type": "code",
      "execution_count": 5,
      "id": "a7abc06b-10a8-4550-bcf8-85439b7a1eed",
      "metadata": {
        "execution": {
          "iopub.execute_input": "2025-06-05T18:52:49.882024Z",
          "iopub.status.busy": "2025-06-05T18:52:49.881498Z",
          "iopub.status.idle": "2025-06-05T18:52:49.888568Z",
          "shell.execute_reply": "2025-06-05T18:52:49.887924Z",
          "shell.execute_reply.started": "2025-06-05T18:52:49.881973Z"
        },
        "id": "a7abc06b-10a8-4550-bcf8-85439b7a1eed",
        "outputId": "7c6ed485-d751-47fb-e873-220c5f471e50",
        "colab": {
          "base_uri": "https://localhost:8080/"
        }
      },
      "outputs": [
        {
          "output_type": "execute_result",
          "data": {
            "text/plain": [
              "<pathling.datasource.DataSource at 0x788b0e77c350>"
            ]
          },
          "metadata": {},
          "execution_count": 5
        }
      ],
      "source": [
        "data"
      ]
    },
    {
      "cell_type": "markdown",
      "id": "4c07e9d5-4a49-4144-a1e3-37a0820f493e",
      "metadata": {
        "id": "4c07e9d5-4a49-4144-a1e3-37a0820f493e"
      },
      "source": [
        "_______________________________________________________________________"
      ]
    },
    {
      "cell_type": "markdown",
      "id": "781897be-b1af-428b-a036-c2cae5f1c703",
      "metadata": {
        "id": "781897be-b1af-428b-a036-c2cae5f1c703"
      },
      "source": [
        "# MII Resourcen - Erweiterungsmodul Onkologie\n",
        "## Implementation Guide\n",
        "https://simplifier.net/guide/mii-ig-modul-onkologie-2024-de/MIIIGModulOnkologie?version=current"
      ]
    },
    {
      "cell_type": "markdown",
      "id": "67a50695-b1e7-4c60-a670-7f3754848b5e",
      "metadata": {
        "id": "67a50695-b1e7-4c60-a670-7f3754848b5e"
      },
      "source": [
        "# THEMEN:\n",
        "## 1. Extract\n",
        "## 2. Combining Resource Types\n",
        "### 2.1 Join\n",
        "### 2.2 Resolve\n",
        "### 2.3 ReverseResolve\n",
        "## 3. GROUP EXERCISE: 4 entities\n",
        "### 3.1 Diagnosis frequency\n",
        "### 3.2 Gender distribution\n",
        "### 3.3 Age distribution\n",
        "### 3.4 Therapy analysis: surgery, radiotherapy\n",
        "### 3.5 Free Analysis - or time for group work brain storming\n",
        "________________________________________________________________________"
      ]
    },
    {
      "cell_type": "markdown",
      "id": "12e68dc2-c2df-4c96-af4c-391564e165ae",
      "metadata": {
        "id": "12e68dc2-c2df-4c96-af4c-391564e165ae"
      },
      "source": [
        "# 1. Extract"
      ]
    },
    {
      "cell_type": "markdown",
      "id": "d61e7b40-a051-494b-bbbc-b663f87d45fd",
      "metadata": {
        "id": "d61e7b40-a051-494b-bbbc-b663f87d45fd"
      },
      "source": [
        "## PATIENT -- RESOURCENTYP: PATIENT\n",
        "https://www.medizininformatik-initiative.de/Kerndatensatz/Modul_Person_Version_2/MIIIGModulPerson-TechnischeImplementierung-FHIR-Profile-PseudonymisiertePatientinPatient.html"
      ]
    },
    {
      "cell_type": "code",
      "execution_count": 6,
      "id": "d24e2385-d2dd-4be3-a2aa-10b3b1ae3732",
      "metadata": {
        "execution": {
          "iopub.execute_input": "2025-06-05T18:52:52.844494Z",
          "iopub.status.busy": "2025-06-05T18:52:52.843865Z",
          "iopub.status.idle": "2025-06-05T18:52:56.286427Z",
          "shell.execute_reply": "2025-06-05T18:52:56.284929Z",
          "shell.execute_reply.started": "2025-06-05T18:52:52.844442Z"
        },
        "id": "d24e2385-d2dd-4be3-a2aa-10b3b1ae3732",
        "outputId": "d1535952-9a22-44d6-83d9-75ea9f885ae7",
        "colab": {
          "base_uri": "https://localhost:8080/"
        }
      },
      "outputs": [
        {
          "output_type": "stream",
          "name": "stdout",
          "text": [
            "72\n"
          ]
        }
      ],
      "source": [
        "### Extract Patient Data\n",
        "\n",
        "# Wir nutzen `extract`, um nur den Resourcentyp Patient aus der Pathling datasource zu extrahieren und in einen Pyspark Dataframe zu laden\n",
        "# mithilfe von FHIR Path Ausdrücken können wir in Arrays verschachtelte FHIR Elemente \"ausklappen\" und als Spalte darstellen\n",
        "# exp(\"<FHIR Path Ausdruck>\", \"<Spaltenname>\")\n",
        "\n",
        "# Dabei extrahieren wir:\n",
        "# - die einmalige FHIR Resource ID für jede Patientenresource\n",
        "# - die pseudonymisierte Patienten-ID\n",
        "# - das Geschlecht\n",
        "# - das Geburtsdatum\n",
        "# - das Sterbedatum\n",
        "\n",
        "patients = data.extract(\n",
        "    \"Patient\",\n",
        "    columns=[\n",
        "        exp(\"id\", \"patient_resource_id\"),\n",
        "        exp(\n",
        "            \"identifier.where(type.coding.where(system='http://terminology.hl7.org/CodeSystem/v2-0203' and code='MR').exists()).value\",\n",
        "            \"patid_pseudonym\",\n",
        "        ),\n",
        "        exp(\"gender\", \"gender\"),\n",
        "        exp(\"birthDate\", \"birth_date\"),\n",
        "        exp(\"deceasedDateTime\", \"deceased_datetime\"),\n",
        "    ],\n",
        ")\n",
        "\n",
        "# da die extract Funktion relativ resourcenintensiv werden kann in Abhängigkeit der Datenmenge, und da Spark \"lazy\" agiert, lohnt es sich hier Spark Checkpoint einzusetzen\n",
        "# \"lazy\" bedeutet, dass Spark alle Befehle in einer To Do Liste sammelt und erst nach einer \"Action\" ausführt.\n",
        "# Außerdem speichert Spark keinen materialisierten Zwischenstand des dataframes, wenn man das nicht ausdrücklich verlangt\n",
        "# mithilfe des Checkpoints können wir einen solchen Zwischenstand des dataframes zwischenspeichern und verhindern somit, dass Spark dieselben Schritte immer wieder ausführt\n",
        "# das \"count\" brauchen wir hier als Action, damit auch der checkpoint sofort ausgeführt wird und nicht aufgrund der \"laziness\" in die To Do Liste wandert\n",
        "# mithilfe von spark.sparkContext.setCheckpointDir() können wir den Speicherort der Checkpoints festlegen\n",
        "\n",
        "patients = patients.checkpoint(eager=True)\n",
        "patients_count = patients.count()  # enforce checkpoint\n",
        "\n",
        "print(patients_count)"
      ]
    },
    {
      "cell_type": "code",
      "execution_count": 7,
      "id": "878ed3d5-23db-456a-bc40-369b02f0cdaa",
      "metadata": {
        "execution": {
          "iopub.execute_input": "2025-06-05T18:52:56.289688Z",
          "iopub.status.busy": "2025-06-05T18:52:56.288868Z",
          "iopub.status.idle": "2025-06-05T18:52:56.391131Z",
          "shell.execute_reply": "2025-06-05T18:52:56.390608Z",
          "shell.execute_reply.started": "2025-06-05T18:52:56.289639Z"
        },
        "id": "878ed3d5-23db-456a-bc40-369b02f0cdaa",
        "outputId": "93554fdc-12cb-4066-c86f-6c1fefa29983",
        "colab": {
          "base_uri": "https://localhost:8080/"
        }
      },
      "outputs": [
        {
          "output_type": "stream",
          "name": "stdout",
          "text": [
            "+-------------------+----------------+------+----------+-----------------+\n",
            "|patient_resource_id| patid_pseudonym|gender|birth_date|deceased_datetime|\n",
            "+-------------------+----------------+------+----------+-----------------+\n",
            "|   60271b372396f53a|2f4017ec9a0d48c3|female|1954-06-30|       2024-07-25|\n",
            "|   733b6df2aeaaff06|897acc358f405500|female|1935-08-21|       2019-06-25|\n",
            "|   114b17715cd8962f|7a258cbfec3c558c|  male|1948-12-06|       2023-11-10|\n",
            "|   64ffc8f6e2a04bf5|1f8367d0b53064c2|  male|1940-06-22|       2024-04-16|\n",
            "|   9ba79939ecbcae8f|550d43f7d5cc0b99|  male|1952-03-09|       2019-04-09|\n",
            "|   a1d728be37480030|6e98dce2f6665e34|  male|1985-09-20|             NULL|\n",
            "|   ce38bdeb6979b366|fd59faa459aa1b58|female|2006-03-11|             NULL|\n",
            "|   9a80d68214de0bd4|0fe7da3a23578158|female|1946-12-16|             NULL|\n",
            "|   4a58365a0b7626a8|6c361d87cf623ee9|female|1962-10-25|             NULL|\n",
            "|   ba3253fe6ca96286|ad09e0030f7313f6|  male|1947-09-06|             NULL|\n",
            "|   847d834b896e3a1d|874de26b0fe8d1ec|  male|1970-05-13|             NULL|\n",
            "|   437e8f9eae081c75|fc10ae29d9fa0a14|  male|1948-04-06|             NULL|\n",
            "|   3cda8e94d07a0709|59a13bc638788557|female|1986-10-05|             NULL|\n",
            "|   52b7120e3fc05325|b086d01df7325249|  male|1965-06-22|             NULL|\n",
            "|   79fa4eb7cadef929|ca363e555351a324|female|1945-01-27|             NULL|\n",
            "|   7f2318f53b459500|af2c6ffe972bd869|female|1970-07-21|             NULL|\n",
            "|   c8490233e2b2a928|777535caa6d34e27|  male|1970-01-06|             NULL|\n",
            "|   eb49c8cc92207e82|4dfd45ed72c18f56|  male|1954-05-08|             NULL|\n",
            "|   35ead2589e72ad07|54d3b4d0a7737549|  male|1983-12-14|             NULL|\n",
            "|   f0307634eb85ac96|e21bddef1c8868d6|female|1946-09-03|             NULL|\n",
            "|   1f397d69496919fc|a2d3e71c34993a0b|  male|1991-08-11|             NULL|\n",
            "|   07ec02b49e0b7aba|02024496e0b0bbd0|  male|1952-07-26|             NULL|\n",
            "|   e6573e3c68ea98f2|690fc95f6e6ac7bb|female|1943-09-12|             NULL|\n",
            "|   c9a0ff4052f66694|7376eec3bda52c36|  male|1954-09-05|             NULL|\n",
            "|   be346e0fecc66702|c3cb058158b22b69|female|1944-10-11|             NULL|\n",
            "|   6be5fcae3308a468|a2f2aefd463efaba|female|1969-04-22|             NULL|\n",
            "|   1a29351020e186a6|ae54708e21efe7ba|  male|1946-08-04|             NULL|\n",
            "|   68a0e992e0d91698|265576fcb9672764|  male|1958-02-26|             NULL|\n",
            "|   e33a2618c6e1a606|0475687e595c4b7b|female|1954-10-13|             NULL|\n",
            "|   eb9728de512f00ec|15d8e14a10e068b8|female|1958-11-13|             NULL|\n",
            "|   146b0071371fe6e6|e9a460fd4950bcb0|  male|1974-02-04|             NULL|\n",
            "|   150dcba579b4985d|99f5a1dcf9839f0a|  male|2010-12-16|             NULL|\n",
            "|   f3c131b13cbe3216|9028a3386120ec94|  male|1960-01-05|             NULL|\n",
            "|   2077049623716fd1|b2720f34b89d9245|female|1940-12-07|             NULL|\n",
            "|   69644926a2875823|8988ec5db74e3446|female|1949-12-13|             NULL|\n",
            "|   d519100ec65f8463|8a5f68d4af98aeca|female|1938-03-09|             NULL|\n",
            "|   ab0f1ed341372001|2b652c00c32a7f23|  male|1965-07-29|             NULL|\n",
            "|   4f7b657ae62cb1f0|e585243ed4c6ba5b|female|1943-11-05|             NULL|\n",
            "|   71d7ce5bbdf4c09a|3885e9aa7e691af0|female|1991-05-24|             NULL|\n",
            "|   e5c41057a1b66cda|6d85de25529cff53|  male|1939-06-28|             NULL|\n",
            "|   3875fc2637316141|74f005020d523886|female|2003-09-14|             NULL|\n",
            "|   befae30c74019b1c|e6453cef780335f7|  male|1955-12-28|             NULL|\n",
            "|   8e10679922d50f99|525435898cd242fd|  male|1954-02-04|             NULL|\n",
            "|   3698207ddd269247|033959a00c40ffb4|female|1971-10-30|             NULL|\n",
            "|   835107adef733603|88370bc88e2f867e|  male|1977-04-18|             NULL|\n",
            "|   bc2a1febe3171a48|6e10064de82b37de|  male|1973-08-13|             NULL|\n",
            "|   b232a510b3cbd410|0edf6e1e8ad3e607|female|1966-07-19|             NULL|\n",
            "|   6b8a354c3efad190|a5f9039dc93a3ec5|  male|1971-11-30|             NULL|\n",
            "|   f44db4a5131c0ae2|10e14a11759058db|female|1945-06-01|             NULL|\n",
            "|   50cbcfff7d06dc25|e0f490515d505599|female|1986-11-04|             NULL|\n",
            "|   ceb53268e9158898|0f069f1f4799b1ca|female|2024-02-04|             NULL|\n",
            "|   5cc1af2309e29e00|ed9dc76fe9f770f2|  male|1955-11-23|             NULL|\n",
            "|   b90e420a6b680c0d|daea3f56491d7e11|  male|1967-06-27|             NULL|\n",
            "|   9a79159bda44a2de|7c0adc238acd5789|  male|1993-01-19|             NULL|\n",
            "|   cc2d75349812f146|03dce5400ee975cd|  male|1939-01-26|             NULL|\n",
            "|   d85cf173277cf6fc|7642512ad6451717|female|1949-05-23|             NULL|\n",
            "|   3b2f3fa2e95230cd|d11500d025918563|  male|1972-08-18|             NULL|\n",
            "|   f7af2b9dcfa04d8c|a61f3e73ee67760a|  male|1995-04-19|             NULL|\n",
            "|   1e2fd734cf35cf44|c407872dea98a2b9|  male|1949-11-15|             NULL|\n",
            "|   fec730686892c631|dbff7aa920956fde|  male|1952-07-20|             NULL|\n",
            "|   7bd4e4bef7525055|2fd13c28ea85341f|female|1974-10-25|             NULL|\n",
            "|   ede861350630aad2|65af284f62167c91|  male|1959-06-02|             NULL|\n",
            "|   d239c43f8031a31f|e84f76477c5b0028|female|1946-12-17|             NULL|\n",
            "|   0a5f3ad16294b73a|faa462f05466be4d|  male|1954-08-21|             NULL|\n",
            "|   4eb565eedf9e2d7c|bb1f1e250eb74db1|  male|1958-07-03|             NULL|\n",
            "|   61ed44a223187661|bc1a1b4fe47fdb71|  male|1949-04-29|             NULL|\n",
            "|   e243400fe9c43b79|66114d9620ecd6f3|  male|1981-05-08|             NULL|\n",
            "|   0fae573b17cb69e5|54656b6bc73b3e67|  male|1957-02-18|             NULL|\n",
            "|   21560e6558e3bce2|5c2b413aa84ba1da|female|1962-11-24|             NULL|\n",
            "|   486a10dac0d746cd|d7052e8b2a67419f|  male|1976-03-06|             NULL|\n",
            "|   e6f48bd3bc9800c8|9c66451b0837e1a8|female|1975-07-08|             NULL|\n",
            "|   0c5298eb234951b1|012657b165e05913|  male|1965-01-18|             NULL|\n",
            "+-------------------+----------------+------+----------+-----------------+\n",
            "\n"
          ]
        }
      ],
      "source": [
        "patients.show(72)"
      ]
    },
    {
      "cell_type": "code",
      "execution_count": 8,
      "id": "74e20cd6-0989-43c5-94f3-ace7a067dc7c",
      "metadata": {
        "execution": {
          "iopub.execute_input": "2025-06-05T18:52:56.391983Z",
          "iopub.status.busy": "2025-06-05T18:52:56.391801Z",
          "iopub.status.idle": "2025-06-05T18:52:56.505994Z",
          "shell.execute_reply": "2025-06-05T18:52:56.505050Z",
          "shell.execute_reply.started": "2025-06-05T18:52:56.391966Z"
        },
        "id": "74e20cd6-0989-43c5-94f3-ace7a067dc7c",
        "outputId": "d9a24d7a-e884-46f3-ef25-a1b00a63f063",
        "colab": {
          "base_uri": "https://localhost:8080/"
        }
      },
      "outputs": [
        {
          "output_type": "execute_result",
          "data": {
            "text/plain": [
              "72"
            ]
          },
          "metadata": {},
          "execution_count": 8
        }
      ],
      "source": [
        "# good practice: immer die Gesamtanzahl im Auge behalten\n",
        "# weil: potentiell explosionsartiges Duplizieren\n",
        "# z.B. mit count distinct resource ids --> manchmal kann ein zu ungenau spezifiziertes extract der Arrays dazu führen, dass durch das Aufklappen eines Arrays\n",
        "# mit mehr als einem Element mehrere Zeilen pro Patient (oder Diagnose, etc) erzeugt werden\n",
        "patients.select(\"patient_resource_id\").distinct().count()"
      ]
    },
    {
      "cell_type": "code",
      "execution_count": 9,
      "id": "eeeaf769-eaa3-4343-b7d0-5b112fd0e16b",
      "metadata": {
        "execution": {
          "iopub.execute_input": "2025-06-05T18:52:57.486034Z",
          "iopub.status.busy": "2025-06-05T18:52:57.485429Z",
          "iopub.status.idle": "2025-06-05T18:52:57.600811Z",
          "shell.execute_reply": "2025-06-05T18:52:57.599358Z",
          "shell.execute_reply.started": "2025-06-05T18:52:57.485983Z"
        },
        "id": "eeeaf769-eaa3-4343-b7d0-5b112fd0e16b",
        "outputId": "e9a8fae3-386a-489a-cc6c-53d401fb5fdb",
        "colab": {
          "base_uri": "https://localhost:8080/"
        }
      },
      "outputs": [
        {
          "output_type": "stream",
          "name": "stdout",
          "text": [
            "Verstorben: 5 , lebend oder unbekannt: 67\n"
          ]
        }
      ],
      "source": [
        "# Übung: Wieviele Patient*innen unserer Kohorte sind verstorben und wieviele leben noch bzw. haben keine Sterbeinformation?\n",
        "\n",
        "## LÖSUNG:\n",
        "verstorben = patients.filter(col(\"deceased_datetime\").isNotNull()).count()\n",
        "lebend = patients.filter(col(\"deceased_datetime\").isNull()).count()\n",
        "\n",
        "print(\"Verstorben:\", verstorben, \", lebend oder unbekannt:\", lebend)"
      ]
    },
    {
      "cell_type": "markdown",
      "id": "cf4ae697-dc40-4b42-9e41-ab7e2a514dd4",
      "metadata": {
        "id": "cf4ae697-dc40-4b42-9e41-ab7e2a514dd4"
      },
      "source": [
        "## PRIMAERDIAGNOSE -- RESOURCENTYP: CONDITION\n",
        "https://simplifier.net/guide/mii-ig-modul-onkologie-2024-de/MIIIGModulOnkologie/TechnischeImplementierung/FHIR-Profile/Diagnose/Diagnose-Condition.page.md?version=current"
      ]
    },
    {
      "cell_type": "code",
      "execution_count": 10,
      "id": "e7c3cfd9-cc4e-426b-b937-886b4911e2e0",
      "metadata": {
        "execution": {
          "iopub.execute_input": "2025-06-05T18:52:58.384986Z",
          "iopub.status.busy": "2025-06-05T18:52:58.383905Z",
          "iopub.status.idle": "2025-06-05T18:53:00.233582Z",
          "shell.execute_reply": "2025-06-05T18:53:00.232487Z",
          "shell.execute_reply.started": "2025-06-05T18:52:58.384946Z"
        },
        "id": "e7c3cfd9-cc4e-426b-b937-886b4911e2e0",
        "outputId": "9e2bfa7a-c1e9-478d-ae1c-c8110dd8fd86",
        "colab": {
          "base_uri": "https://localhost:8080/"
        }
      },
      "outputs": [
        {
          "output_type": "stream",
          "name": "stdout",
          "text": [
            "72\n"
          ]
        }
      ],
      "source": [
        "# wir extrahieren alle Diagnosen - jede Diagnose hat eine eindeutige ID\n",
        "# wieviele eindeutige Diagnosen haben wir?\n",
        "\n",
        "conditions = data.extract(\n",
        "    \"Condition\",\n",
        "    columns=[\n",
        "        exp(\"id\", \"condition_resource_id\"),\n",
        "    ],\n",
        ")\n",
        "conditions = conditions.checkpoint(eager=True)\n",
        "conditions_count = conditions.count()  # enforce checkpoint\n",
        "\n",
        "print(conditions_count)"
      ]
    },
    {
      "cell_type": "code",
      "execution_count": 11,
      "id": "bbdbd785-64bd-4246-b40f-70b5aaa69d38",
      "metadata": {
        "execution": {
          "iopub.execute_input": "2025-06-05T18:53:00.235815Z",
          "iopub.status.busy": "2025-06-05T18:53:00.235402Z",
          "iopub.status.idle": "2025-06-05T18:53:00.455666Z",
          "shell.execute_reply": "2025-06-05T18:53:00.454478Z",
          "shell.execute_reply.started": "2025-06-05T18:53:00.235779Z"
        },
        "id": "bbdbd785-64bd-4246-b40f-70b5aaa69d38",
        "outputId": "7b578bcb-6218-4f43-f265-84d5f388ba47",
        "colab": {
          "base_uri": "https://localhost:8080/"
        }
      },
      "outputs": [
        {
          "output_type": "execute_result",
          "data": {
            "text/plain": [
              "72"
            ]
          },
          "metadata": {},
          "execution_count": 11
        }
      ],
      "source": [
        "# good practice: count distinct ids\n",
        "conditions.select(\"condition_resource_id\").distinct().count()"
      ]
    },
    {
      "cell_type": "code",
      "execution_count": 12,
      "id": "0c51f743",
      "metadata": {
        "id": "0c51f743",
        "outputId": "4e2ceb5d-538b-43ac-a32d-b34e8afeb3c4",
        "colab": {
          "base_uri": "https://localhost:8080/"
        }
      },
      "outputs": [
        {
          "output_type": "stream",
          "name": "stdout",
          "text": [
            "72\n"
          ]
        }
      ],
      "source": [
        "# dazu extrahieren wir den ICD10 Diagnose Code\n",
        "\n",
        "# \"where\" in der FHIR Path Expression exp...() ist die Projektion (analog zu WHERE in SQL)\n",
        "# das \"where\" im Filter ist die tatsächliche Selektion (analog zu SELECT in SQL)\n",
        "\n",
        "conditions = data.extract(\n",
        "    \"Condition\",\n",
        "    columns=[\n",
        "        exp(\"id\", \"condition_resource_id\"),\n",
        "        exp(\n",
        "            \"code.coding.where(system = 'http://fhir.de/CodeSystem/bfarm/icd-10-gm').code\",  # explizit system angeben, falls es noch weitere Codings mit anderen Systemen gibt\n",
        "            \"icd10_code\",\n",
        "        ),\n",
        "    ],\n",
        "    filters=[\n",
        "        \"code.coding.where(system = 'http://fhir.de/CodeSystem/bfarm/icd-10-gm').exists()\"  # explizit System nochmal selektieren, um NULL rows zu entfernen, die durch andere Codings ggf. entstehen\n",
        "    ],\n",
        ")\n",
        "\n",
        "conditions = conditions.checkpoint(eager=True)\n",
        "conditions_count = conditions.count()  # enforce checkpoint\n",
        "\n",
        "print(conditions_count)"
      ]
    },
    {
      "cell_type": "code",
      "execution_count": 13,
      "id": "43e79cf5",
      "metadata": {
        "id": "43e79cf5",
        "outputId": "2285bfe2-6ed8-488b-b8f9-d97c2b74c591",
        "colab": {
          "base_uri": "https://localhost:8080/"
        }
      },
      "outputs": [
        {
          "output_type": "execute_result",
          "data": {
            "text/plain": [
              "['C15.3',\n",
              " 'C15.4',\n",
              " 'C15.5',\n",
              " 'C15.9',\n",
              " 'C18.0',\n",
              " 'C18.1',\n",
              " 'C18.2',\n",
              " 'C18.3',\n",
              " 'C18.4',\n",
              " 'C18.7',\n",
              " 'C18.8',\n",
              " 'C25.0',\n",
              " 'C25.1',\n",
              " 'C25.2',\n",
              " 'C71.0',\n",
              " 'C71.1',\n",
              " 'C71.2',\n",
              " 'C71.5',\n",
              " 'D33.1',\n",
              " 'D43.0',\n",
              " 'D43.1']"
            ]
          },
          "metadata": {},
          "execution_count": 13
        }
      ],
      "source": [
        "# Welche Diagnosen kommen in unserem Datensatz vor?\n",
        "\n",
        "icd10_codes = (\n",
        "    conditions.select(\"icd10_code\")\n",
        "    .distinct()\n",
        "    .orderBy(\"icd10_code\")\n",
        "    .rdd.flatMap(lambda x: x)\n",
        "    .collect()\n",
        ")\n",
        "icd10_codes"
      ]
    },
    {
      "cell_type": "code",
      "execution_count": 14,
      "id": "7ba1e24c-bc27-4918-abbb-9f5eecc1fc2a",
      "metadata": {
        "execution": {
          "iopub.execute_input": "2025-06-05T18:53:06.775018Z",
          "iopub.status.busy": "2025-06-05T18:53:06.774551Z",
          "iopub.status.idle": "2025-06-05T18:53:13.712298Z",
          "shell.execute_reply": "2025-06-05T18:53:13.711291Z",
          "shell.execute_reply.started": "2025-06-05T18:53:06.774987Z"
        },
        "id": "7ba1e24c-bc27-4918-abbb-9f5eecc1fc2a",
        "outputId": "4f4dd45c-0ad5-4fb9-b716-aeefebcaba90",
        "colab": {
          "base_uri": "https://localhost:8080/"
        }
      },
      "outputs": [
        {
          "output_type": "stream",
          "name": "stdout",
          "text": [
            "Falscher count:  144\n"
          ]
        }
      ],
      "source": [
        "# Achtung vor explodierenden row counts und Duplikaten!\n",
        "\n",
        "# die Duplikation entsteht erst wenn ein Element auf condition ebene (höher als code.coding.code Ebene) hinzukommt zum\n",
        "# framework macht intern einen cross join\n",
        "# https://pathling.csiro.au/docs/server/operations/extract --> siehe Abschnitt \"Notes\"\n",
        "conditions = data.extract(\n",
        "    \"Condition\",\n",
        "    columns=[\n",
        "        exp(\"id\", \"condition_resource_id\"),\n",
        "        exp(\n",
        "            \"code.coding.where(system = 'http://fhir.de/CodeSystem/bfarm/icd-10-gm').code\",\n",
        "            \"icd10_code\",\n",
        "        ),  # kardinalität 0...1\n",
        "        exp(\n",
        "            \"extension('http://hl7.org/fhir/StructureDefinition/condition-assertedDate').valueDateTime\",\n",
        "            \"date_diagnosis\",\n",
        "        ),  # kardinalität 1..1\n",
        "    ],\n",
        "    filters=[\n",
        "        \"code.coding.where(system = 'http://fhir.de/CodeSystem/bfarm/icd-10-gm').exists()\",\n",
        "    ],\n",
        ")\n",
        "\n",
        "conditions = conditions.checkpoint(eager=True)\n",
        "conditions_count = conditions.count()  # enforce checkpoint\n",
        "\n",
        "print(\"Falscher count: \", conditions_count)"
      ]
    },
    {
      "cell_type": "code",
      "execution_count": 15,
      "id": "f7f73f4b-a38c-4a8d-ad4e-a2127766b019",
      "metadata": {
        "execution": {
          "iopub.execute_input": "2025-06-05T18:53:13.714335Z",
          "iopub.status.busy": "2025-06-05T18:53:13.713830Z",
          "iopub.status.idle": "2025-06-05T18:53:13.845395Z",
          "shell.execute_reply": "2025-06-05T18:53:13.844210Z",
          "shell.execute_reply.started": "2025-06-05T18:53:13.714288Z"
        },
        "id": "f7f73f4b-a38c-4a8d-ad4e-a2127766b019",
        "outputId": "4bfaad05-da03-433a-f33c-a41983f08d12",
        "colab": {
          "base_uri": "https://localhost:8080/"
        }
      },
      "outputs": [
        {
          "output_type": "stream",
          "name": "stdout",
          "text": [
            "distinct id count ist immer noch: 72\n"
          ]
        }
      ],
      "source": [
        "print(\n",
        "    \"distinct id count ist immer noch:\",\n",
        "    conditions.select(\"condition_resource_id\").distinct().count(),\n",
        ")"
      ]
    },
    {
      "cell_type": "code",
      "execution_count": 16,
      "id": "70644063-53eb-404e-a1dd-dc05c998e3e0",
      "metadata": {
        "execution": {
          "iopub.execute_input": "2025-06-05T18:53:13.847558Z",
          "iopub.status.busy": "2025-06-05T18:53:13.847054Z",
          "iopub.status.idle": "2025-06-05T18:53:13.907965Z",
          "shell.execute_reply": "2025-06-05T18:53:13.906781Z",
          "shell.execute_reply.started": "2025-06-05T18:53:13.847510Z"
        },
        "id": "70644063-53eb-404e-a1dd-dc05c998e3e0",
        "outputId": "b90590d8-85c4-43c9-a0f9-f98853984d82",
        "colab": {
          "base_uri": "https://localhost:8080/"
        }
      },
      "outputs": [
        {
          "output_type": "stream",
          "name": "stdout",
          "text": [
            "+---------------------+----------+--------------+\n",
            "|condition_resource_id|icd10_code|date_diagnosis|\n",
            "+---------------------+----------+--------------+\n",
            "|     6b612dd173fa5544|     C18.0|    2023-08-20|\n",
            "|     6b612dd173fa5544|     C18.0|          NULL|\n",
            "|     08e306e6917943c2|     C15.4|    2024-02-29|\n",
            "|     08e306e6917943c2|     C15.4|          NULL|\n",
            "|     afc792bfaea32585|     C25.0|    2022-12-25|\n",
            "|     afc792bfaea32585|     C25.0|          NULL|\n",
            "|     8a7f134a200e57c1|     C25.1|    2024-02-18|\n",
            "|     8a7f134a200e57c1|     C25.1|          NULL|\n",
            "|     5927a5135224b9f5|     C18.7|    2023-10-30|\n",
            "|     5927a5135224b9f5|     C18.7|          NULL|\n",
            "|     b28d21fb5d6a4bc8|     C25.0|    2019-03-07|\n",
            "|     b28d21fb5d6a4bc8|     C25.0|          NULL|\n",
            "|     d80a996d35bb0d68|     C18.2|    2024-06-19|\n",
            "|     d80a996d35bb0d68|     C18.2|          NULL|\n",
            "|     e72e5f5440a7ffc5|     C25.0|    2022-07-06|\n",
            "|     e72e5f5440a7ffc5|     C25.0|          NULL|\n",
            "|     1f080c26891c70a0|     C18.0|    2023-02-11|\n",
            "|     1f080c26891c70a0|     C18.0|          NULL|\n",
            "|     f4fe8697f1dff2db|     C25.0|    2023-08-08|\n",
            "|     f4fe8697f1dff2db|     C25.0|          NULL|\n",
            "+---------------------+----------+--------------+\n",
            "only showing top 20 rows\n",
            "\n"
          ]
        }
      ],
      "source": [
        "# hier siehst du, dass dupliziert wurde --> jede condition_resource_id kommt jetzt 2x vor\n",
        "conditions.show()"
      ]
    },
    {
      "cell_type": "code",
      "execution_count": 17,
      "id": "4bcf36e6-c19d-40af-994b-28a52e3a3e98",
      "metadata": {
        "execution": {
          "iopub.execute_input": "2025-06-05T18:53:13.910458Z",
          "iopub.status.busy": "2025-06-05T18:53:13.909530Z",
          "iopub.status.idle": "2025-06-05T18:53:19.653767Z",
          "shell.execute_reply": "2025-06-05T18:53:19.652275Z",
          "shell.execute_reply.started": "2025-06-05T18:53:13.910413Z"
        },
        "id": "4bcf36e6-c19d-40af-994b-28a52e3a3e98",
        "outputId": "acdb8ba6-523a-403f-9a50-ad5a78be970e",
        "colab": {
          "base_uri": "https://localhost:8080/"
        }
      },
      "outputs": [
        {
          "output_type": "stream",
          "name": "stdout",
          "text": [
            "72\n"
          ]
        }
      ],
      "source": [
        "# wir brauchen da ein first wo wir sicher sind, dass es nur max. einmal vorkommen kann --> Stichwort Kardinalitäten (0...1 oder 1...1)\n",
        "conditions = data.extract(\n",
        "    \"Condition\",\n",
        "    columns=[\n",
        "        exp(\"id\", \"condition_resource_id\"),\n",
        "        exp(\n",
        "            \"code.coding.where(system = 'http://fhir.de/CodeSystem/bfarm/icd-10-gm').code.first()\",\n",
        "            \"icd10_code\",\n",
        "        ),  # kardinalität 0...1\n",
        "        exp(\n",
        "            \"extension('http://hl7.org/fhir/StructureDefinition/condition-assertedDate').valueDateTime.first()\",\n",
        "            \"date_diagnosis\",\n",
        "        ),  # kardinalität 1..1\n",
        "        exp(\"recordedDate\", \"recorded_date\"),\n",
        "    ],\n",
        "    filters=[\n",
        "        \"code.coding.where(system = 'http://fhir.de/CodeSystem/bfarm/icd-10-gm').exists()\",\n",
        "    ],\n",
        ")\n",
        "\n",
        "conditions = conditions.checkpoint(eager=True)\n",
        "conditions_count = conditions.count()  # enforce checkpoint\n",
        "\n",
        "print(conditions_count)"
      ]
    },
    {
      "cell_type": "code",
      "execution_count": 18,
      "id": "fa00ef5f-ba15-4e7b-ac62-183d5ad0fb1a",
      "metadata": {
        "execution": {
          "iopub.execute_input": "2025-06-05T18:53:19.656456Z",
          "iopub.status.busy": "2025-06-05T18:53:19.655472Z",
          "iopub.status.idle": "2025-06-05T18:53:19.693340Z",
          "shell.execute_reply": "2025-06-05T18:53:19.692344Z",
          "shell.execute_reply.started": "2025-06-05T18:53:19.656401Z"
        },
        "id": "fa00ef5f-ba15-4e7b-ac62-183d5ad0fb1a",
        "outputId": "92e64db7-19d5-474c-9563-17cf4e2d5455",
        "colab": {
          "base_uri": "https://localhost:8080/"
        }
      },
      "outputs": [
        {
          "output_type": "stream",
          "name": "stdout",
          "text": [
            "+---------------------+----------+--------------+-------------+\n",
            "|condition_resource_id|icd10_code|date_diagnosis|recorded_date|\n",
            "+---------------------+----------+--------------+-------------+\n",
            "|     051e5a0e019c30ce|     C18.3|    2024-03-04|   2025-01-26|\n",
            "|     07d2b410e5cfbe5f|     C15.4|    2024-09-28|   2024-11-02|\n",
            "|     08405c94eb7dc213|     C15.9|    2023-11-24|   2024-08-03|\n",
            "|     08e306e6917943c2|     C15.4|    2024-02-29|   2024-08-17|\n",
            "|     09fc5566cf6f17ad|     C18.0|    2024-04-23|   2024-08-03|\n",
            "|     0c9a439a485d1cfa|     C15.5|    2023-04-21|   2024-10-27|\n",
            "|     0f8531c4327ebbd2|     C18.7|    2024-06-21|   2024-09-02|\n",
            "|     15c02d0d9eb2c08c|     C71.0|    2024-01-05|   2024-12-21|\n",
            "|     1d3fcafbde7a3d24|     C18.0|    2024-08-15|   2024-08-15|\n",
            "|     1ee93bb69d5a0f4f|     C71.5|    2024-07-16|   2024-09-21|\n",
            "|     1f080c26891c70a0|     C18.0|    2023-02-11|   2024-09-03|\n",
            "|     237e4fb6ac5a7cc7|     C18.1|    2021-09-25|   2024-08-22|\n",
            "|     24024157215224ee|     C15.4|    2023-03-28|   2024-10-05|\n",
            "|     247b1136711dfde0|     C25.0|    2024-03-04|   2024-11-04|\n",
            "|     252eb9211bc1b339|     C71.2|    2024-07-14|   2024-09-02|\n",
            "|     2f3efa62ead346da|     C15.5|    2024-01-25|   2024-08-26|\n",
            "|     3a3c465876a7d36a|     C18.7|    2022-11-06|   2024-09-14|\n",
            "|     3c3a5386810aaab1|     C18.1|    2023-09-30|   2024-12-10|\n",
            "|     436924e03db67321|     C71.0|    2022-10-15|   2024-10-02|\n",
            "|     48ca83204ae98070|     C71.0|    2024-06-27|   2024-09-21|\n",
            "+---------------------+----------+--------------+-------------+\n",
            "only showing top 20 rows\n",
            "\n"
          ]
        }
      ],
      "source": [
        "# hier siehst du jetzt, dass die doppelte Zeile mit condition_resource_id korrekterweise wieder entfernt wurde\n",
        "conditions.show()"
      ]
    },
    {
      "cell_type": "code",
      "execution_count": 19,
      "id": "0cf2d112-4a80-415a-979f-b2be6db510a8",
      "metadata": {
        "execution": {
          "iopub.execute_input": "2025-06-05T18:53:19.699080Z",
          "iopub.status.busy": "2025-06-05T18:53:19.698439Z",
          "iopub.status.idle": "2025-06-05T18:53:25.063468Z",
          "shell.execute_reply": "2025-06-05T18:53:25.062283Z",
          "shell.execute_reply.started": "2025-06-05T18:53:19.699063Z"
        },
        "id": "0cf2d112-4a80-415a-979f-b2be6db510a8",
        "outputId": "ad64749b-a07a-4b24-8be5-d771e1219338",
        "colab": {
          "base_uri": "https://localhost:8080/"
        }
      },
      "outputs": [
        {
          "output_type": "stream",
          "name": "stdout",
          "text": [
            "72\n"
          ]
        }
      ],
      "source": [
        "# Referenz zum Patienten\n",
        "conditions = data.extract(\n",
        "    \"Condition\",\n",
        "    columns=[\n",
        "        exp(\"id\", \"condition_resource_id\"),\n",
        "        exp(\n",
        "            \"code.coding.where(system = 'http://fhir.de/CodeSystem/bfarm/icd-10-gm').code.first()\",\n",
        "            \"icd10_code\",\n",
        "        ),  # kardinalität 0...1\n",
        "        exp(\n",
        "            \"extension('http://hl7.org/fhir/StructureDefinition/condition-assertedDate').valueDateTime.first()\",\n",
        "            \"date_diagnosis\",\n",
        "        ),  # kardinalität 1..1\n",
        "        exp(\"subject.reference\", \"condition_subject_reference\"),\n",
        "    ],\n",
        "    filters=[\n",
        "        \"code.coding.where(system = 'http://fhir.de/CodeSystem/bfarm/icd-10-gm').exists()\"\n",
        "    ],\n",
        ")\n",
        "\n",
        "conditions = conditions.checkpoint(eager=True)\n",
        "conditions_count = conditions.count()  # enforce checkpoint\n",
        "\n",
        "print(conditions_count)"
      ]
    },
    {
      "cell_type": "code",
      "execution_count": 20,
      "id": "c6080f72-83af-4eef-9b76-fcabaae181ba",
      "metadata": {
        "execution": {
          "iopub.execute_input": "2025-06-05T18:53:25.065271Z",
          "iopub.status.busy": "2025-06-05T18:53:25.064994Z",
          "iopub.status.idle": "2025-06-05T18:53:25.092871Z",
          "shell.execute_reply": "2025-06-05T18:53:25.091751Z",
          "shell.execute_reply.started": "2025-06-05T18:53:25.065245Z"
        },
        "id": "c6080f72-83af-4eef-9b76-fcabaae181ba",
        "outputId": "18bdf564-8fdf-4347-d8c6-4cef4966586f",
        "colab": {
          "base_uri": "https://localhost:8080/"
        }
      },
      "outputs": [
        {
          "output_type": "stream",
          "name": "stdout",
          "text": [
            "+---------------------+----------+--------------+---------------------------+\n",
            "|condition_resource_id|icd10_code|date_diagnosis|condition_subject_reference|\n",
            "+---------------------+----------+--------------+---------------------------+\n",
            "|     051e5a0e019c30ce|     C18.3|    2024-03-04|       Patient/e5c41057a...|\n",
            "|     07d2b410e5cfbe5f|     C15.4|    2024-09-28|       Patient/ab0f1ed34...|\n",
            "|     08405c94eb7dc213|     C15.9|    2023-11-24|       Patient/eb9728de5...|\n",
            "|     08e306e6917943c2|     C15.4|    2024-02-29|       Patient/21560e655...|\n",
            "|     09fc5566cf6f17ad|     C18.0|    2024-04-23|       Patient/0fae573b1...|\n",
            "|     0c9a439a485d1cfa|     C15.5|    2023-04-21|       Patient/61ed44a22...|\n",
            "|     0f8531c4327ebbd2|     C18.7|    2024-06-21|       Patient/b90e420a6...|\n",
            "|     15c02d0d9eb2c08c|     C71.0|    2024-01-05|       Patient/64ffc8f6e...|\n",
            "|     1d3fcafbde7a3d24|     C18.0|    2024-08-15|       Patient/e6f48bd3b...|\n",
            "|     1ee93bb69d5a0f4f|     C71.5|    2024-07-16|       Patient/3875fc263...|\n",
            "|     1f080c26891c70a0|     C18.0|    2023-02-11|       Patient/1a2935102...|\n",
            "|     237e4fb6ac5a7cc7|     C18.1|    2021-09-25|       Patient/7bd4e4bef...|\n",
            "|     24024157215224ee|     C15.4|    2023-03-28|       Patient/35ead2589...|\n",
            "|     247b1136711dfde0|     C25.0|    2024-03-04|       Patient/eb49c8cc9...|\n",
            "|     252eb9211bc1b339|     C71.2|    2024-07-14|       Patient/07ec02b49...|\n",
            "|     2f3efa62ead346da|     C15.5|    2024-01-25|       Patient/1e2fd734c...|\n",
            "|     3a3c465876a7d36a|     C18.7|    2022-11-06|       Patient/ede861350...|\n",
            "|     3c3a5386810aaab1|     C18.1|    2023-09-30|       Patient/3cda8e94d...|\n",
            "|     436924e03db67321|     C71.0|    2022-10-15|       Patient/9a80d6821...|\n",
            "|     48ca83204ae98070|     C71.0|    2024-06-27|       Patient/150dcba57...|\n",
            "+---------------------+----------+--------------+---------------------------+\n",
            "only showing top 20 rows\n",
            "\n"
          ]
        }
      ],
      "source": [
        "conditions.show()"
      ]
    },
    {
      "cell_type": "code",
      "execution_count": 21,
      "id": "e5943f9e-e208-4895-9cef-e406c7ed40d5",
      "metadata": {
        "execution": {
          "iopub.execute_input": "2025-06-05T18:53:25.095087Z",
          "iopub.status.busy": "2025-06-05T18:53:25.094336Z",
          "iopub.status.idle": "2025-06-05T18:53:25.138651Z",
          "shell.execute_reply": "2025-06-05T18:53:25.137567Z",
          "shell.execute_reply.started": "2025-06-05T18:53:25.095043Z"
        },
        "id": "e5943f9e-e208-4895-9cef-e406c7ed40d5",
        "outputId": "e8636d7e-826a-48b8-ef77-aff739285ffd",
        "colab": {
          "base_uri": "https://localhost:8080/"
        }
      },
      "outputs": [
        {
          "output_type": "stream",
          "name": "stdout",
          "text": [
            "+-------------------+----------------+------+----------+-----------------+\n",
            "|patient_resource_id| patid_pseudonym|gender|birth_date|deceased_datetime|\n",
            "+-------------------+----------------+------+----------+-----------------+\n",
            "|   60271b372396f53a|2f4017ec9a0d48c3|female|1954-06-30|       2024-07-25|\n",
            "|   733b6df2aeaaff06|897acc358f405500|female|1935-08-21|       2019-06-25|\n",
            "|   114b17715cd8962f|7a258cbfec3c558c|  male|1948-12-06|       2023-11-10|\n",
            "|   64ffc8f6e2a04bf5|1f8367d0b53064c2|  male|1940-06-22|       2024-04-16|\n",
            "|   9ba79939ecbcae8f|550d43f7d5cc0b99|  male|1952-03-09|       2019-04-09|\n",
            "|   a1d728be37480030|6e98dce2f6665e34|  male|1985-09-20|             NULL|\n",
            "|   ce38bdeb6979b366|fd59faa459aa1b58|female|2006-03-11|             NULL|\n",
            "|   9a80d68214de0bd4|0fe7da3a23578158|female|1946-12-16|             NULL|\n",
            "|   4a58365a0b7626a8|6c361d87cf623ee9|female|1962-10-25|             NULL|\n",
            "|   ba3253fe6ca96286|ad09e0030f7313f6|  male|1947-09-06|             NULL|\n",
            "|   847d834b896e3a1d|874de26b0fe8d1ec|  male|1970-05-13|             NULL|\n",
            "|   437e8f9eae081c75|fc10ae29d9fa0a14|  male|1948-04-06|             NULL|\n",
            "|   3cda8e94d07a0709|59a13bc638788557|female|1986-10-05|             NULL|\n",
            "|   52b7120e3fc05325|b086d01df7325249|  male|1965-06-22|             NULL|\n",
            "|   79fa4eb7cadef929|ca363e555351a324|female|1945-01-27|             NULL|\n",
            "|   7f2318f53b459500|af2c6ffe972bd869|female|1970-07-21|             NULL|\n",
            "|   c8490233e2b2a928|777535caa6d34e27|  male|1970-01-06|             NULL|\n",
            "|   eb49c8cc92207e82|4dfd45ed72c18f56|  male|1954-05-08|             NULL|\n",
            "|   35ead2589e72ad07|54d3b4d0a7737549|  male|1983-12-14|             NULL|\n",
            "|   f0307634eb85ac96|e21bddef1c8868d6|female|1946-09-03|             NULL|\n",
            "+-------------------+----------------+------+----------+-----------------+\n",
            "only showing top 20 rows\n",
            "\n"
          ]
        }
      ],
      "source": [
        "# Vergleiche condition_subject_reference aus dem conditions dataframe mit patient_resource_id aus dem patients dataframe -- wo ist der Unterschied?\n",
        "patients.show()"
      ]
    },
    {
      "cell_type": "markdown",
      "id": "e4058e8b-c80d-4e04-b36a-1e11594d4bed",
      "metadata": {
        "id": "e4058e8b-c80d-4e04-b36a-1e11594d4bed"
      },
      "source": [
        "## JOIN"
      ]
    },
    {
      "cell_type": "code",
      "execution_count": 22,
      "id": "06c983b1-c000-4985-80d7-63258b80d608",
      "metadata": {
        "execution": {
          "iopub.execute_input": "2025-06-05T18:53:25.140636Z",
          "iopub.status.busy": "2025-06-05T18:53:25.140125Z",
          "iopub.status.idle": "2025-06-05T18:53:25.242162Z",
          "shell.execute_reply": "2025-06-05T18:53:25.241497Z",
          "shell.execute_reply.started": "2025-06-05T18:53:25.140614Z"
        },
        "id": "06c983b1-c000-4985-80d7-63258b80d608",
        "outputId": "abcc5675-44c7-43dd-c1eb-f2bbd10f20b1",
        "colab": {
          "base_uri": "https://localhost:8080/"
        }
      },
      "outputs": [
        {
          "output_type": "execute_result",
          "data": {
            "text/plain": [
              "72"
            ]
          },
          "metadata": {},
          "execution_count": 22
        }
      ],
      "source": [
        "# entferne das \"Patient/\" in den Werten der Spalte \"condition_subject_reference\", da dieser Präfix in patient_resource_id auch nicht vorkommt\n",
        "# nach dieser Vorverarbeitung können wir dann joinen: patients[\"patient_resource_id\"] == conditions[\"condition_subject_reference\"]\n",
        "\n",
        "conditions = conditions.withColumn(\n",
        "    \"condition_subject_reference\",\n",
        "    regexp_replace(\"condition_subject_reference\", \"^Patient/\", \"\"),\n",
        ")\n",
        "conditions = conditions.checkpoint(eager=True)\n",
        "conditions.count()  # enforce checkpoint"
      ]
    },
    {
      "cell_type": "code",
      "execution_count": 23,
      "id": "721a8ca8-96fe-4326-8608-38dfb6e71991",
      "metadata": {
        "execution": {
          "iopub.execute_input": "2025-06-05T18:53:25.243328Z",
          "iopub.status.busy": "2025-06-05T18:53:25.243075Z",
          "iopub.status.idle": "2025-06-05T18:53:25.265920Z",
          "shell.execute_reply": "2025-06-05T18:53:25.265304Z",
          "shell.execute_reply.started": "2025-06-05T18:53:25.243304Z"
        },
        "scrolled": true,
        "id": "721a8ca8-96fe-4326-8608-38dfb6e71991",
        "outputId": "cb8041f3-6d7c-408d-e60a-5158ba1a5722",
        "colab": {
          "base_uri": "https://localhost:8080/"
        }
      },
      "outputs": [
        {
          "output_type": "stream",
          "name": "stdout",
          "text": [
            "+---------------------+----------+--------------+---------------------------+\n",
            "|condition_resource_id|icd10_code|date_diagnosis|condition_subject_reference|\n",
            "+---------------------+----------+--------------+---------------------------+\n",
            "|     051e5a0e019c30ce|     C18.3|    2024-03-04|           e5c41057a1b66cda|\n",
            "|     07d2b410e5cfbe5f|     C15.4|    2024-09-28|           ab0f1ed341372001|\n",
            "|     08405c94eb7dc213|     C15.9|    2023-11-24|           eb9728de512f00ec|\n",
            "|     08e306e6917943c2|     C15.4|    2024-02-29|           21560e6558e3bce2|\n",
            "|     09fc5566cf6f17ad|     C18.0|    2024-04-23|           0fae573b17cb69e5|\n",
            "|     0c9a439a485d1cfa|     C15.5|    2023-04-21|           61ed44a223187661|\n",
            "|     0f8531c4327ebbd2|     C18.7|    2024-06-21|           b90e420a6b680c0d|\n",
            "|     15c02d0d9eb2c08c|     C71.0|    2024-01-05|           64ffc8f6e2a04bf5|\n",
            "|     1d3fcafbde7a3d24|     C18.0|    2024-08-15|           e6f48bd3bc9800c8|\n",
            "|     1ee93bb69d5a0f4f|     C71.5|    2024-07-16|           3875fc2637316141|\n",
            "|     1f080c26891c70a0|     C18.0|    2023-02-11|           1a29351020e186a6|\n",
            "|     237e4fb6ac5a7cc7|     C18.1|    2021-09-25|           7bd4e4bef7525055|\n",
            "|     24024157215224ee|     C15.4|    2023-03-28|           35ead2589e72ad07|\n",
            "|     247b1136711dfde0|     C25.0|    2024-03-04|           eb49c8cc92207e82|\n",
            "|     252eb9211bc1b339|     C71.2|    2024-07-14|           07ec02b49e0b7aba|\n",
            "|     2f3efa62ead346da|     C15.5|    2024-01-25|           1e2fd734cf35cf44|\n",
            "|     3a3c465876a7d36a|     C18.7|    2022-11-06|           ede861350630aad2|\n",
            "|     3c3a5386810aaab1|     C18.1|    2023-09-30|           3cda8e94d07a0709|\n",
            "|     436924e03db67321|     C71.0|    2022-10-15|           9a80d68214de0bd4|\n",
            "|     48ca83204ae98070|     C71.0|    2024-06-27|           150dcba579b4985d|\n",
            "+---------------------+----------+--------------+---------------------------+\n",
            "only showing top 20 rows\n",
            "\n"
          ]
        }
      ],
      "source": [
        "conditions.show()"
      ]
    },
    {
      "cell_type": "code",
      "execution_count": 24,
      "id": "da348c92-a8c9-4802-9768-4fe1475e04ba",
      "metadata": {
        "execution": {
          "iopub.execute_input": "2025-06-05T18:53:25.266999Z",
          "iopub.status.busy": "2025-06-05T18:53:25.266765Z",
          "iopub.status.idle": "2025-06-05T18:53:25.460910Z",
          "shell.execute_reply": "2025-06-05T18:53:25.459754Z",
          "shell.execute_reply.started": "2025-06-05T18:53:25.266976Z"
        },
        "id": "da348c92-a8c9-4802-9768-4fe1475e04ba",
        "outputId": "e7954161-938d-484c-de5c-ee7dc466026d",
        "colab": {
          "base_uri": "https://localhost:8080/"
        }
      },
      "outputs": [
        {
          "output_type": "execute_result",
          "data": {
            "text/plain": [
              "72"
            ]
          },
          "metadata": {},
          "execution_count": 24
        }
      ],
      "source": [
        "patients_conditions = (\n",
        "    patients.alias(\"p\")\n",
        "    .join(\n",
        "        conditions.alias(\"c\"),\n",
        "        patients[\"patient_resource_id\"]\n",
        "        == conditions[\"condition_subject_reference\"],  # Join condition\n",
        "        \"left\",  # Left join\n",
        "    )\n",
        "    .select(\"c.*\", \"p.*\")\n",
        ")\n",
        "\n",
        "patients_conditions = patients_conditions.checkpoint(eager=True)\n",
        "patients_conditions_count = patients_conditions.count()\n",
        "patients_conditions_count"
      ]
    },
    {
      "cell_type": "code",
      "execution_count": 25,
      "id": "66c6ee9e-5651-47e9-a2cf-ba9ba8af9fc0",
      "metadata": {
        "execution": {
          "iopub.execute_input": "2025-06-05T18:53:25.462125Z",
          "iopub.status.busy": "2025-06-05T18:53:25.461875Z",
          "iopub.status.idle": "2025-06-05T18:53:25.501266Z",
          "shell.execute_reply": "2025-06-05T18:53:25.499887Z",
          "shell.execute_reply.started": "2025-06-05T18:53:25.462101Z"
        },
        "id": "66c6ee9e-5651-47e9-a2cf-ba9ba8af9fc0",
        "outputId": "dd80f91e-2ae4-426b-a2c4-bd0b99686c41",
        "colab": {
          "base_uri": "https://localhost:8080/"
        }
      },
      "outputs": [
        {
          "output_type": "stream",
          "name": "stdout",
          "text": [
            "+---------------------+----------+--------------+---------------------------+-------------------+----------------+------+----------+-----------------+\n",
            "|condition_resource_id|icd10_code|date_diagnosis|condition_subject_reference|patient_resource_id| patid_pseudonym|gender|birth_date|deceased_datetime|\n",
            "+---------------------+----------+--------------+---------------------------+-------------------+----------------+------+----------+-----------------+\n",
            "|     051e5a0e019c30ce|     C18.3|    2024-03-04|           e5c41057a1b66cda|   e5c41057a1b66cda|6d85de25529cff53|  male|1939-06-28|             NULL|\n",
            "|     0c9a439a485d1cfa|     C15.5|    2023-04-21|           61ed44a223187661|   61ed44a223187661|bc1a1b4fe47fdb71|  male|1949-04-29|             NULL|\n",
            "|     af30c3406cd4ac00|     C18.4|    2023-12-28|           ba3253fe6ca96286|   ba3253fe6ca96286|ad09e0030f7313f6|  male|1947-09-06|             NULL|\n",
            "|     252eb9211bc1b339|     C71.2|    2024-07-14|           07ec02b49e0b7aba|   07ec02b49e0b7aba|02024496e0b0bbd0|  male|1952-07-26|             NULL|\n",
            "|     4e8432e66cce4dc4|     C25.0|    2024-09-01|           f44db4a5131c0ae2|   f44db4a5131c0ae2|10e14a11759058db|female|1945-06-01|             NULL|\n",
            "|     f229ad9b04bea62e|     C71.0|    2022-11-03|           486a10dac0d746cd|   486a10dac0d746cd|d7052e8b2a67419f|  male|1976-03-06|             NULL|\n",
            "|     e72e5f5440a7ffc5|     C25.0|    2022-07-06|           114b17715cd8962f|   114b17715cd8962f|7a258cbfec3c558c|  male|1948-12-06|       2023-11-10|\n",
            "|     c4d249f2c7ddcf59|     C15.5|    2021-05-25|           68a0e992e0d91698|   68a0e992e0d91698|265576fcb9672764|  male|1958-02-26|             NULL|\n",
            "|     8ccbaa3540124618|     D33.1|    2022-07-28|           e243400fe9c43b79|   e243400fe9c43b79|66114d9620ecd6f3|  male|1981-05-08|             NULL|\n",
            "|     96fe81bd47dd30e1|     C25.0|    2018-01-23|           9ba79939ecbcae8f|   9ba79939ecbcae8f|550d43f7d5cc0b99|  male|1952-03-09|       2019-04-09|\n",
            "|     52e5f2fc38f09bba|     C18.0|    2023-07-04|           79fa4eb7cadef929|   79fa4eb7cadef929|ca363e555351a324|female|1945-01-27|             NULL|\n",
            "|     72317c2425bbd3c8|     C15.5|    2024-07-12|           fec730686892c631|   fec730686892c631|dbff7aa920956fde|  male|1952-07-20|             NULL|\n",
            "|     92737702ea38a24c|     C25.2|    2019-05-27|           5cc1af2309e29e00|   5cc1af2309e29e00|ed9dc76fe9f770f2|  male|1955-11-23|             NULL|\n",
            "|     8a7f134a200e57c1|     C25.1|    2024-02-18|           0c5298eb234951b1|   0c5298eb234951b1|012657b165e05913|  male|1965-01-18|             NULL|\n",
            "|     afc792bfaea32585|     C25.0|    2022-12-25|           f3c131b13cbe3216|   f3c131b13cbe3216|9028a3386120ec94|  male|1960-01-05|             NULL|\n",
            "|     b6d5a69ce456abf0|     C15.5|    2024-05-13|           c8490233e2b2a928|   c8490233e2b2a928|777535caa6d34e27|  male|1970-01-06|             NULL|\n",
            "|     6961f769aab1b8cd|     C15.5|    2022-11-09|           835107adef733603|   835107adef733603|88370bc88e2f867e|  male|1977-04-18|             NULL|\n",
            "|     f65c992f02dd6f78|     C15.3|    2023-06-24|           c9a0ff4052f66694|   c9a0ff4052f66694|7376eec3bda52c36|  male|1954-09-05|             NULL|\n",
            "|     48ca83204ae98070|     C71.0|    2024-06-27|           150dcba579b4985d|   150dcba579b4985d|99f5a1dcf9839f0a|  male|2010-12-16|             NULL|\n",
            "|     7daeb8ab9cae0e2f|     C15.3|    2020-12-08|           8e10679922d50f99|   8e10679922d50f99|525435898cd242fd|  male|1954-02-04|             NULL|\n",
            "+---------------------+----------+--------------+---------------------------+-------------------+----------------+------+----------+-----------------+\n",
            "only showing top 20 rows\n",
            "\n"
          ]
        }
      ],
      "source": [
        "patients_conditions.show()"
      ]
    },
    {
      "cell_type": "code",
      "execution_count": null,
      "id": "d4537856-01fc-4832-839a-1ff376991361",
      "metadata": {
        "id": "d4537856-01fc-4832-839a-1ff376991361"
      },
      "outputs": [],
      "source": []
    },
    {
      "cell_type": "markdown",
      "id": "1100703a-39a5-470a-84db-9544b9f021a0",
      "metadata": {
        "id": "1100703a-39a5-470a-84db-9544b9f021a0"
      },
      "source": [
        "## Resolve"
      ]
    },
    {
      "cell_type": "code",
      "execution_count": 26,
      "id": "aa2c0818-6ebb-4382-affc-6da3a65f2075",
      "metadata": {
        "execution": {
          "iopub.execute_input": "2025-06-05T18:53:25.503460Z",
          "iopub.status.busy": "2025-06-05T18:53:25.502956Z",
          "iopub.status.idle": "2025-06-05T18:53:39.369006Z",
          "shell.execute_reply": "2025-06-05T18:53:39.367823Z",
          "shell.execute_reply.started": "2025-06-05T18:53:25.503412Z"
        },
        "id": "aa2c0818-6ebb-4382-affc-6da3a65f2075",
        "outputId": "b91c9c8c-7666-4e34-c232-a092fbd097ff",
        "colab": {
          "base_uri": "https://localhost:8080/"
        }
      },
      "outputs": [
        {
          "output_type": "execute_result",
          "data": {
            "text/plain": [
              "72"
            ]
          },
          "metadata": {},
          "execution_count": 26
        }
      ],
      "source": [
        "# deutlich schlankere Alternative zu zwei einzelnen extracts von patients und conditions und join\n",
        "# resolve löst Referenz auf\n",
        "\n",
        "conditions_patients_resolve = data.extract(\n",
        "    \"Condition\",\n",
        "    columns=[\n",
        "        exp(\"id\", \"condition_resource_id\"),\n",
        "        exp(\n",
        "            \"code.coding.where(system = 'http://fhir.de/CodeSystem/bfarm/icd-10-gm').code.first()\",\n",
        "            \"icd10_code\",\n",
        "        ),  # kardinalität 0...1\n",
        "        exp(\n",
        "            \"extension('http://hl7.org/fhir/StructureDefinition/condition-assertedDate').valueDateTime.first()\",\n",
        "            \"date_diagnosis\",\n",
        "        ),  # kardinalität 1..1\n",
        "        exp(\"subject.reference\", \"condition_subject_reference\"),\n",
        "        exp(\"subject.resolve().ofType(Patient).id\", \"patient_resource_id\"),\n",
        "        exp(\n",
        "            \"subject.resolve().ofType(Patient).identifier.where(type.coding.where(system='http://terminology.hl7.org/CodeSystem/v2-0203' and code='MR').exists()).value\",\n",
        "            \"patid_pseudonym\",\n",
        "        ),\n",
        "        exp(\"subject.resolve().ofType(Patient).birthDate\", \"birth_date\"),\n",
        "        exp(\"subject.resolve().ofType(Patient).gender\", \"gender\"),\n",
        "        exp(\"subject.resolve().ofType(Patient).deceasedDateTime\", \"deceased_datetime\"),\n",
        "    ],\n",
        "    filters=[\n",
        "        \"code.coding.where(system = 'http://fhir.de/CodeSystem/bfarm/icd-10-gm').exists()\"\n",
        "    ],\n",
        ")\n",
        "conditions_patients_resolve = conditions_patients_resolve.checkpoint(eager=True)\n",
        "conditions_patients_resolve_count = conditions_patients_resolve.count()\n",
        "conditions_patients_resolve_count"
      ]
    },
    {
      "cell_type": "code",
      "execution_count": 27,
      "id": "9dd171bb-9c28-4011-9a0e-fddec7978fb1",
      "metadata": {
        "execution": {
          "iopub.execute_input": "2025-06-05T18:53:39.370193Z",
          "iopub.status.busy": "2025-06-05T18:53:39.369963Z",
          "iopub.status.idle": "2025-06-05T18:53:39.399619Z",
          "shell.execute_reply": "2025-06-05T18:53:39.398782Z",
          "shell.execute_reply.started": "2025-06-05T18:53:39.370173Z"
        },
        "id": "9dd171bb-9c28-4011-9a0e-fddec7978fb1",
        "outputId": "d67ca118-4376-4d5e-c585-cc45b9d2a670",
        "colab": {
          "base_uri": "https://localhost:8080/"
        }
      },
      "outputs": [
        {
          "output_type": "stream",
          "name": "stdout",
          "text": [
            "+---------------------+----------+--------------+---------------------------+-------------------+----------------+----------+------+-----------------+\n",
            "|condition_resource_id|icd10_code|date_diagnosis|condition_subject_reference|patient_resource_id| patid_pseudonym|birth_date|gender|deceased_datetime|\n",
            "+---------------------+----------+--------------+---------------------------+-------------------+----------------+----------+------+-----------------+\n",
            "|     15c02d0d9eb2c08c|     C71.0|    2024-01-05|       Patient/64ffc8f6e...|   64ffc8f6e2a04bf5|1f8367d0b53064c2|1940-06-22|  male|       2024-04-16|\n",
            "|     b28d21fb5d6a4bc8|     C25.0|    2019-03-07|       Patient/733b6df2a...|   733b6df2aeaaff06|897acc358f405500|1935-08-21|female|       2019-06-25|\n",
            "|     6b612dd173fa5544|     C18.0|    2023-08-20|       Patient/60271b372...|   60271b372396f53a|2f4017ec9a0d48c3|1954-06-30|female|       2024-07-25|\n",
            "|     96fe81bd47dd30e1|     C25.0|    2018-01-23|       Patient/9ba79939e...|   9ba79939ecbcae8f|550d43f7d5cc0b99|1952-03-09|  male|       2019-04-09|\n",
            "|     e72e5f5440a7ffc5|     C25.0|    2022-07-06|       Patient/114b17715...|   114b17715cd8962f|7a258cbfec3c558c|1948-12-06|  male|       2023-11-10|\n",
            "|     92737702ea38a24c|     C25.2|    2019-05-27|       Patient/5cc1af230...|   5cc1af2309e29e00|ed9dc76fe9f770f2|1955-11-23|  male|             NULL|\n",
            "|     73505c829dd099ce|     C71.2|    2024-02-16|       Patient/9a79159bd...|   9a79159bda44a2de|7c0adc238acd5789|1993-01-19|  male|             NULL|\n",
            "|     8e4403f0e2266032|     C15.3|    2024-09-25|       Patient/f7af2b9dc...|   f7af2b9dcfa04d8c|a61f3e73ee67760a|1995-04-19|  male|             NULL|\n",
            "|     0f8531c4327ebbd2|     C18.7|    2024-06-21|       Patient/b90e420a6...|   b90e420a6b680c0d|daea3f56491d7e11|1967-06-27|  male|             NULL|\n",
            "|     7daeb8ab9cae0e2f|     C15.3|    2020-12-08|       Patient/8e1067992...|   8e10679922d50f99|525435898cd242fd|1954-02-04|  male|             NULL|\n",
            "|     08405c94eb7dc213|     C15.9|    2023-11-24|       Patient/eb9728de5...|   eb9728de512f00ec|15d8e14a10e068b8|1958-11-13|female|             NULL|\n",
            "|     d80a996d35bb0d68|     C18.2|    2024-06-19|       Patient/f0307634e...|   f0307634eb85ac96|e21bddef1c8868d6|1946-09-03|female|             NULL|\n",
            "|     051e5a0e019c30ce|     C18.3|    2024-03-04|       Patient/e5c41057a...|   e5c41057a1b66cda|6d85de25529cff53|1939-06-28|  male|             NULL|\n",
            "|     ec1575c28af09b0b|     C15.4|    2024-07-05|       Patient/7f2318f53...|   7f2318f53b459500|af2c6ffe972bd869|1970-07-21|female|             NULL|\n",
            "|     b6d5a69ce456abf0|     C15.5|    2024-05-13|       Patient/c8490233e...|   c8490233e2b2a928|777535caa6d34e27|1970-01-06|  male|             NULL|\n",
            "|     d02c0fbc3f94faaa|     C71.2|    2024-03-10|       Patient/146b00713...|   146b0071371fe6e6|e9a460fd4950bcb0|1974-02-04|  male|             NULL|\n",
            "|     f229ad9b04bea62e|     C71.0|    2022-11-03|       Patient/486a10dac...|   486a10dac0d746cd|d7052e8b2a67419f|1976-03-06|  male|             NULL|\n",
            "|     09fc5566cf6f17ad|     C18.0|    2024-04-23|       Patient/0fae573b1...|   0fae573b17cb69e5|54656b6bc73b3e67|1957-02-18|  male|             NULL|\n",
            "|     2f3efa62ead346da|     C15.5|    2024-01-25|       Patient/1e2fd734c...|   1e2fd734cf35cf44|c407872dea98a2b9|1949-11-15|  male|             NULL|\n",
            "|     48ca83204ae98070|     C71.0|    2024-06-27|       Patient/150dcba57...|   150dcba579b4985d|99f5a1dcf9839f0a|2010-12-16|  male|             NULL|\n",
            "+---------------------+----------+--------------+---------------------------+-------------------+----------------+----------+------+-----------------+\n",
            "only showing top 20 rows\n",
            "\n"
          ]
        }
      ],
      "source": [
        "conditions_patients_resolve.show()"
      ]
    },
    {
      "cell_type": "markdown",
      "id": "21238d44-45a9-461c-9ced-065609970478",
      "metadata": {
        "id": "21238d44-45a9-461c-9ced-065609970478"
      },
      "source": [
        "## ReverseResolve"
      ]
    },
    {
      "cell_type": "code",
      "execution_count": 28,
      "id": "de15e1fb-8714-48e3-abcf-6a5831d88f66",
      "metadata": {
        "execution": {
          "iopub.execute_input": "2025-06-05T18:53:39.400489Z",
          "iopub.status.busy": "2025-06-05T18:53:39.400283Z",
          "iopub.status.idle": "2025-06-05T18:53:54.782122Z",
          "shell.execute_reply": "2025-06-05T18:53:54.781301Z",
          "shell.execute_reply.started": "2025-06-05T18:53:39.400470Z"
        },
        "id": "de15e1fb-8714-48e3-abcf-6a5831d88f66",
        "outputId": "82b49200-aa90-4333-ac7e-b3db2dff09ff",
        "colab": {
          "base_uri": "https://localhost:8080/"
        }
      },
      "outputs": [
        {
          "output_type": "execute_result",
          "data": {
            "text/plain": [
              "72"
            ]
          },
          "metadata": {},
          "execution_count": 28
        }
      ],
      "source": [
        "# löst Referenz rückwarts auf\n",
        "\n",
        "patients_condition_reverse_resolve = data.extract(\n",
        "    \"Patient\",\n",
        "    columns=[\n",
        "        exp(\"id\", \"patient_resource_id\"),\n",
        "        exp(\n",
        "            \"identifier.where(type.coding.where(system='http://terminology.hl7.org/CodeSystem/v2-0203' and code='MR').exists()).value\",\n",
        "            \"patid_pseudonym\",\n",
        "        ),\n",
        "        exp(\"gender\", \"gender\"),\n",
        "        exp(\"birthDate\", \"birth_date\"),\n",
        "        exp(\"deceasedDateTime\", \"deceased_datetime\"),\n",
        "        exp(\"id\", \"condition_resource_id\"),\n",
        "        exp(\n",
        "            \"reverseResolve(Condition.subject).code.coding.where(system = 'http://fhir.de/CodeSystem/bfarm/icd-10-gm').code.first()\",\n",
        "            \"icd10_code\",\n",
        "        ),  # kardinalität 0...1\n",
        "        exp(\n",
        "            \"reverseResolve(Condition.subject).extension('http://hl7.org/fhir/StructureDefinition/condition-assertedDate').valueDateTime.first()\",\n",
        "            \"date_diagnosis\",\n",
        "        ),  # kardinalität 1..1\n",
        "        exp(\n",
        "            \"reverseResolve(Condition.subject).subject.reference\",\n",
        "            \"condition_subject_reference\",\n",
        "        ),\n",
        "    ],\n",
        ")\n",
        "\n",
        "patients_condition_reverse_resolve = patients_condition_reverse_resolve.checkpoint(\n",
        "    eager=True\n",
        ")\n",
        "patients_condition_reverse_resolve_count = patients_condition_reverse_resolve.count()\n",
        "patients_condition_reverse_resolve_count"
      ]
    },
    {
      "cell_type": "code",
      "execution_count": 29,
      "id": "ba3595a2-b71f-461f-ab1a-9828833c6a77",
      "metadata": {
        "execution": {
          "iopub.execute_input": "2025-06-05T18:53:54.783863Z",
          "iopub.status.busy": "2025-06-05T18:53:54.783414Z",
          "iopub.status.idle": "2025-06-05T18:53:54.816098Z",
          "shell.execute_reply": "2025-06-05T18:53:54.814746Z",
          "shell.execute_reply.started": "2025-06-05T18:53:54.783823Z"
        },
        "id": "ba3595a2-b71f-461f-ab1a-9828833c6a77",
        "outputId": "aca88c89-49ad-4085-de4f-546c61d7b821",
        "colab": {
          "base_uri": "https://localhost:8080/"
        }
      },
      "outputs": [
        {
          "output_type": "stream",
          "name": "stdout",
          "text": [
            "+-------------------+----------------+------+----------+-----------------+---------------------+----------+--------------+---------------------------+\n",
            "|patient_resource_id| patid_pseudonym|gender|birth_date|deceased_datetime|condition_resource_id|icd10_code|date_diagnosis|condition_subject_reference|\n",
            "+-------------------+----------------+------+----------+-----------------+---------------------+----------+--------------+---------------------------+\n",
            "|   64ffc8f6e2a04bf5|1f8367d0b53064c2|  male|1940-06-22|       2024-04-16|     64ffc8f6e2a04bf5|     C71.0|    2024-01-05|       Patient/64ffc8f6e...|\n",
            "|   60271b372396f53a|2f4017ec9a0d48c3|female|1954-06-30|       2024-07-25|     60271b372396f53a|     C18.0|    2023-08-20|       Patient/60271b372...|\n",
            "|   9ba79939ecbcae8f|550d43f7d5cc0b99|  male|1952-03-09|       2019-04-09|     9ba79939ecbcae8f|     C25.0|    2018-01-23|       Patient/9ba79939e...|\n",
            "|   114b17715cd8962f|7a258cbfec3c558c|  male|1948-12-06|       2023-11-10|     114b17715cd8962f|     C25.0|    2022-07-06|       Patient/114b17715...|\n",
            "|   733b6df2aeaaff06|897acc358f405500|female|1935-08-21|       2019-06-25|     733b6df2aeaaff06|     C25.0|    2019-03-07|       Patient/733b6df2a...|\n",
            "|   c9a0ff4052f66694|7376eec3bda52c36|  male|1954-09-05|             NULL|     c9a0ff4052f66694|     C15.3|    2023-06-24|       Patient/c9a0ff405...|\n",
            "|   7bd4e4bef7525055|2fd13c28ea85341f|female|1974-10-25|             NULL|     7bd4e4bef7525055|     C18.1|    2021-09-25|       Patient/7bd4e4bef...|\n",
            "|   bc2a1febe3171a48|6e10064de82b37de|  male|1973-08-13|             NULL|     bc2a1febe3171a48|     C25.1|    2024-03-15|       Patient/bc2a1febe...|\n",
            "|   1a29351020e186a6|ae54708e21efe7ba|  male|1946-08-04|             NULL|     1a29351020e186a6|     C18.0|    2023-02-11|       Patient/1a2935102...|\n",
            "|   e5c41057a1b66cda|6d85de25529cff53|  male|1939-06-28|             NULL|     e5c41057a1b66cda|     C18.3|    2024-03-04|       Patient/e5c41057a...|\n",
            "|   6b8a354c3efad190|a5f9039dc93a3ec5|  male|1971-11-30|             NULL|     6b8a354c3efad190|     C71.0|    2021-12-09|       Patient/6b8a354c3...|\n",
            "|   835107adef733603|88370bc88e2f867e|  male|1977-04-18|             NULL|     835107adef733603|     C15.5|    2022-11-09|       Patient/835107ade...|\n",
            "|   146b0071371fe6e6|e9a460fd4950bcb0|  male|1974-02-04|             NULL|     146b0071371fe6e6|     C71.2|    2024-03-10|       Patient/146b00713...|\n",
            "|   eb9728de512f00ec|15d8e14a10e068b8|female|1958-11-13|             NULL|     eb9728de512f00ec|     C15.9|    2023-11-24|       Patient/eb9728de5...|\n",
            "|   35ead2589e72ad07|54d3b4d0a7737549|  male|1983-12-14|             NULL|     35ead2589e72ad07|     C15.4|    2023-03-28|       Patient/35ead2589...|\n",
            "|   f0307634eb85ac96|e21bddef1c8868d6|female|1946-09-03|             NULL|     f0307634eb85ac96|     C18.2|    2024-06-19|       Patient/f0307634e...|\n",
            "|   be346e0fecc66702|c3cb058158b22b69|female|1944-10-11|             NULL|     be346e0fecc66702|     C18.7|    2023-10-30|       Patient/be346e0fe...|\n",
            "|   e33a2618c6e1a606|0475687e595c4b7b|female|1954-10-13|             NULL|     e33a2618c6e1a606|     C25.1|    2023-09-20|       Patient/e33a2618c...|\n",
            "|   9a80d68214de0bd4|0fe7da3a23578158|female|1946-12-16|             NULL|     9a80d68214de0bd4|     C71.0|    2022-10-15|       Patient/9a80d6821...|\n",
            "|   1f397d69496919fc|a2d3e71c34993a0b|  male|1991-08-11|             NULL|     1f397d69496919fc|     D43.0|    2024-04-30|       Patient/1f397d694...|\n",
            "+-------------------+----------------+------+----------+-----------------+---------------------+----------+--------------+---------------------------+\n",
            "only showing top 20 rows\n",
            "\n"
          ]
        }
      ],
      "source": [
        "patients_condition_reverse_resolve.show()"
      ]
    },
    {
      "cell_type": "markdown",
      "id": "c659c236-8b0b-4ba9-8a82-fb5f1a8ede77",
      "metadata": {
        "id": "c659c236-8b0b-4ba9-8a82-fb5f1a8ede77"
      },
      "source": [
        "### 3 Lösungswege für dasselbe Ergebnis"
      ]
    },
    {
      "cell_type": "code",
      "execution_count": 30,
      "id": "e7b0622a-6abb-4155-a43a-22004c10fb12",
      "metadata": {
        "execution": {
          "iopub.execute_input": "2025-06-05T18:53:54.818517Z",
          "iopub.status.busy": "2025-06-05T18:53:54.817680Z",
          "iopub.status.idle": "2025-06-05T18:53:54.891204Z",
          "shell.execute_reply": "2025-06-05T18:53:54.890067Z",
          "shell.execute_reply.started": "2025-06-05T18:53:54.818470Z"
        },
        "id": "e7b0622a-6abb-4155-a43a-22004c10fb12",
        "outputId": "8aeb6742-c029-4bba-edfd-140f9762765e",
        "colab": {
          "base_uri": "https://localhost:8080/"
        }
      },
      "outputs": [
        {
          "output_type": "stream",
          "name": "stdout",
          "text": [
            "aus join\n",
            "+---------------------+----------+--------------+---------------------------+-------------------+----------------+------+----------+-----------------+\n",
            "|condition_resource_id|icd10_code|date_diagnosis|condition_subject_reference|patient_resource_id| patid_pseudonym|gender|birth_date|deceased_datetime|\n",
            "+---------------------+----------+--------------+---------------------------+-------------------+----------------+------+----------+-----------------+\n",
            "|     051e5a0e019c30ce|     C18.3|    2024-03-04|           e5c41057a1b66cda|   e5c41057a1b66cda|6d85de25529cff53|  male|1939-06-28|             NULL|\n",
            "|     07d2b410e5cfbe5f|     C15.4|    2024-09-28|           ab0f1ed341372001|   ab0f1ed341372001|2b652c00c32a7f23|  male|1965-07-29|             NULL|\n",
            "+---------------------+----------+--------------+---------------------------+-------------------+----------------+------+----------+-----------------+\n",
            "only showing top 2 rows\n",
            "\n",
            "aus resolve:\n",
            "+---------------------+----------+--------------+---------------------------+-------------------+----------------+----------+------+-----------------+\n",
            "|condition_resource_id|icd10_code|date_diagnosis|condition_subject_reference|patient_resource_id| patid_pseudonym|birth_date|gender|deceased_datetime|\n",
            "+---------------------+----------+--------------+---------------------------+-------------------+----------------+----------+------+-----------------+\n",
            "|     051e5a0e019c30ce|     C18.3|    2024-03-04|       Patient/e5c41057a...|   e5c41057a1b66cda|6d85de25529cff53|1939-06-28|  male|             NULL|\n",
            "|     07d2b410e5cfbe5f|     C15.4|    2024-09-28|       Patient/ab0f1ed34...|   ab0f1ed341372001|2b652c00c32a7f23|1965-07-29|  male|             NULL|\n",
            "+---------------------+----------+--------------+---------------------------+-------------------+----------------+----------+------+-----------------+\n",
            "only showing top 2 rows\n",
            "\n",
            "aus reverseResolve:\n",
            "+-------------------+----------------+------+----------+-----------------+---------------------+----------+--------------+---------------------------+\n",
            "|patient_resource_id| patid_pseudonym|gender|birth_date|deceased_datetime|condition_resource_id|icd10_code|date_diagnosis|condition_subject_reference|\n",
            "+-------------------+----------------+------+----------+-----------------+---------------------+----------+--------------+---------------------------+\n",
            "|   07ec02b49e0b7aba|02024496e0b0bbd0|  male|1952-07-26|             NULL|     07ec02b49e0b7aba|     C71.2|    2024-07-14|       Patient/07ec02b49...|\n",
            "|   0a5f3ad16294b73a|faa462f05466be4d|  male|1954-08-21|             NULL|     0a5f3ad16294b73a|     C15.5|    2023-10-30|       Patient/0a5f3ad16...|\n",
            "+-------------------+----------------+------+----------+-----------------+---------------------+----------+--------------+---------------------------+\n",
            "only showing top 2 rows\n",
            "\n"
          ]
        }
      ],
      "source": [
        "# 1)\n",
        "print(\"aus join\")\n",
        "patients_conditions.sort(\"condition_resource_id\").show(2)\n",
        "\n",
        "# 2)\n",
        "print(\"aus resolve:\")\n",
        "conditions_patients_resolve.sort(\"condition_resource_id\").show(2)\n",
        "\n",
        "# 3\n",
        "print(\"aus reverseResolve:\")\n",
        "patients_condition_reverse_resolve.sort(\"condition_resource_id\").show(2)"
      ]
    },
    {
      "cell_type": "code",
      "execution_count": 31,
      "id": "8250a3ab-aafd-4a82-8725-6ea140f6de69",
      "metadata": {
        "execution": {
          "iopub.execute_input": "2025-06-05T18:53:54.893582Z",
          "iopub.status.busy": "2025-06-05T18:53:54.892770Z",
          "iopub.status.idle": "2025-06-05T18:53:55.047579Z",
          "shell.execute_reply": "2025-06-05T18:53:55.046417Z",
          "shell.execute_reply.started": "2025-06-05T18:53:54.893533Z"
        },
        "id": "8250a3ab-aafd-4a82-8725-6ea140f6de69",
        "outputId": "06d49dc7-8bba-473a-8ee8-3a301f82b66f",
        "colab": {
          "base_uri": "https://localhost:8080/",
          "height": 1000
        }
      },
      "outputs": [
        {
          "output_type": "stream",
          "name": "stdout",
          "text": [
            "+---------------------+----------+--------------+---------------------------+-------------------+----------------+------+----------+-----------------+----------------+\n",
            "|condition_resource_id|icd10_code|date_diagnosis|condition_subject_reference|patient_resource_id|patid_pseudonym |gender|birth_date|deceased_datetime|age_at_diagnosis|\n",
            "+---------------------+----------+--------------+---------------------------+-------------------+----------------+------+----------+-----------------+----------------+\n",
            "|051e5a0e019c30ce     |C18.3     |2024-03-04    |e5c41057a1b66cda           |e5c41057a1b66cda   |6d85de25529cff53|male  |1939-06-28|NULL             |84              |\n",
            "|0c9a439a485d1cfa     |C15.5     |2023-04-21    |61ed44a223187661           |61ed44a223187661   |bc1a1b4fe47fdb71|male  |1949-04-29|NULL             |73              |\n",
            "|af30c3406cd4ac00     |C18.4     |2023-12-28    |ba3253fe6ca96286           |ba3253fe6ca96286   |ad09e0030f7313f6|male  |1947-09-06|NULL             |76              |\n",
            "|252eb9211bc1b339     |C71.2     |2024-07-14    |07ec02b49e0b7aba           |07ec02b49e0b7aba   |02024496e0b0bbd0|male  |1952-07-26|NULL             |71              |\n",
            "|4e8432e66cce4dc4     |C25.0     |2024-09-01    |f44db4a5131c0ae2           |f44db4a5131c0ae2   |10e14a11759058db|female|1945-06-01|NULL             |79              |\n",
            "|f229ad9b04bea62e     |C71.0     |2022-11-03    |486a10dac0d746cd           |486a10dac0d746cd   |d7052e8b2a67419f|male  |1976-03-06|NULL             |46              |\n",
            "|e72e5f5440a7ffc5     |C25.0     |2022-07-06    |114b17715cd8962f           |114b17715cd8962f   |7a258cbfec3c558c|male  |1948-12-06|2023-11-10       |73              |\n",
            "|c4d249f2c7ddcf59     |C15.5     |2021-05-25    |68a0e992e0d91698           |68a0e992e0d91698   |265576fcb9672764|male  |1958-02-26|NULL             |63              |\n",
            "|8ccbaa3540124618     |D33.1     |2022-07-28    |e243400fe9c43b79           |e243400fe9c43b79   |66114d9620ecd6f3|male  |1981-05-08|NULL             |41              |\n",
            "|96fe81bd47dd30e1     |C25.0     |2018-01-23    |9ba79939ecbcae8f           |9ba79939ecbcae8f   |550d43f7d5cc0b99|male  |1952-03-09|2019-04-09       |65              |\n",
            "|52e5f2fc38f09bba     |C18.0     |2023-07-04    |79fa4eb7cadef929           |79fa4eb7cadef929   |ca363e555351a324|female|1945-01-27|NULL             |78              |\n",
            "|72317c2425bbd3c8     |C15.5     |2024-07-12    |fec730686892c631           |fec730686892c631   |dbff7aa920956fde|male  |1952-07-20|NULL             |71              |\n",
            "|92737702ea38a24c     |C25.2     |2019-05-27    |5cc1af2309e29e00           |5cc1af2309e29e00   |ed9dc76fe9f770f2|male  |1955-11-23|NULL             |63              |\n",
            "|8a7f134a200e57c1     |C25.1     |2024-02-18    |0c5298eb234951b1           |0c5298eb234951b1   |012657b165e05913|male  |1965-01-18|NULL             |59              |\n",
            "|afc792bfaea32585     |C25.0     |2022-12-25    |f3c131b13cbe3216           |f3c131b13cbe3216   |9028a3386120ec94|male  |1960-01-05|NULL             |62              |\n",
            "|b6d5a69ce456abf0     |C15.5     |2024-05-13    |c8490233e2b2a928           |c8490233e2b2a928   |777535caa6d34e27|male  |1970-01-06|NULL             |54              |\n",
            "|6961f769aab1b8cd     |C15.5     |2022-11-09    |835107adef733603           |835107adef733603   |88370bc88e2f867e|male  |1977-04-18|NULL             |45              |\n",
            "|f65c992f02dd6f78     |C15.3     |2023-06-24    |c9a0ff4052f66694           |c9a0ff4052f66694   |7376eec3bda52c36|male  |1954-09-05|NULL             |68              |\n",
            "|48ca83204ae98070     |C71.0     |2024-06-27    |150dcba579b4985d           |150dcba579b4985d   |99f5a1dcf9839f0a|male  |2010-12-16|NULL             |13              |\n",
            "|7daeb8ab9cae0e2f     |C15.3     |2020-12-08    |8e10679922d50f99           |8e10679922d50f99   |525435898cd242fd|male  |1954-02-04|NULL             |66              |\n",
            "+---------------------+----------+--------------+---------------------------+-------------------+----------------+------+----------+-----------------+----------------+\n",
            "only showing top 20 rows\n",
            "\n"
          ]
        },
        {
          "output_type": "display_data",
          "data": {
            "text/plain": [
              "<Figure size 1000x600 with 1 Axes>"
            ],
            "image/png": "[encoded data removed]"
          },
          "metadata": {}
        }
      ],
      "source": [
        "### Übung: Altersverteilung der onkologischen Patient:innen\n",
        "\n",
        "# 1.1 Berechne das Alter bei Diagnose aus dem Geburtsdatum und Diagnosedatum und füge es als neue Spalte in den DataFrame ein\n",
        "# Hinweis: diese Funktionen sind hilfreich: withColumn und\n",
        "from pyspark.sql.functions import col, datediff, floor, to_date\n",
        "\n",
        "patients_conditions = patients_conditions.withColumn(\n",
        "    \"birth_date\", to_date(col(\"birth_date\"))\n",
        ").withColumn(\n",
        "    \"age_at_diagnosis\",\n",
        "    floor(datediff(col(\"date_diagnosis\"), col(\"birth_date\")) / 365.25),\n",
        ")\n",
        "\n",
        "patients_conditions.show(truncate=False)\n",
        "\n",
        "# 1.2 Daten in Pandas überführen\n",
        "\n",
        "patients_conditions_pd = patients_conditions.toPandas()\n",
        "\n",
        "# 1.3 Zeichne ein Histogramm der Altersverteilung\n",
        "\n",
        "import matplotlib.pyplot as plt\n",
        "\n",
        "plt.figure(figsize=(10, 6))\n",
        "plt.hist(\n",
        "    patients_conditions_pd[\"age_at_diagnosis\"].dropna(),\n",
        "    bins=10,\n",
        "    edgecolor=\"black\",\n",
        "    color=\"blue\",\n",
        ")\n",
        "plt.xlabel(\"Alter (Jahre)\")\n",
        "plt.ylabel(\"Anzahl Patient:innen\")\n",
        "plt.grid(True)\n",
        "plt.show()"
      ]
    },
    {
      "cell_type": "markdown",
      "id": "60045f55-8804-4e7f-baef-bd010b08c194",
      "metadata": {
        "id": "60045f55-8804-4e7f-baef-bd010b08c194"
      },
      "source": [
        "# 3.  GRUPPENARBEIT\n",
        "### 4 ENTITÄTEN:\n",
        "##### (Quelle zugegebenermaßen aus Zeitgründen ChatGPT und stichprobenartig überprüft - falls hier etwas gar nicht passt, bitte melden :) )\n",
        "### 1. Ösophagus C15\n",
        "#### (Speiseröhrenkrebs)\n",
        "\n",
        "    Häufigkeit: Relativ selten, aber mit hoher Sterblichkeitsrate – etwa 5.000–6.000 Neuerkrankungen pro Jahr in Deutschland.\n",
        "\n",
        "    Typen: Zwei Hauptformen – Plattenepithelkarzinom (oberer/mittlerer Ösophagus) und Adenokarzinom (unterer Ösophagus).\n",
        "\n",
        "    Risikofaktoren: Rauchen, Alkohol, Refluxkrankheit (Barrett-Ösophagus), Adipositas.\n",
        "\n",
        "    Symptome: Schluckbeschwerden (Dysphagie), Gewichtsverlust, Brustschmerzen.\n",
        "\n",
        "    Prognose: Sehr schlecht; 5-Jahres-Überlebensrate liegt bei unter 20 %, oft wegen später Diagnose.\n",
        "### 2. Colon C18\n",
        "#### (Dickdarmkrebs, ohne Rektum)\n",
        "\n",
        "    Häufigkeit: Eine der häufigsten Krebsarten – etwa 33.000 Neuerkrankungen pro Jahr in Deutschland.\n",
        "\n",
        "    Früherkennung: Darmspiegelung (Koloskopie) ab 50 (Männer) bzw. 55 (Frauen) empfohlen.\n",
        "\n",
        "    Risikofaktoren: Ernährung (viel rotes Fleisch, wenig Ballaststoffe), familiäre Belastung, chronisch entzündliche Darmerkrankungen.\n",
        "\n",
        "    Symptome: Blut im Stuhl, Veränderungen des Stuhlgangs, unklare Bauchschmerzen.\n",
        "\n",
        "    Prognose: Bei früher Diagnose gute Heilungschancen – 5-Jahres-Überlebensrate >60 %.\n",
        "### 3. Pankreas C25\n",
        "#### (Bauchspeicheldrüsenkrebs)\n",
        "\n",
        "    Häufigkeit: Etwa 20.000 Neuerkrankungen jährlich in Deutschland, steigende Tendenz.\n",
        "\n",
        "    Typ: Meist duktales Adenokarzinom des Pankreaskopfes.\n",
        "\n",
        "    Risikofaktoren: Rauchen, chronische Pankreatitis, Diabetes mellitus, genetische Prädisposition.\n",
        "\n",
        "    Symptome: Unspezifisch – Gewichtsverlust, Oberbauchschmerzen, Ikterus (Gelbsucht).\n",
        "\n",
        "    Prognose: Sehr schlecht – 5-Jahres-Überlebensrate unter 10 %, meist späte Diagnose.\n",
        "### 4. Gliom C71\n",
        "#### (Hirntumor, maligner, z. B. Glioblastom)\n",
        "\n",
        "    Häufigkeit: Etwa 6.000–8.000 neue primäre Hirntumoren pro Jahr in Deutschland, davon viele Gliome.\n",
        "\n",
        "    Typen: Astrozytom, Oligodendrogliom, Glioblastom (besonders aggressiv).\n",
        "\n",
        "    Risikofaktoren: Meist unklar; wenige bekannte genetische Syndrome (z. B. Li-Fraumeni).\n",
        "\n",
        "    Symptome: Kopfschmerzen, epileptische Anfälle, neurologische Ausfälle (z. B. Lähmungen, Sprachstörungen).\n",
        "\n",
        "    Prognose: Stark abhängig vom Grad – Glioblastome (WHO Grad IV) haben eine mittlere Überlebenszeit von ca. 15 Monaten trotz Therapie.\n",
        "### Aufgabe: Wählt eine Entität aus (jede Entität sollte von mind. einer Gruppe gewählt werden) und führt folgende Analysen durch.\n",
        "#### 3.1: Wie häufig ist die Diagnose?\n",
        "#### 3.2: Wie ist die Diagnoseverteilung zwischen den Geschlechtern verteilt?\n",
        "#### 3.3: Wie sieht die Altersverteilung der Diagnose aus? Visualisiere das Ergebnis, z.B. in einem Histogramm.\n",
        "#### 3.4: Therapieanalyse: Operation, Strahlentherapie\n",
        "#### 3.5: Freie Auswertung - was interessiert dich noch innerhalb deiner Kohorte?"
      ]
    },
    {
      "cell_type": "code",
      "execution_count": 46,
      "id": "211ddcf9-add5-4578-a14f-b2328a346e8a",
      "metadata": {
        "execution": {
          "iopub.status.busy": "2025-06-05T18:53:55.047993Z",
          "iopub.status.idle": "2025-06-05T18:53:55.048186Z",
          "shell.execute_reply": "2025-06-05T18:53:55.048097Z",
          "shell.execute_reply.started": "2025-06-05T18:53:55.048087Z"
        },
        "id": "211ddcf9-add5-4578-a14f-b2328a346e8a",
        "outputId": "ff3d27b8-2483-432a-dfbc-2056d30700aa",
        "colab": {
          "base_uri": "https://localhost:8080/"
        }
      },
      "outputs": [
        {
          "output_type": "stream",
          "name": "stdout",
          "text": [
            "patients_conditions_c25_count = 19\n",
            "distinct condition ids count = 19\n"
          ]
        }
      ],
      "source": [
        "# Lösung 3.1 für C25 Kohorte\n",
        "patients_conditions_c25 = patients_conditions.filter(\n",
        "    col(\"icd10_code\").startswith(\"C25\")\n",
        ")\n",
        "\n",
        "patients_conditions_c25 = patients_conditions_c25.checkpoint(eager=True)\n",
        "patients_conditions_c25_count = patients_conditions_c25.count()\n",
        "\n",
        "print(\"patients_conditions_c25_count =\", patients_conditions_c25_count)\n",
        "\n",
        "print(\n",
        "    \"distinct condition ids count =\",\n",
        "    patients_conditions_c25.select(\"condition_resource_id\").distinct().count(),\n",
        ")"
      ]
    },
    {
      "cell_type": "code",
      "execution_count": 47,
      "id": "fccc83df-1c90-48a6-a3b8-111c45522cb8",
      "metadata": {
        "execution": {
          "iopub.status.busy": "2025-06-05T18:53:55.048696Z",
          "iopub.status.idle": "2025-06-05T18:53:55.048874Z",
          "shell.execute_reply": "2025-06-05T18:53:55.048793Z",
          "shell.execute_reply.started": "2025-06-05T18:53:55.048784Z"
        },
        "id": "fccc83df-1c90-48a6-a3b8-111c45522cb8",
        "outputId": "b2d6845a-7048-4577-9ee2-a8e2680afddd",
        "colab": {
          "base_uri": "https://localhost:8080/"
        }
      },
      "outputs": [
        {
          "output_type": "stream",
          "name": "stdout",
          "text": [
            "+---------------------+----------+--------------+---------------------------+-------------------+----------------+------+----------+-----------------+----------------+\n",
            "|condition_resource_id|icd10_code|date_diagnosis|condition_subject_reference|patient_resource_id| patid_pseudonym|gender|birth_date|deceased_datetime|age_at_diagnosis|\n",
            "+---------------------+----------+--------------+---------------------------+-------------------+----------------+------+----------+-----------------+----------------+\n",
            "|     4e8432e66cce4dc4|     C25.0|    2024-09-01|           f44db4a5131c0ae2|   f44db4a5131c0ae2|10e14a11759058db|female|1945-06-01|             NULL|              79|\n",
            "|     e72e5f5440a7ffc5|     C25.0|    2022-07-06|           114b17715cd8962f|   114b17715cd8962f|7a258cbfec3c558c|  male|1948-12-06|       2023-11-10|              73|\n",
            "|     96fe81bd47dd30e1|     C25.0|    2018-01-23|           9ba79939ecbcae8f|   9ba79939ecbcae8f|550d43f7d5cc0b99|  male|1952-03-09|       2019-04-09|              65|\n",
            "|     92737702ea38a24c|     C25.2|    2019-05-27|           5cc1af2309e29e00|   5cc1af2309e29e00|ed9dc76fe9f770f2|  male|1955-11-23|             NULL|              63|\n",
            "|     8a7f134a200e57c1|     C25.1|    2024-02-18|           0c5298eb234951b1|   0c5298eb234951b1|012657b165e05913|  male|1965-01-18|             NULL|              59|\n",
            "|     afc792bfaea32585|     C25.0|    2022-12-25|           f3c131b13cbe3216|   f3c131b13cbe3216|9028a3386120ec94|  male|1960-01-05|             NULL|              62|\n",
            "|     b28d21fb5d6a4bc8|     C25.0|    2019-03-07|           733b6df2aeaaff06|   733b6df2aeaaff06|897acc358f405500|female|1935-08-21|       2019-06-25|              83|\n",
            "|     ade47167ff1dfdf3|     C25.0|    2024-08-22|           d519100ec65f8463|   d519100ec65f8463|8a5f68d4af98aeca|female|1938-03-09|             NULL|              86|\n",
            "|     571773d4034c369f|     C25.1|    2023-09-20|           e33a2618c6e1a606|   e33a2618c6e1a606|0475687e595c4b7b|female|1954-10-13|             NULL|              68|\n",
            "|     4f44642223b63313|     C25.2|    2024-08-05|           2077049623716fd1|   2077049623716fd1|b2720f34b89d9245|female|1940-12-07|             NULL|              83|\n",
            "|     c4611d5632d12a16|     C25.1|    2024-05-07|           847d834b896e3a1d|   847d834b896e3a1d|874de26b0fe8d1ec|  male|1970-05-13|             NULL|              53|\n",
            "|     247b1136711dfde0|     C25.0|    2024-03-04|           eb49c8cc92207e82|   eb49c8cc92207e82|4dfd45ed72c18f56|  male|1954-05-08|             NULL|              69|\n",
            "|     528daf4eac7f9417|     C25.0|    2023-09-27|           437e8f9eae081c75|   437e8f9eae081c75|fc10ae29d9fa0a14|  male|1948-04-06|             NULL|              75|\n",
            "|     b37c6ee00044545c|     C25.2|    2024-03-24|           4a58365a0b7626a8|   4a58365a0b7626a8|6c361d87cf623ee9|female|1962-10-25|             NULL|              61|\n",
            "|     f4fe8697f1dff2db|     C25.0|    2023-08-08|           4f7b657ae62cb1f0|   4f7b657ae62cb1f0|e585243ed4c6ba5b|female|1943-11-05|             NULL|              79|\n",
            "|     e2152a349b25f742|     C25.1|    2024-03-15|           bc2a1febe3171a48|   bc2a1febe3171a48|6e10064de82b37de|  male|1973-08-13|             NULL|              50|\n",
            "|     8402e695ed6f7d9c|     C25.1|    2024-08-07|           befae30c74019b1c|   befae30c74019b1c|e6453cef780335f7|  male|1955-12-28|             NULL|              68|\n",
            "|     565abdf49ab9aaba|     C25.0|    2024-11-07|           69644926a2875823|   69644926a2875823|8988ec5db74e3446|female|1949-12-13|             NULL|              74|\n",
            "|     bba49ef6a65e1746|     C25.1|    2023-10-06|           b232a510b3cbd410|   b232a510b3cbd410|0edf6e1e8ad3e607|female|1966-07-19|             NULL|              57|\n",
            "+---------------------+----------+--------------+---------------------------+-------------------+----------------+------+----------+-----------------+----------------+\n",
            "\n"
          ]
        }
      ],
      "source": [
        "patients_conditions_c25.show()"
      ]
    },
    {
      "cell_type": "code",
      "execution_count": 48,
      "id": "1a464640-bf1a-42ad-88e1-aceb02eb4d05",
      "metadata": {
        "execution": {
          "iopub.status.busy": "2025-06-05T18:53:55.049381Z",
          "iopub.status.idle": "2025-06-05T18:53:55.049557Z",
          "shell.execute_reply": "2025-06-05T18:53:55.049476Z",
          "shell.execute_reply.started": "2025-06-05T18:53:55.049467Z"
        },
        "id": "1a464640-bf1a-42ad-88e1-aceb02eb4d05",
        "outputId": "5435ab13-40fe-420c-cecf-b93d41438122",
        "colab": {
          "base_uri": "https://localhost:8080/"
        }
      },
      "outputs": [
        {
          "output_type": "stream",
          "name": "stdout",
          "text": [
            "female: 9 , male: 10\n"
          ]
        }
      ],
      "source": [
        "# Lösung 3.2 für C25 Kohorte\n",
        "\n",
        "female = patients_conditions_c25.filter(col(\"gender\") == \"female\").count()\n",
        "male = patients_conditions_c25.filter(col(\"gender\") == \"male\").count()\n",
        "\n",
        "print(\"female:\", female, \", male:\", male)"
      ]
    },
    {
      "cell_type": "code",
      "execution_count": 49,
      "id": "da00b42c-02a4-4a49-8c8f-e11eef19e2d5",
      "metadata": {
        "execution": {
          "iopub.status.busy": "2025-06-05T18:53:55.050137Z",
          "iopub.status.idle": "2025-06-05T18:53:55.050319Z",
          "shell.execute_reply": "2025-06-05T18:53:55.050237Z",
          "shell.execute_reply.started": "2025-06-05T18:53:55.050228Z"
        },
        "id": "da00b42c-02a4-4a49-8c8f-e11eef19e2d5",
        "outputId": "f154c459-f7be-4c9b-be77-406c776a1144",
        "colab": {
          "base_uri": "https://localhost:8080/",
          "height": 979
        }
      },
      "outputs": [
        {
          "output_type": "stream",
          "name": "stdout",
          "text": [
            "+---------------------+----------+--------------+---------------------------+-------------------+----------------+------+----------+-----------------+----------------+\n",
            "|condition_resource_id|icd10_code|date_diagnosis|condition_subject_reference|patient_resource_id|patid_pseudonym |gender|birth_date|deceased_datetime|age_at_diagnosis|\n",
            "+---------------------+----------+--------------+---------------------------+-------------------+----------------+------+----------+-----------------+----------------+\n",
            "|4e8432e66cce4dc4     |C25.0     |2024-09-01    |f44db4a5131c0ae2           |f44db4a5131c0ae2   |10e14a11759058db|female|1945-06-01|NULL             |79              |\n",
            "|e72e5f5440a7ffc5     |C25.0     |2022-07-06    |114b17715cd8962f           |114b17715cd8962f   |7a258cbfec3c558c|male  |1948-12-06|2023-11-10       |73              |\n",
            "|96fe81bd47dd30e1     |C25.0     |2018-01-23    |9ba79939ecbcae8f           |9ba79939ecbcae8f   |550d43f7d5cc0b99|male  |1952-03-09|2019-04-09       |65              |\n",
            "|92737702ea38a24c     |C25.2     |2019-05-27    |5cc1af2309e29e00           |5cc1af2309e29e00   |ed9dc76fe9f770f2|male  |1955-11-23|NULL             |63              |\n",
            "|8a7f134a200e57c1     |C25.1     |2024-02-18    |0c5298eb234951b1           |0c5298eb234951b1   |012657b165e05913|male  |1965-01-18|NULL             |59              |\n",
            "|afc792bfaea32585     |C25.0     |2022-12-25    |f3c131b13cbe3216           |f3c131b13cbe3216   |9028a3386120ec94|male  |1960-01-05|NULL             |62              |\n",
            "|b28d21fb5d6a4bc8     |C25.0     |2019-03-07    |733b6df2aeaaff06           |733b6df2aeaaff06   |897acc358f405500|female|1935-08-21|2019-06-25       |83              |\n",
            "|ade47167ff1dfdf3     |C25.0     |2024-08-22    |d519100ec65f8463           |d519100ec65f8463   |8a5f68d4af98aeca|female|1938-03-09|NULL             |86              |\n",
            "|571773d4034c369f     |C25.1     |2023-09-20    |e33a2618c6e1a606           |e33a2618c6e1a606   |0475687e595c4b7b|female|1954-10-13|NULL             |68              |\n",
            "|4f44642223b63313     |C25.2     |2024-08-05    |2077049623716fd1           |2077049623716fd1   |b2720f34b89d9245|female|1940-12-07|NULL             |83              |\n",
            "|c4611d5632d12a16     |C25.1     |2024-05-07    |847d834b896e3a1d           |847d834b896e3a1d   |874de26b0fe8d1ec|male  |1970-05-13|NULL             |53              |\n",
            "|247b1136711dfde0     |C25.0     |2024-03-04    |eb49c8cc92207e82           |eb49c8cc92207e82   |4dfd45ed72c18f56|male  |1954-05-08|NULL             |69              |\n",
            "|528daf4eac7f9417     |C25.0     |2023-09-27    |437e8f9eae081c75           |437e8f9eae081c75   |fc10ae29d9fa0a14|male  |1948-04-06|NULL             |75              |\n",
            "|b37c6ee00044545c     |C25.2     |2024-03-24    |4a58365a0b7626a8           |4a58365a0b7626a8   |6c361d87cf623ee9|female|1962-10-25|NULL             |61              |\n",
            "|f4fe8697f1dff2db     |C25.0     |2023-08-08    |4f7b657ae62cb1f0           |4f7b657ae62cb1f0   |e585243ed4c6ba5b|female|1943-11-05|NULL             |79              |\n",
            "|e2152a349b25f742     |C25.1     |2024-03-15    |bc2a1febe3171a48           |bc2a1febe3171a48   |6e10064de82b37de|male  |1973-08-13|NULL             |50              |\n",
            "|8402e695ed6f7d9c     |C25.1     |2024-08-07    |befae30c74019b1c           |befae30c74019b1c   |e6453cef780335f7|male  |1955-12-28|NULL             |68              |\n",
            "|565abdf49ab9aaba     |C25.0     |2024-11-07    |69644926a2875823           |69644926a2875823   |8988ec5db74e3446|female|1949-12-13|NULL             |74              |\n",
            "|bba49ef6a65e1746     |C25.1     |2023-10-06    |b232a510b3cbd410           |b232a510b3cbd410   |0edf6e1e8ad3e607|female|1966-07-19|NULL             |57              |\n",
            "+---------------------+----------+--------------+---------------------------+-------------------+----------------+------+----------+-----------------+----------------+\n",
            "\n"
          ]
        },
        {
          "output_type": "display_data",
          "data": {
            "text/plain": [
              "<Figure size 1000x600 with 1 Axes>"
            ],
            "image/png": "[encoded data removed]"
          },
          "metadata": {}
        }
      ],
      "source": [
        "# Lösung 3.3 für C25 Kohorte\n",
        "patients_conditions_c25 = patients_conditions_c25.withColumn(\n",
        "    \"birth_date\", to_date(col(\"birth_date\"))\n",
        ").withColumn(\n",
        "    \"age_at_diagnosis\",\n",
        "    floor(datediff(col(\"date_diagnosis\"), col(\"birth_date\")) / 365.25),\n",
        ")\n",
        "\n",
        "patients_conditions_c25.show(truncate=False)\n",
        "\n",
        "patients_conditions_c25 = patients_conditions_c25.toPandas()\n",
        "\n",
        "import matplotlib.pyplot as plt\n",
        "\n",
        "plt.figure(figsize=(10, 6))\n",
        "plt.hist(\n",
        "    patients_conditions_c25[\"age_at_diagnosis\"].dropna(),\n",
        "    bins=10,\n",
        "    edgecolor=\"black\",\n",
        "    color=\"blue\",\n",
        ")\n",
        "plt.xlabel(\"Alter (Jahre)\")\n",
        "plt.ylabel(\"Anzahl Patient:innen\")\n",
        "plt.grid(True)\n",
        "plt.show()"
      ]
    },
    {
      "cell_type": "markdown",
      "id": "14907e12",
      "metadata": {
        "id": "14907e12"
      },
      "source": [
        "### 3.4: Therapieanalyse"
      ]
    },
    {
      "cell_type": "markdown",
      "id": "73ac6c45-22a0-4315-ab19-b7e66ddd7145",
      "metadata": {
        "execution": {
          "iopub.status.busy": "2025-06-05T11:10:22.194312Z",
          "iopub.status.idle": "2025-06-05T11:10:22.194513Z",
          "shell.execute_reply": "2025-06-05T11:10:22.194422Z",
          "shell.execute_reply.started": "2025-06-05T11:10:22.194412Z"
        },
        "id": "73ac6c45-22a0-4315-ab19-b7e66ddd7145"
      },
      "source": [
        "#### OPERATION -- RESOURCENTYP: PROCEDURE\n",
        "https://simplifier.net/guide/mii-ig-modul-onkologie-2024-de/MIIIGModulOnkologie/TechnischeImplementierung/FHIR-Profile/Operation/Operation-Procedure.page.md?version=current"
      ]
    },
    {
      "cell_type": "code",
      "execution_count": null,
      "id": "c3db28a7-e696-41e7-b2d5-39207482a502",
      "metadata": {
        "execution": {
          "iopub.execute_input": "2025-06-05T18:02:52.034025Z",
          "iopub.status.busy": "2025-06-05T18:02:52.033424Z",
          "iopub.status.idle": "2025-06-05T18:02:52.039882Z",
          "shell.execute_reply": "2025-06-05T18:02:52.038507Z",
          "shell.execute_reply.started": "2025-06-05T18:02:52.033974Z"
        },
        "id": "c3db28a7-e696-41e7-b2d5-39207482a502"
      },
      "outputs": [],
      "source": [
        "# 3.4 Operationen: untersuche wie häufig deine Kohorte die Therapieform Operation erhält.\n",
        "\n",
        "# Extrahiere die folgenden Spalten: op resource id, category, op_date, op intention, OPS Code + icd10 code und condition_resource_id der zugrundeliegenden Diagnose\n",
        "# Welche OP Intentionen findest du in deiner Kohorte, wie oft kommen sie jeweils vor und wofür stehen die Codes? (Stichwort ValueSet im Implementation Guide)\n",
        "# Extrahiere hierfür die entsprechende Extension (analog zum Diagnosedatum im Einführungsbeispiel).\n",
        "\n",
        "# Hinweise\n",
        "# - mithilfe der folgenden Snomed CT category.coding.codes kannst du Operationen filtern:\n",
        "# 387713003 - Surgical procedure\n",
        "# 165197003 - Diagnostic assessment\n",
        "# 394841004 - Other category\n",
        "\n",
        "# - über Procedure.reasonReference hast du die Verbindung zur zugrundeliegenden Condition Resource = Diagnose.\n",
        "# - überprüfe dringend jederzeit die distinct op_resource_ids und betrachte den gesamten dataframe, um sicherzustellen, dass du keine duplizierten Zeilen erzeugt hast."
      ]
    },
    {
      "cell_type": "markdown",
      "id": "08c64da2",
      "metadata": {
        "id": "08c64da2"
      },
      "source": [
        "#### STRAHLENTHERAPIE -- RESOURCENTYP: PROCEDURE\n",
        "https://simplifier.net/guide/mii-ig-modul-onkologie-2024-de/MIIIGModulOnkologie/TechnischeImplementierung/FHIR-Profile/Strahlentherapie/Strahlentherapie-Procedure.page.md?version=current"
      ]
    },
    {
      "cell_type": "code",
      "execution_count": null,
      "id": "46919526-8f21-45f2-a7f1-bac8584f3b87",
      "metadata": {
        "id": "46919526-8f21-45f2-a7f1-bac8584f3b87"
      },
      "outputs": [],
      "source": [
        "# 3.4 Strahlentherapie: untersuche wie häufig deine Kohorte die Therapieform Strahlentherapie erhält.\n",
        "\n",
        "# Extrahiere die folgenden Spalten: st resource id, category, st_start_date und st_end_date und st_datetime, op intention, OPS Code + icd10 code und condition_resource_id der zugrundeliegenden Diagnose\n",
        "# Welche OP Intentionen findest du in deiner Kohorte, wie oft kommen sie jeweils vor und wofür stehen die Codes? (Stichwort ValueSet im Implementation Guide)\n",
        "# Extrahiere hierfür die entsprechende Extension (analog zum Diagnosedatum im Einführungsbeispiel).\n",
        "\n",
        "# Hinweise\n",
        "# - mithilfe der folgenden Snomed CT category.coding.codes kannst du Operationen filtern:\n",
        "# \"1287742003\" Radiotherapy (procedure)\n",
        "# \"399315003\" Radionuclide therapy (procedure)\n",
        "\n",
        "# - über Procedure.reasonReference hast du die Verbindung zur zugrundeliegenden Condition Resource = Diagnose.\n",
        "# - überprüfe dringend jederzeit die distinct st_resource_ids und betrachte den gesamten dataframe, um sicherzustellen, dass du keine duplizierten Zeilen erzeugt hast.\n",
        "\n",
        "\n",
        "# 3.4 Operationen - Lösung:"
      ]
    },
    {
      "cell_type": "code",
      "execution_count": null,
      "id": "55e5611d",
      "metadata": {
        "id": "55e5611d"
      },
      "outputs": [],
      "source": []
    },
    {
      "cell_type": "markdown",
      "id": "11fa2de7",
      "metadata": {
        "id": "11fa2de7"
      },
      "source": [
        "### 3.5: Freie Auswertung - was interessiert dich noch innerhalb deiner Kohorte?\n",
        "#### Aufgabe: überlege dir deine eigene Auswertung, erzeuge ggf. einen anschaulichen Plot\n",
        "#### Inspiration: Geschlecht/Altersverteilung der Therapieformen"
      ]
    },
    {
      "cell_type": "code",
      "execution_count": null,
      "id": "bb8c2530-e3ff-45a6-8512-721080ab0edf",
      "metadata": {
        "execution": {
          "iopub.status.busy": "2025-06-05T11:10:22.195663Z",
          "iopub.status.idle": "2025-06-05T11:10:22.195916Z",
          "shell.execute_reply": "2025-06-05T11:10:22.195812Z",
          "shell.execute_reply.started": "2025-06-05T11:10:22.195801Z"
        },
        "id": "bb8c2530-e3ff-45a6-8512-721080ab0edf"
      },
      "outputs": [],
      "source": []
    },
    {
      "cell_type": "code",
      "execution_count": null,
      "id": "89e3a037-6de0-47d0-b694-b54f93969d17",
      "metadata": {
        "id": "89e3a037-6de0-47d0-b694-b54f93969d17"
      },
      "outputs": [],
      "source": []
    },
    {
      "cell_type": "code",
      "execution_count": null,
      "id": "3572129d-11b3-4cbc-98d6-53d0cf529a05",
      "metadata": {
        "id": "3572129d-11b3-4cbc-98d6-53d0cf529a05"
      },
      "outputs": [],
      "source": []
    },
    {
      "cell_type": "code",
      "execution_count": null,
      "id": "fee8f105-bcaf-44f2-8db2-01dc47491602",
      "metadata": {
        "id": "fee8f105-bcaf-44f2-8db2-01dc47491602"
      },
      "outputs": [],
      "source": []
    },
    {
      "cell_type": "code",
      "execution_count": null,
      "id": "3c39b502-9945-486e-85e2-0be401dd0044",
      "metadata": {
        "id": "3c39b502-9945-486e-85e2-0be401dd0044"
      },
      "outputs": [],
      "source": []
    },
    {
      "cell_type": "code",
      "execution_count": null,
      "id": "072ad723-5871-4248-b0fe-639eca079d63",
      "metadata": {
        "id": "072ad723-5871-4248-b0fe-639eca079d63"
      },
      "outputs": [],
      "source": []
    },
    {
      "cell_type": "code",
      "execution_count": null,
      "id": "f5ca49e7-e595-4676-8ab3-5c7b20cf51b2",
      "metadata": {
        "id": "f5ca49e7-e595-4676-8ab3-5c7b20cf51b2"
      },
      "outputs": [],
      "source": []
    },
    {
      "cell_type": "code",
      "execution_count": null,
      "id": "104ab237-4f8c-4708-87a3-138dbfcd8055",
      "metadata": {
        "id": "104ab237-4f8c-4708-87a3-138dbfcd8055"
      },
      "outputs": [],
      "source": []
    },
    {
      "cell_type": "code",
      "execution_count": null,
      "id": "b3ecce50-5c65-403c-9b50-965b16850e15",
      "metadata": {
        "id": "b3ecce50-5c65-403c-9b50-965b16850e15"
      },
      "outputs": [],
      "source": []
    },
    {
      "cell_type": "code",
      "execution_count": null,
      "id": "38665273-3d20-4bbd-9d39-d7f5ca074f03",
      "metadata": {
        "id": "38665273-3d20-4bbd-9d39-d7f5ca074f03"
      },
      "outputs": [],
      "source": []
    }
  ],
  "metadata": {
    "kernelspec": {
      "display_name": ".venv",
      "language": "python",
      "name": "python3"
    },
    "language_info": {
      "codemirror_mode": {
        "name": "ipython",
        "version": 3
      },
      "file_extension": ".py",
      "mimetype": "text/x-python",
      "name": "python",
      "nbconvert_exporter": "python",
      "pygments_lexer": "ipython3",
      "version": "3.11.9"
    },
    "colab": {
      "provenance": []
    }
  },
  "nbformat": 4,
  "nbformat_minor": 5
}