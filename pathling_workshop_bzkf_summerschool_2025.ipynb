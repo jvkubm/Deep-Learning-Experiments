{
  "cells": [
    {
      "cell_type": "code",
      "execution_count": 20,
      "id": "4707c816",
      "metadata": {
        "colab": {
          "base_uri": "https://localhost:8080/"
        },
        "id": "4707c816",
        "outputId": "3cc2b182-7283-4424-f279-8ec6d32b0c99"
      },
      "outputs": [
        {
          "output_type": "stream",
          "name": "stdout",
          "text": [
            "Archive:  testdaten_edit_06.06.25.zip\n",
            " extracting: 0d3ca394ec4721bbb7040cc8be8a0e2c1881a50cf08399715eb3305b0769eb4a.json  \n",
            " extracting: 3b34ee5ba8285beb05f42aeaa12f39ec10dd6e00643cce3eea50a78086e97d3c.json  \n",
            " extracting: 4acf957e62cdf103c91a780b47faed6f08e669a70152f140f83b98072efb462f.json  \n",
            " extracting: 4b3445e44d2729ab3ea8723f91e819edd09754dcd5d0e514564110c34322d74d.json  \n",
            " extracting: 4fd06b5bff15c1178546f382964793baaf0a0c8af66b92b81dc8b6cd3504aab0.json  \n",
            " extracting: 5dcf27da9477a18d0103ef7b61efe7b40cfffd9346eba5d2b777256120ed797c.json  \n",
            " extracting: 5dd435a5190b43923ab1ab4173f5cc74e002e9162561df3cc39b037bb0096ada.json  \n",
            " extracting: 5fd1ebc847703519f45eededc84f216cbc191cea99390dda1a5fc9b6291e5dcd.json  \n",
            " extracting: 06a7dca0f637d59b11620203fd22309cf52ce7cf41363c51e222450a16081a8b.json  \n",
            " extracting: 6b848dc7cc0344c674e87e97b0d193f86c8d89bf0751fb4760fd0b7ecc11a53e.json  \n",
            " extracting: 6b912d29474e14767f22a621a6cb997dffb4b51781782a0d81d571eec0ab7892.json  \n",
            " extracting: 6ed1659f802d306cdd97d7fb9bea201f31a6663a1197f877ed4990a180942847.json  \n",
            " extracting: 9aa1279bc762016dcf209719b8ada11a2768bfb26d9264a789d0bf2c0ccb4d8e.json  \n",
            " extracting: 9c4e8c340e3a1c04a2ea7d3fad5fadbc385f57eb622c698deeef2d8540bfe0fe.json  \n",
            " extracting: 9e270ef517f513ea9356b08d65677809916eac467984a4b4940898de768e8f28.json  \n",
            " extracting: 34f603ca88a8cb406444ef34a2d380d8105d09b7803bb8205d3679036d9443cd.json  \n",
            " extracting: 40e917065197c23e2d5478480ed16a06a32cea6664d2789d432b8fb3aecf61e7.json  \n",
            " extracting: 44d77783c3e4eddd5c2f108152f710efed044b667bb2012fcc2c7ba8e99afb86.json  \n",
            " extracting: 64d1a5e23d8cbbdc231d1f62da461905e94e9108af12283122aafcef9796f90d.json  \n",
            " extracting: 70e36f01b1d8cfa37db9b9f6a9e4adb44adadf628a8d0d4f929f6e1b9448e4d5.json  \n",
            " extracting: 90b2939cc882080051cb450a4b14986a463cdc424c03f5fe859bb585a4ca1f14.json  \n",
            " extracting: 105fb3262e9808634e8baf29e1878d8b2a9eee399e537df2ca7e9190c59409a9.json  \n",
            " extracting: 164a748a8214d466e9d25c473b9d283d2ef030701e9b06cac94f7325182d062f.json  \n",
            " extracting: 292bc08aaa8b94dea8108fd5e89e8b13e389587e6a6b0d3566a6fdad7a750226.json  \n",
            " extracting: 293c462322c4b638d40337d45d8d655aef54c9baa44071a0dd2520fea3a12f12.json  \n",
            " extracting: 0321acdcb629357e0301a23b55410186e002b56edc39b998c2fc336663d63260.json  \n",
            " extracting: 388dff8bb13b7054b2619c817edf83947a61899469479ac3235130f4530be1d3.json  \n",
            " extracting: 452b79f0b555af7d47ee31e70bbed7123ebf4c462898b284b0672c5379254d78.json  \n",
            " extracting: 500c454afd335bc9f239f569a3bdbda3edf204ccfd5b0d1850dc173f02508845.json  \n",
            " extracting: 643abee32b142ff3e1e92efb00190f032c99a297c085fafc94f83f0e6f66bef2.json  \n",
            " extracting: 675af5236abcac5d4f4d4b4d1936da2d139fc70c995950d93f9744e9adb4b1fd.json  \n",
            " extracting: 834d1452ae3dc221d97c7c9574ebcffe6b59d4a132f491eec0233646a9f2a0b7.json  \n",
            " extracting: 899b00406f52b9bfbbd91d648f4b5bf883a12aac08d7653adede5915a6615aad.json  \n",
            " extracting: 962df31a8c09a319b19542b1e3ed17ce65939c8c35aedb793310638a4783aa73.json  \n",
            " extracting: 1109f12b077ae83edcbcc479b51905cdd00108e35b92a531599aabbce9fec08e.json  \n",
            " extracting: 02561ef895b010111042796595fafb37c56b2446a280964ea003545757ebdbf4.json  \n",
            " extracting: 3220fead600e2f5369fb8524d5289cee66daf9d3519de7bf61ca9a10523520ea.json  \n",
            " extracting: 9730d2316a74c3f74000bb1225eb28bd7198a235845a3794fce78a1db52d10a7.json  \n",
            " extracting: 12903dea1a0c4e39b1f420dee26f07048cff43f69873982cdf6dc6dda4d378f8.json  \n",
            " extracting: 36951a4fa6a2093e5cfd01d004d12418d6ddf4ba8300f83feef08474c679fc94.json  \n",
            " extracting: 47408f8b0abf247d52cac435e2bd59c2209e018439dcdec5fe0ee9a9c3b37da8.json  \n",
            " extracting: 58952af2d7b68175113ae5e0a64568ba42756e3be08bf5dbae71202b5e13b085.json  \n",
            " extracting: 59644dc18c4f84e5bb3b6ab4f46938635b8e4191d85dc941161e03c760560435.json  \n",
            " extracting: 115596e04bd54002ddb0f893b47fd3955b3fbbd4c76415a91fcf31843b99b940.json  \n",
            " extracting: 117849de74bde45cf72caa43885cd6e2b9bbd72f7970ab686207b08f7b0d301d.json  \n",
            " extracting: 6890839691b14917b456d9cc1074c5dd79a1f686b9a49aa0df5f2e6065d72713.json  \n",
            " extracting: 14767038471a52121f5d40fc339722762fe1c5288aa19834b240a7d2a9c57749.json  \n",
            " extracting: a3d80b57a0c6012d816a1a8d8cb8f5fc6f7b39b42ab94d3be7d8da7c47f831d4.json  \n",
            " extracting: a64fd6a001865bc93262b9ce48c5ac97d0221b920a606cf9c58943ab459c1bb7.json  \n",
            " extracting: a83b2d10243597b954c02d4a49ea8357dbe0ca0b6ec259453edc9faa1d9f4637.json  \n",
            " extracting: af75523925cc424aa0f3d987d20b0644e1475c4afcde0779c12aeb26d1643565.json  \n",
            " extracting: b6a320fd73b42ce17269c0a7bc04d7c7bb1cebc102f09649c8cada88293c6108.json  \n",
            " extracting: b215cb5345543b94333b6e29012d34a9a0289c85b0befa877e42d3562da9f039.json  \n",
            " extracting: b224c6267f4c0a6882b53029d531758d075f6c0658d43cd9f0cf2224c2ac3852.json  \n",
            " extracting: b2946bbbd8a28357806a7dab5ae99ee50ef8e4867016d1b8ee7a180bad0cb72b.json  \n",
            " extracting: bafaeeacf82a9ebc696cda89db6788f75cd11842c56d721ce1a07cddf7d3f370.json  \n",
            " extracting: bc8a02793006ba39875f205cf957cb2b0e2e5d6c3b178c64cc2741dd50e858c0.json  \n",
            " extracting: be74f07cd6c8c7707d6019a43eadbfd6b7b9a1c934d7171aaea5516c5da21759.json  \n",
            " extracting: c3d3b338ecff75a2a1847371457916cc4c8f7e071ca8229eab197e621f88ca5d.json  \n",
            " extracting: c8227d30bcf54bbc69c9d7c6e709237a3e7b07e5039bbcd063c050b2fe2c3698.json  \n",
            " extracting: ca27089e8cbb0f78a0b40cc3790ffdc1b7716e329eaa61778c376e31d39526e2.json  \n",
            " extracting: cb4e64444fcac80db036ad93f0ab03cad7905b55d103eee9d21991c06a4a885f.json  \n",
            " extracting: ce391692954c6127ee769e40c85735882cf49ed4d84196f2891e9276c7e13e19.json  \n",
            " extracting: d4d51f451e5d2c5b968ca07e04c1390a9bf1f29a3a4809a4a766610564b69616.json  \n",
            " extracting: dd4c63e0679a813a313253b141414558ea6660706ca06380aef0e125a7e52b87.json  \n",
            " extracting: e1bc57e4d9f8a70b89f942cd9e98aa2937d818c990eda7834866ca6d52c5b78c.json  \n",
            " extracting: e39f81d0c7083b9b1499a2fbeb4cd009111210e6939609934ff5298f55990d9c.json  \n",
            " extracting: ea02f1daab798c80098297b5cf80623bf655cbae3fc99c0a2442e6d35b634a0a.json  \n",
            " extracting: f1b75a80ba8616f0a3376932e6f7a43dbea434d8d3cd368b937f445d03dbb126.json  \n",
            " extracting: f6dc66ff8c0ba83cabf18871dbe7a3ed173493720d1a68145e45e70e5e1ab4c3.json  \n",
            " extracting: f00607b63021b7065437ec8d90e53c5fbc946e5f75e9680fafbc2a712768fb81.json  \n",
            " extracting: fb0bcff512ceb8c12a01dc9a9594034431f3987c1e809c7473d504bdd823c0f9.json  \n"
          ]
        }
      ],
      "source": [
        "!unzip -o \"testdaten_edit_06.06.25.zip\""
      ]
    },
    {
      "cell_type": "markdown",
      "id": "9608b07b",
      "metadata": {
        "id": "9608b07b"
      },
      "source": [
        "# Pathling Workshop\n",
        "## Getting started\n",
        "### Testdaten Download: https://cloud.uk-erlangen.de/s/qS9BcyYLcpAJWH7\n",
        "\n",
        "### Relevante Links:\n",
        "#### https://build.fhir.org/fhirpath.html\n",
        "#### https://hl7.github.io/fhirpath.js/\n",
        "#### https://www.basisdatensatz.de/basisdatensatz\n",
        "#### https://simplifier.net/guide/mii-ig-modul-onkologie-2024-de/MIIIGModulOnkologie?version=current"
      ]
    },
    {
      "cell_type": "code",
      "execution_count": 21,
      "id": "a5bb6345-88a3-48c3-a07f-dbcc14f45a18",
      "metadata": {
        "execution": {
          "iopub.execute_input": "2025-06-05T11:09:11.168332Z",
          "iopub.status.busy": "2025-06-05T11:09:11.167646Z",
          "iopub.status.idle": "2025-06-05T11:09:14.142762Z",
          "shell.execute_reply": "2025-06-05T11:09:14.141057Z",
          "shell.execute_reply.started": "2025-06-05T11:09:11.168279Z"
        },
        "colab": {
          "base_uri": "https://localhost:8080/"
        },
        "id": "a5bb6345-88a3-48c3-a07f-dbcc14f45a18",
        "outputId": "2a821cee-f68e-44d6-9158-ac748a3ff41f"
      },
      "outputs": [
        {
          "output_type": "stream",
          "name": "stdout",
          "text": [
            "\u001b[33m\r0% [Working]\u001b[0m\r            \rHit:1 https://cloud.r-project.org/bin/linux/ubuntu jammy-cran40/ InRelease\n",
            "\u001b[33m\r0% [Connecting to archive.ubuntu.com (91.189.91.81)] [Connecting to security.ub\u001b[0m\r                                                                               \rHit:2 https://developer.download.nvidia.com/compute/cuda/repos/ubuntu2204/x86_64  InRelease\n",
            "Hit:3 http://security.ubuntu.com/ubuntu jammy-security InRelease\n",
            "Hit:4 https://r2u.stat.illinois.edu/ubuntu jammy InRelease\n",
            "Hit:5 http://archive.ubuntu.com/ubuntu jammy InRelease\n",
            "Hit:6 http://archive.ubuntu.com/ubuntu jammy-updates InRelease\n",
            "Hit:7 http://archive.ubuntu.com/ubuntu jammy-backports InRelease\n",
            "Hit:8 https://ppa.launchpadcontent.net/deadsnakes/ppa/ubuntu jammy InRelease\n",
            "Hit:9 https://ppa.launchpadcontent.net/graphics-drivers/ppa/ubuntu jammy InRelease\n",
            "Hit:10 https://ppa.launchpadcontent.net/ubuntugis/ppa/ubuntu jammy InRelease\n",
            "Reading package lists... Done\n",
            "Building dependency tree... Done\n",
            "Reading state information... Done\n",
            "39 packages can be upgraded. Run 'apt list --upgradable' to see them.\n",
            "\u001b[1;33mW: \u001b[0mSkipping acquire of configured file 'main/source/Sources' as repository 'https://r2u.stat.illinois.edu/ubuntu jammy InRelease' does not seem to provide it (sources.list entry misspelt?)\u001b[0m\n",
            "Reading package lists... Done\n",
            "Building dependency tree... Done\n",
            "Reading state information... Done\n",
            "openjdk-17-jdk-headless is already the newest version (17.0.15+6~us1-0ubuntu1~22.04).\n",
            "0 upgraded, 0 newly installed, 0 to remove and 39 not upgraded.\n",
            "Requirement already satisfied: pathling==7.2.0 in /usr/local/lib/python3.11/dist-packages (7.2.0)\n",
            "Requirement already satisfied: pandas==2.2.2 in /usr/local/lib/python3.11/dist-packages (2.2.2)\n",
            "Requirement already satisfied: matplotlib==3.9.1 in /usr/local/lib/python3.11/dist-packages (3.9.1)\n",
            "Requirement already satisfied: pyspark<3.6.0,>=3.5.3 in /usr/local/lib/python3.11/dist-packages (from pathling==7.2.0) (3.5.6)\n",
            "Requirement already satisfied: deprecated>=1.2.13 in /usr/local/lib/python3.11/dist-packages (from pathling==7.2.0) (1.2.18)\n",
            "Requirement already satisfied: numpy>=1.23.2 in /usr/local/lib/python3.11/dist-packages (from pandas==2.2.2) (2.0.2)\n",
            "Requirement already satisfied: python-dateutil>=2.8.2 in /usr/local/lib/python3.11/dist-packages (from pandas==2.2.2) (2.9.0.post0)\n",
            "Requirement already satisfied: pytz>=2020.1 in /usr/local/lib/python3.11/dist-packages (from pandas==2.2.2) (2025.2)\n",
            "Requirement already satisfied: tzdata>=2022.7 in /usr/local/lib/python3.11/dist-packages (from pandas==2.2.2) (2025.2)\n",
            "Requirement already satisfied: contourpy>=1.0.1 in /usr/local/lib/python3.11/dist-packages (from matplotlib==3.9.1) (1.3.2)\n",
            "Requirement already satisfied: cycler>=0.10 in /usr/local/lib/python3.11/dist-packages (from matplotlib==3.9.1) (0.12.1)\n",
            "Requirement already satisfied: fonttools>=4.22.0 in /usr/local/lib/python3.11/dist-packages (from matplotlib==3.9.1) (4.58.1)\n",
            "Requirement already satisfied: kiwisolver>=1.3.1 in /usr/local/lib/python3.11/dist-packages (from matplotlib==3.9.1) (1.4.8)\n",
            "Requirement already satisfied: packaging>=20.0 in /usr/local/lib/python3.11/dist-packages (from matplotlib==3.9.1) (24.2)\n",
            "Requirement already satisfied: pillow>=8 in /usr/local/lib/python3.11/dist-packages (from matplotlib==3.9.1) (11.2.1)\n",
            "Requirement already satisfied: pyparsing>=2.3.1 in /usr/local/lib/python3.11/dist-packages (from matplotlib==3.9.1) (3.2.3)\n",
            "Requirement already satisfied: wrapt<2,>=1.10 in /usr/local/lib/python3.11/dist-packages (from deprecated>=1.2.13->pathling==7.2.0) (1.17.2)\n",
            "Requirement already satisfied: py4j==0.10.9.7 in /usr/local/lib/python3.11/dist-packages (from pyspark<3.6.0,>=3.5.3->pathling==7.2.0) (0.10.9.7)\n",
            "Requirement already satisfied: six>=1.5 in /usr/local/lib/python3.11/dist-packages (from python-dateutil>=2.8.2->pandas==2.2.2) (1.17.0)\n"
          ]
        }
      ],
      "source": [
        "!apt update\n",
        "!apt install -y openjdk-17-jdk-headless\n",
        "!pip install pathling==7.2.0 pandas==2.2.2 matplotlib==3.9.1"
      ]
    },
    {
      "cell_type": "markdown",
      "id": "c8ee90f5-824d-4490-8262-222507de5662",
      "metadata": {
        "execution": {
          "iopub.execute_input": "2025-05-28T08:22:49.178122Z",
          "iopub.status.busy": "2025-05-28T08:22:49.177510Z",
          "iopub.status.idle": "2025-05-28T08:22:51.539759Z",
          "shell.execute_reply": "2025-05-28T08:22:51.538139Z",
          "shell.execute_reply.started": "2025-05-28T08:22:49.178066Z"
        },
        "id": "c8ee90f5-824d-4490-8262-222507de5662"
      },
      "source": [
        "# Einführung in die FHIR-Datenextraktion und -analyse mit Pathling"
      ]
    },
    {
      "cell_type": "code",
      "execution_count": 22,
      "id": "19ad03d7-6ac7-4811-bb04-7135d128b119",
      "metadata": {
        "execution": {
          "iopub.execute_input": "2025-06-05T18:52:46.714584Z",
          "iopub.status.busy": "2025-06-05T18:52:46.714023Z",
          "iopub.status.idle": "2025-06-05T18:52:46.796101Z",
          "shell.execute_reply": "2025-06-05T18:52:46.794673Z",
          "shell.execute_reply.started": "2025-06-05T18:52:46.714536Z"
        },
        "id": "19ad03d7-6ac7-4811-bb04-7135d128b119"
      },
      "outputs": [],
      "source": [
        "from pathling import PathlingContext, Expression as exp\n",
        "from pyspark.sql import SparkSession\n",
        "\n",
        "from pyspark.sql.functions import col, regexp_replace, to_date\n",
        "\n",
        "spark = (\n",
        "    SparkSession.builder.config(\n",
        "        \"spark.jars.packages\",\n",
        "        \"au.csiro.pathling:library-runtime:7.2.0,\",\n",
        "        # \"io.delta:delta-core_2.12:2.4.0,\"\n",
        "        # \"org.apache.hadoop:hadoop-aws:3.3.4\",\n",
        "    )\n",
        "    .config(\"spark.executor.memory\", \"8g\")\n",
        "    .config(\"spark.driver.memory\", \"10g\")\n",
        "    .config(\"spark.serializer\", \"org.apache.spark.serializer.KryoSerializer\")\n",
        "    .getOrCreate()\n",
        ")\n",
        "\n",
        "spark.sparkContext.setCheckpointDir(\"/tmp\")\n",
        "\n",
        "pc = PathlingContext.create(\n",
        "    spark=spark,\n",
        "    enable_extensions=True,\n",
        "    enable_delta=True,\n",
        "    enable_terminology=False,\n",
        ")"
      ]
    },
    {
      "cell_type": "code",
      "execution_count": 27,
      "id": "8511c788-e0c5-47cf-bda4-b75038d86075",
      "metadata": {
        "execution": {
          "iopub.execute_input": "2025-06-05T18:52:48.248348Z",
          "iopub.status.busy": "2025-06-05T18:52:48.247766Z",
          "iopub.status.idle": "2025-06-05T18:52:49.879123Z",
          "shell.execute_reply": "2025-06-05T18:52:49.877714Z",
          "shell.execute_reply.started": "2025-06-05T18:52:48.248296Z"
        },
        "id": "8511c788-e0c5-47cf-bda4-b75038d86075"
      },
      "outputs": [],
      "source": [
        "### Load Patient Data\n",
        "# Wir laden die einzelnen FHIR-Bundles in eine Pathling data source\n",
        "\n",
        "# !!Vorher müssen die json-Files in den Ordner data/ hier in die Laufzeit hochgeladen werden!!\n",
        "# TO DO: curl repo and download images here\n",
        "\n",
        "data = pc.read.bundles(\n",
        "    \"./\", [\"Patient\", \"Condition\", \"Observation\", \"Procedure\"]\n",
        ")"
      ]
    },
    {
      "cell_type": "code",
      "execution_count": 29,
      "id": "a7abc06b-10a8-4550-bcf8-85439b7a1eed",
      "metadata": {
        "execution": {
          "iopub.execute_input": "2025-06-05T18:52:49.882024Z",
          "iopub.status.busy": "2025-06-05T18:52:49.881498Z",
          "iopub.status.idle": "2025-06-05T18:52:49.888568Z",
          "shell.execute_reply": "2025-06-05T18:52:49.887924Z",
          "shell.execute_reply.started": "2025-06-05T18:52:49.881973Z"
        },
        "colab": {
          "base_uri": "https://localhost:8080/"
        },
        "id": "a7abc06b-10a8-4550-bcf8-85439b7a1eed",
        "outputId": "206f380a-3ed6-42cb-db2a-78696691c471"
      },
      "outputs": [
        {
          "output_type": "execute_result",
          "data": {
            "text/plain": [
              "<pathling.datasource.DataSource at 0x7b29b2a83150>"
            ]
          },
          "metadata": {},
          "execution_count": 29
        }
      ],
      "source": [
        "data"
      ]
    },
    {
      "cell_type": "markdown",
      "id": "4c07e9d5-4a49-4144-a1e3-37a0820f493e",
      "metadata": {
        "id": "4c07e9d5-4a49-4144-a1e3-37a0820f493e"
      },
      "source": [
        "_______________________________________________________________________"
      ]
    },
    {
      "cell_type": "markdown",
      "id": "781897be-b1af-428b-a036-c2cae5f1c703",
      "metadata": {
        "id": "781897be-b1af-428b-a036-c2cae5f1c703"
      },
      "source": [
        "# MII Resourcen - Erweiterungsmodul Onkologie\n",
        "## Implementation Guide\n",
        "https://simplifier.net/guide/mii-ig-modul-onkologie-2024-de/MIIIGModulOnkologie?version=current"
      ]
    },
    {
      "cell_type": "markdown",
      "id": "67a50695-b1e7-4c60-a670-7f3754848b5e",
      "metadata": {
        "id": "67a50695-b1e7-4c60-a670-7f3754848b5e"
      },
      "source": [
        "# THEMEN:\n",
        "## 1. Extract\n",
        "## 2. Combining Resource Types\n",
        "### 2.1 Join\n",
        "### 2.2 Resolve\n",
        "### 2.3 ReverseResolve\n",
        "## 3. GROUP EXERCISE: 4 entities\n",
        "### 3.1 Diagnosis frequency\n",
        "### 3.2 Gender distribution\n",
        "### 3.3 Age distribution\n",
        "### 3.4 Therapy analysis: surgery, radiotherapy\n",
        "### 3.5 Free Analysis - or time for group work brain storming\n",
        "________________________________________________________________________"
      ]
    },
    {
      "cell_type": "markdown",
      "id": "12e68dc2-c2df-4c96-af4c-391564e165ae",
      "metadata": {
        "id": "12e68dc2-c2df-4c96-af4c-391564e165ae"
      },
      "source": [
        "# 1. Extract"
      ]
    },
    {
      "cell_type": "markdown",
      "id": "d61e7b40-a051-494b-bbbc-b663f87d45fd",
      "metadata": {
        "id": "d61e7b40-a051-494b-bbbc-b663f87d45fd"
      },
      "source": [
        "## PATIENT -- RESOURCENTYP: PATIENT\n",
        "https://www.medizininformatik-initiative.de/Kerndatensatz/Modul_Person_Version_2/MIIIGModulPerson-TechnischeImplementierung-FHIR-Profile-PseudonymisiertePatientinPatient.html"
      ]
    },
    {
      "cell_type": "code",
      "execution_count": 30,
      "id": "d24e2385-d2dd-4be3-a2aa-10b3b1ae3732",
      "metadata": {
        "execution": {
          "iopub.execute_input": "2025-06-05T18:52:52.844494Z",
          "iopub.status.busy": "2025-06-05T18:52:52.843865Z",
          "iopub.status.idle": "2025-06-05T18:52:56.286427Z",
          "shell.execute_reply": "2025-06-05T18:52:56.284929Z",
          "shell.execute_reply.started": "2025-06-05T18:52:52.844442Z"
        },
        "colab": {
          "base_uri": "https://localhost:8080/"
        },
        "id": "d24e2385-d2dd-4be3-a2aa-10b3b1ae3732",
        "outputId": "f02c3c88-76ef-4116-b4f2-1d1e0ac8f3fb"
      },
      "outputs": [
        {
          "output_type": "stream",
          "name": "stdout",
          "text": [
            "72\n"
          ]
        }
      ],
      "source": [
        "### Extract Patient Data\n",
        "\n",
        "# Wir nutzen `extract`, um nur den Resourcentyp Patient aus der Pathling datasource zu extrahieren und in einen Pyspark Dataframe zu laden\n",
        "# mithilfe von FHIR Path Ausdrücken können wir in Arrays verschachtelte FHIR Elemente \"ausklappen\" und als Spalte darstellen\n",
        "# exp(\"<FHIR Path Ausdruck>\", \"<Spaltenname>\")\n",
        "\n",
        "# Dabei extrahieren wir:\n",
        "# - die einmalige FHIR Resource ID für jede Patientenresource\n",
        "# - die pseudonymisierte Patienten-ID\n",
        "# - das Geschlecht\n",
        "# - das Geburtsdatum\n",
        "# - das Sterbedatum\n",
        "\n",
        "patients = data.extract(\n",
        "    \"Patient\",\n",
        "    columns=[\n",
        "        exp(\"id\", \"patient_resource_id\"),\n",
        "        exp(\n",
        "            \"identifier.where(type.coding.where(system='http://terminology.hl7.org/CodeSystem/v2-0203' and code='MR').exists()).value\",\n",
        "            \"patid_pseudonym\",\n",
        "        ),\n",
        "        exp(\"gender\", \"gender\"),\n",
        "        exp(\"birthDate\", \"birth_date\"), # second argument is how we want to name it\n",
        "        exp(\"deceasedDateTime\", \"deceased_datetime\"),\n",
        "    ],\n",
        ")\n",
        "\n",
        "# da die extract Funktion relativ resourcenintensiv werden kann in Abhängigkeit der Datenmenge, und da Spark \"lazy\" agiert, lohnt es sich hier Spark Checkpoint einzusetzen\n",
        "# \"lazy\" bedeutet, dass Spark alle Befehle in einer To Do Liste sammelt und erst nach einer \"Action\" ausführt.\n",
        "# Außerdem speichert Spark keinen materialisierten Zwischenstand des dataframes, wenn man das nicht ausdrücklich verlangt\n",
        "# mithilfe des Checkpoints können wir einen solchen Zwischenstand des dataframes zwischenspeichern und verhindern somit, dass Spark dieselben Schritte immer wieder ausführt\n",
        "# das \"count\" brauchen wir hier als Action, damit auch der checkpoint sofort ausgeführt wird und nicht aufgrund der \"laziness\" in die To Do Liste wandert\n",
        "# mithilfe von spark.sparkContext.setCheckpointDir() können wir den Speicherort der Checkpoints festlegen\n",
        "\n",
        "patients = patients.checkpoint(eager=True)\n",
        "patients_count = patients.count()  # enforce checkpoint\n",
        "\n",
        "print(patients_count)"
      ]
    },
    {
      "cell_type": "code",
      "execution_count": 31,
      "id": "878ed3d5-23db-456a-bc40-369b02f0cdaa",
      "metadata": {
        "execution": {
          "iopub.execute_input": "2025-06-05T18:52:56.289688Z",
          "iopub.status.busy": "2025-06-05T18:52:56.288868Z",
          "iopub.status.idle": "2025-06-05T18:52:56.391131Z",
          "shell.execute_reply": "2025-06-05T18:52:56.390608Z",
          "shell.execute_reply.started": "2025-06-05T18:52:56.289639Z"
        },
        "colab": {
          "base_uri": "https://localhost:8080/"
        },
        "id": "878ed3d5-23db-456a-bc40-369b02f0cdaa",
        "outputId": "b5ade171-5dbd-4a28-b95e-62a6388a63d9"
      },
      "outputs": [
        {
          "output_type": "stream",
          "name": "stdout",
          "text": [
            "+-------------------+----------------+------+----------+-----------------+\n",
            "|patient_resource_id| patid_pseudonym|gender|birth_date|deceased_datetime|\n",
            "+-------------------+----------------+------+----------+-----------------+\n",
            "|   64ffc8f6e2a04bf5|1f8367d0b53064c2|  male|1940-06-22|       2024-04-16|\n",
            "|   9ba79939ecbcae8f|550d43f7d5cc0b99|  male|1952-03-09|       2019-04-09|\n",
            "|   114b17715cd8962f|7a258cbfec3c558c|  male|1948-12-06|       2023-11-10|\n",
            "|   60271b372396f53a|2f4017ec9a0d48c3|female|1954-06-30|       2024-07-25|\n",
            "|   733b6df2aeaaff06|897acc358f405500|female|1935-08-21|       2019-06-25|\n",
            "|   ede861350630aad2|65af284f62167c91|  male|1959-06-02|             NULL|\n",
            "|   150dcba579b4985d|99f5a1dcf9839f0a|  male|2010-12-16|             NULL|\n",
            "|   3698207ddd269247|033959a00c40ffb4|female|1971-10-30|             NULL|\n",
            "|   e6573e3c68ea98f2|690fc95f6e6ac7bb|female|1943-09-12|             NULL|\n",
            "|   847d834b896e3a1d|874de26b0fe8d1ec|  male|1970-05-13|             NULL|\n",
            "|   ab0f1ed341372001|2b652c00c32a7f23|  male|1965-07-29|             NULL|\n",
            "|   6b8a354c3efad190|a5f9039dc93a3ec5|  male|1971-11-30|             NULL|\n",
            "|   e6f48bd3bc9800c8|9c66451b0837e1a8|female|1975-07-08|             NULL|\n",
            "|   cc2d75349812f146|03dce5400ee975cd|  male|1939-01-26|             NULL|\n",
            "|   e33a2618c6e1a606|0475687e595c4b7b|female|1954-10-13|             NULL|\n",
            "|   4f7b657ae62cb1f0|e585243ed4c6ba5b|female|1943-11-05|             NULL|\n",
            "|   f3c131b13cbe3216|9028a3386120ec94|  male|1960-01-05|             NULL|\n",
            "|   9a79159bda44a2de|7c0adc238acd5789|  male|1993-01-19|             NULL|\n",
            "|   71d7ce5bbdf4c09a|3885e9aa7e691af0|female|1991-05-24|             NULL|\n",
            "|   ba3253fe6ca96286|ad09e0030f7313f6|  male|1947-09-06|             NULL|\n",
            "|   e5c41057a1b66cda|6d85de25529cff53|  male|1939-06-28|             NULL|\n",
            "|   835107adef733603|88370bc88e2f867e|  male|1977-04-18|             NULL|\n",
            "|   79fa4eb7cadef929|ca363e555351a324|female|1945-01-27|             NULL|\n",
            "|   486a10dac0d746cd|d7052e8b2a67419f|  male|1976-03-06|             NULL|\n",
            "|   eb9728de512f00ec|15d8e14a10e068b8|female|1958-11-13|             NULL|\n",
            "|   5cc1af2309e29e00|ed9dc76fe9f770f2|  male|1955-11-23|             NULL|\n",
            "|   2077049623716fd1|b2720f34b89d9245|female|1940-12-07|             NULL|\n",
            "|   69644926a2875823|8988ec5db74e3446|female|1949-12-13|             NULL|\n",
            "|   a1d728be37480030|6e98dce2f6665e34|  male|1985-09-20|             NULL|\n",
            "|   e243400fe9c43b79|66114d9620ecd6f3|  male|1981-05-08|             NULL|\n",
            "|   b232a510b3cbd410|0edf6e1e8ad3e607|female|1966-07-19|             NULL|\n",
            "|   07ec02b49e0b7aba|02024496e0b0bbd0|  male|1952-07-26|             NULL|\n",
            "|   c8490233e2b2a928|777535caa6d34e27|  male|1970-01-06|             NULL|\n",
            "|   0fae573b17cb69e5|54656b6bc73b3e67|  male|1957-02-18|             NULL|\n",
            "|   52b7120e3fc05325|b086d01df7325249|  male|1965-06-22|             NULL|\n",
            "|   0a5f3ad16294b73a|faa462f05466be4d|  male|1954-08-21|             NULL|\n",
            "|   befae30c74019b1c|e6453cef780335f7|  male|1955-12-28|             NULL|\n",
            "|   6be5fcae3308a468|a2f2aefd463efaba|female|1969-04-22|             NULL|\n",
            "|   f44db4a5131c0ae2|10e14a11759058db|female|1945-06-01|             NULL|\n",
            "|   3875fc2637316141|74f005020d523886|female|2003-09-14|             NULL|\n",
            "|   3cda8e94d07a0709|59a13bc638788557|female|1986-10-05|             NULL|\n",
            "|   d85cf173277cf6fc|7642512ad6451717|female|1949-05-23|             NULL|\n",
            "|   3b2f3fa2e95230cd|d11500d025918563|  male|1972-08-18|             NULL|\n",
            "|   eb49c8cc92207e82|4dfd45ed72c18f56|  male|1954-05-08|             NULL|\n",
            "|   d239c43f8031a31f|e84f76477c5b0028|female|1946-12-17|             NULL|\n",
            "|   d519100ec65f8463|8a5f68d4af98aeca|female|1938-03-09|             NULL|\n",
            "|   21560e6558e3bce2|5c2b413aa84ba1da|female|1962-11-24|             NULL|\n",
            "|   146b0071371fe6e6|e9a460fd4950bcb0|  male|1974-02-04|             NULL|\n",
            "|   9a80d68214de0bd4|0fe7da3a23578158|female|1946-12-16|             NULL|\n",
            "|   0c5298eb234951b1|012657b165e05913|  male|1965-01-18|             NULL|\n",
            "|   b90e420a6b680c0d|daea3f56491d7e11|  male|1967-06-27|             NULL|\n",
            "|   ce38bdeb6979b366|fd59faa459aa1b58|female|2006-03-11|             NULL|\n",
            "|   61ed44a223187661|bc1a1b4fe47fdb71|  male|1949-04-29|             NULL|\n",
            "|   50cbcfff7d06dc25|e0f490515d505599|female|1986-11-04|             NULL|\n",
            "|   f7af2b9dcfa04d8c|a61f3e73ee67760a|  male|1995-04-19|             NULL|\n",
            "|   8e10679922d50f99|525435898cd242fd|  male|1954-02-04|             NULL|\n",
            "|   4a58365a0b7626a8|6c361d87cf623ee9|female|1962-10-25|             NULL|\n",
            "|   f0307634eb85ac96|e21bddef1c8868d6|female|1946-09-03|             NULL|\n",
            "|   4eb565eedf9e2d7c|bb1f1e250eb74db1|  male|1958-07-03|             NULL|\n",
            "|   be346e0fecc66702|c3cb058158b22b69|female|1944-10-11|             NULL|\n",
            "|   7bd4e4bef7525055|2fd13c28ea85341f|female|1974-10-25|             NULL|\n",
            "|   437e8f9eae081c75|fc10ae29d9fa0a14|  male|1948-04-06|             NULL|\n",
            "|   ceb53268e9158898|0f069f1f4799b1ca|female|2024-02-04|             NULL|\n",
            "|   68a0e992e0d91698|265576fcb9672764|  male|1958-02-26|             NULL|\n",
            "|   1f397d69496919fc|a2d3e71c34993a0b|  male|1991-08-11|             NULL|\n",
            "|   1a29351020e186a6|ae54708e21efe7ba|  male|1946-08-04|             NULL|\n",
            "|   7f2318f53b459500|af2c6ffe972bd869|female|1970-07-21|             NULL|\n",
            "|   1e2fd734cf35cf44|c407872dea98a2b9|  male|1949-11-15|             NULL|\n",
            "|   35ead2589e72ad07|54d3b4d0a7737549|  male|1983-12-14|             NULL|\n",
            "|   c9a0ff4052f66694|7376eec3bda52c36|  male|1954-09-05|             NULL|\n",
            "|   fec730686892c631|dbff7aa920956fde|  male|1952-07-20|             NULL|\n",
            "|   bc2a1febe3171a48|6e10064de82b37de|  male|1973-08-13|             NULL|\n",
            "+-------------------+----------------+------+----------+-----------------+\n",
            "\n"
          ]
        }
      ],
      "source": [
        "patients.show(72)"
      ]
    },
    {
      "cell_type": "code",
      "execution_count": 32,
      "id": "74e20cd6-0989-43c5-94f3-ace7a067dc7c",
      "metadata": {
        "execution": {
          "iopub.execute_input": "2025-06-05T18:52:56.391983Z",
          "iopub.status.busy": "2025-06-05T18:52:56.391801Z",
          "iopub.status.idle": "2025-06-05T18:52:56.505994Z",
          "shell.execute_reply": "2025-06-05T18:52:56.505050Z",
          "shell.execute_reply.started": "2025-06-05T18:52:56.391966Z"
        },
        "colab": {
          "base_uri": "https://localhost:8080/"
        },
        "id": "74e20cd6-0989-43c5-94f3-ace7a067dc7c",
        "outputId": "aba68cb3-6e81-43c2-bf0d-555f62652f5e"
      },
      "outputs": [
        {
          "output_type": "execute_result",
          "data": {
            "text/plain": [
              "72"
            ]
          },
          "metadata": {},
          "execution_count": 32
        }
      ],
      "source": [
        "# good practice: immer die Gesamtanzahl im Auge behalten\n",
        "# weil: potentiell explosionsartiges Duplizieren\n",
        "# z.B. mit count distinct resource ids --> manchmal kann ein zu ungenau spezifiziertes extract der Arrays dazu führen, dass durch das Aufklappen eines Arrays\n",
        "# mit mehr als einem Element mehrere Zeilen pro Patient (oder Diagnose, etc) erzeugt werden\n",
        "patients.select(\"patient_resource_id\").distinct().count()"
      ]
    },
    {
      "cell_type": "code",
      "execution_count": 33,
      "id": "eeeaf769-eaa3-4343-b7d0-5b112fd0e16b",
      "metadata": {
        "execution": {
          "iopub.execute_input": "2025-06-05T18:52:57.486034Z",
          "iopub.status.busy": "2025-06-05T18:52:57.485429Z",
          "iopub.status.idle": "2025-06-05T18:52:57.600811Z",
          "shell.execute_reply": "2025-06-05T18:52:57.599358Z",
          "shell.execute_reply.started": "2025-06-05T18:52:57.485983Z"
        },
        "colab": {
          "base_uri": "https://localhost:8080/"
        },
        "id": "eeeaf769-eaa3-4343-b7d0-5b112fd0e16b",
        "outputId": "21a81cb5-9b89-4b36-ad01-8f31ce306873"
      },
      "outputs": [
        {
          "output_type": "stream",
          "name": "stdout",
          "text": [
            "Verstorben: 5 , lebend oder unbekannt: 67\n"
          ]
        }
      ],
      "source": [
        "# Übung: Wieviele Patient*innen unserer Kohorte sind verstorben und wieviele leben noch bzw. haben keine Sterbeinformation?\n",
        "\n",
        "## LÖSUNG:\n",
        "verstorben = patients.filter(col(\"deceased_datetime\").isNotNull()).count()\n",
        "lebend = patients.filter(col(\"deceased_datetime\").isNull()).count()\n",
        "\n",
        "print(\"Verstorben:\", verstorben, \", lebend oder unbekannt:\", lebend)"
      ]
    },
    {
      "cell_type": "markdown",
      "id": "cf4ae697-dc40-4b42-9e41-ab7e2a514dd4",
      "metadata": {
        "id": "cf4ae697-dc40-4b42-9e41-ab7e2a514dd4"
      },
      "source": [
        "## PRIMAERDIAGNOSE -- RESOURCENTYP: CONDITION\n",
        "https://simplifier.net/guide/mii-ig-modul-onkologie-2024-de/MIIIGModulOnkologie/TechnischeImplementierung/FHIR-Profile/Diagnose/Diagnose-Condition.page.md?version=current"
      ]
    },
    {
      "cell_type": "code",
      "execution_count": null,
      "id": "e7c3cfd9-cc4e-426b-b937-886b4911e2e0",
      "metadata": {
        "execution": {
          "iopub.execute_input": "2025-06-05T18:52:58.384986Z",
          "iopub.status.busy": "2025-06-05T18:52:58.383905Z",
          "iopub.status.idle": "2025-06-05T18:53:00.233582Z",
          "shell.execute_reply": "2025-06-05T18:53:00.232487Z",
          "shell.execute_reply.started": "2025-06-05T18:52:58.384946Z"
        },
        "id": "e7c3cfd9-cc4e-426b-b937-886b4911e2e0"
      },
      "outputs": [],
      "source": [
        "# wir extrahieren alle Diagnosen - jede Diagnose hat eine eindeutige ID\n",
        "# wieviele eindeutige Diagnosen haben wir?\n",
        "\n",
        "conditions = data.extract(\n",
        "    \"Condition\",\n",
        "    columns=[\n",
        "        exp(\"id\", \"condition_resource_id\"),\n",
        "    ],\n",
        ")\n",
        "conditions = conditions.checkpoint(eager=True)\n",
        "conditions_count = conditions.count()  # enforce checkpoint\n",
        "\n",
        "print(conditions_count)"
      ]
    },
    {
      "cell_type": "code",
      "execution_count": null,
      "id": "bbdbd785-64bd-4246-b40f-70b5aaa69d38",
      "metadata": {
        "execution": {
          "iopub.execute_input": "2025-06-05T18:53:00.235815Z",
          "iopub.status.busy": "2025-06-05T18:53:00.235402Z",
          "iopub.status.idle": "2025-06-05T18:53:00.455666Z",
          "shell.execute_reply": "2025-06-05T18:53:00.454478Z",
          "shell.execute_reply.started": "2025-06-05T18:53:00.235779Z"
        },
        "id": "bbdbd785-64bd-4246-b40f-70b5aaa69d38"
      },
      "outputs": [],
      "source": [
        "# good practice: count distinct ids\n",
        "conditions.select(\"condition_resource_id\").distinct().count()"
      ]
    },
    {
      "cell_type": "code",
      "execution_count": null,
      "id": "0c51f743",
      "metadata": {
        "id": "0c51f743"
      },
      "outputs": [],
      "source": [
        "# dazu extrahieren wir den ICD10 Diagnose Code\n",
        "\n",
        "# \"where\" in der FHIR Path Expression exp...() ist die Projektion (analog zu WHERE in SQL)\n",
        "# das \"where\" im Filter ist die tatsächliche Selektion (analog zu SELECT in SQL)\n",
        "\n",
        "conditions = data.extract(\n",
        "    \"Condition\",\n",
        "    columns=[\n",
        "        exp(\"id\", \"condition_resource_id\"),\n",
        "        exp(\n",
        "            \"code.coding.where(system = 'http://fhir.de/CodeSystem/bfarm/icd-10-gm').code\",  # explizit system angeben, falls es noch weitere Codings mit anderen Systemen gibt\n",
        "            \"icd10_code\",\n",
        "        ),\n",
        "    ],\n",
        "    filters=[\n",
        "        \"code.coding.where(system = 'http://fhir.de/CodeSystem/bfarm/icd-10-gm').exists()\"  # explizit System nochmal selektieren, um NULL rows zu entfernen, die durch andere Codings ggf. entstehen\n",
        "    ],\n",
        ")\n",
        "\n",
        "conditions = conditions.checkpoint(eager=True)\n",
        "conditions_count = conditions.count()  # enforce checkpoint\n",
        "\n",
        "print(conditions_count)"
      ]
    },
    {
      "cell_type": "code",
      "execution_count": null,
      "id": "43e79cf5",
      "metadata": {
        "id": "43e79cf5"
      },
      "outputs": [],
      "source": [
        "# Welche Diagnosen kommen in unserem Datensatz vor?\n",
        "\n",
        "icd10_codes = (\n",
        "    conditions.select(\"icd10_code\")\n",
        "    .distinct()\n",
        "    .orderBy(\"icd10_code\")\n",
        "    .rdd.flatMap(lambda x: x)\n",
        "    .collect()\n",
        ")\n",
        "icd10_codes"
      ]
    },
    {
      "cell_type": "code",
      "execution_count": null,
      "id": "7ba1e24c-bc27-4918-abbb-9f5eecc1fc2a",
      "metadata": {
        "execution": {
          "iopub.execute_input": "2025-06-05T18:53:06.775018Z",
          "iopub.status.busy": "2025-06-05T18:53:06.774551Z",
          "iopub.status.idle": "2025-06-05T18:53:13.712298Z",
          "shell.execute_reply": "2025-06-05T18:53:13.711291Z",
          "shell.execute_reply.started": "2025-06-05T18:53:06.774987Z"
        },
        "id": "7ba1e24c-bc27-4918-abbb-9f5eecc1fc2a"
      },
      "outputs": [],
      "source": [
        "# Achtung vor explodierenden row counts und Duplikaten!\n",
        "\n",
        "# die Duplikation entsteht erst wenn ein Element auf condition ebene (höher als code.coding.code Ebene) hinzukommt zum\n",
        "# framework macht intern einen cross join\n",
        "# https://pathling.csiro.au/docs/server/operations/extract --> siehe Abschnitt \"Notes\"\n",
        "conditions = data.extract(\n",
        "    \"Condition\",\n",
        "    columns=[\n",
        "        exp(\"id\", \"condition_resource_id\"),\n",
        "        exp(\n",
        "            \"code.coding.where(system = 'http://fhir.de/CodeSystem/bfarm/icd-10-gm').code\",\n",
        "            \"icd10_code\",\n",
        "        ),  # kardinalität 0...1\n",
        "        exp(\n",
        "            \"extension('http://hl7.org/fhir/StructureDefinition/condition-assertedDate').valueDateTime\",\n",
        "            \"date_diagnosis\",\n",
        "        ),  # kardinalität 1..1\n",
        "    ],\n",
        "    filters=[\n",
        "        \"code.coding.where(system = 'http://fhir.de/CodeSystem/bfarm/icd-10-gm').exists()\",\n",
        "    ],\n",
        ")\n",
        "\n",
        "conditions = conditions.checkpoint(eager=True)\n",
        "conditions_count = conditions.count()  # enforce checkpoint\n",
        "\n",
        "print(\"Falscher count: \", conditions_count)"
      ]
    },
    {
      "cell_type": "code",
      "execution_count": null,
      "id": "f7f73f4b-a38c-4a8d-ad4e-a2127766b019",
      "metadata": {
        "execution": {
          "iopub.execute_input": "2025-06-05T18:53:13.714335Z",
          "iopub.status.busy": "2025-06-05T18:53:13.713830Z",
          "iopub.status.idle": "2025-06-05T18:53:13.845395Z",
          "shell.execute_reply": "2025-06-05T18:53:13.844210Z",
          "shell.execute_reply.started": "2025-06-05T18:53:13.714288Z"
        },
        "id": "f7f73f4b-a38c-4a8d-ad4e-a2127766b019"
      },
      "outputs": [],
      "source": [
        "print(\n",
        "    \"distinct id count ist immer noch:\",\n",
        "    conditions.select(\"condition_resource_id\").distinct().count(),\n",
        ")"
      ]
    },
    {
      "cell_type": "code",
      "execution_count": null,
      "id": "70644063-53eb-404e-a1dd-dc05c998e3e0",
      "metadata": {
        "execution": {
          "iopub.execute_input": "2025-06-05T18:53:13.847558Z",
          "iopub.status.busy": "2025-06-05T18:53:13.847054Z",
          "iopub.status.idle": "2025-06-05T18:53:13.907965Z",
          "shell.execute_reply": "2025-06-05T18:53:13.906781Z",
          "shell.execute_reply.started": "2025-06-05T18:53:13.847510Z"
        },
        "id": "70644063-53eb-404e-a1dd-dc05c998e3e0"
      },
      "outputs": [],
      "source": [
        "# hier siehst du, dass dupliziert wurde --> jede condition_resource_id kommt jetzt 2x vor\n",
        "conditions.show()"
      ]
    },
    {
      "cell_type": "code",
      "execution_count": null,
      "id": "4bcf36e6-c19d-40af-994b-28a52e3a3e98",
      "metadata": {
        "execution": {
          "iopub.execute_input": "2025-06-05T18:53:13.910458Z",
          "iopub.status.busy": "2025-06-05T18:53:13.909530Z",
          "iopub.status.idle": "2025-06-05T18:53:19.653767Z",
          "shell.execute_reply": "2025-06-05T18:53:19.652275Z",
          "shell.execute_reply.started": "2025-06-05T18:53:13.910413Z"
        },
        "id": "4bcf36e6-c19d-40af-994b-28a52e3a3e98"
      },
      "outputs": [],
      "source": [
        "# wir brauchen da ein first wo wir sicher sind, dass es nur max. einmal vorkommen kann --> Stichwort Kardinalitäten (0...1 oder 1...1)\n",
        "conditions = data.extract(\n",
        "    \"Condition\",\n",
        "    columns=[\n",
        "        exp(\"id\", \"condition_resource_id\"),\n",
        "        exp(\n",
        "            \"code.coding.where(system = 'http://fhir.de/CodeSystem/bfarm/icd-10-gm').code.first()\",\n",
        "            \"icd10_code\",\n",
        "        ),  # kardinalität 0...1\n",
        "        exp(\n",
        "            \"extension('http://hl7.org/fhir/StructureDefinition/condition-assertedDate').valueDateTime.first()\",\n",
        "            \"date_diagnosis\",\n",
        "        ),  # kardinalität 1..1\n",
        "        exp(\"recordedDate\", \"recorded_date\"),\n",
        "    ],\n",
        "    filters=[\n",
        "        \"code.coding.where(system = 'http://fhir.de/CodeSystem/bfarm/icd-10-gm').exists()\",\n",
        "    ],\n",
        ")\n",
        "\n",
        "conditions = conditions.checkpoint(eager=True)\n",
        "conditions_count = conditions.count()  # enforce checkpoint\n",
        "\n",
        "print(conditions_count)"
      ]
    },
    {
      "cell_type": "code",
      "execution_count": null,
      "id": "fa00ef5f-ba15-4e7b-ac62-183d5ad0fb1a",
      "metadata": {
        "execution": {
          "iopub.execute_input": "2025-06-05T18:53:19.656456Z",
          "iopub.status.busy": "2025-06-05T18:53:19.655472Z",
          "iopub.status.idle": "2025-06-05T18:53:19.693340Z",
          "shell.execute_reply": "2025-06-05T18:53:19.692344Z",
          "shell.execute_reply.started": "2025-06-05T18:53:19.656401Z"
        },
        "id": "fa00ef5f-ba15-4e7b-ac62-183d5ad0fb1a"
      },
      "outputs": [],
      "source": [
        "# hier siehst du jetzt, dass die doppelte Zeile mit condition_resource_id korrekterweise wieder entfernt wurde\n",
        "conditions.show()"
      ]
    },
    {
      "cell_type": "code",
      "execution_count": null,
      "id": "0cf2d112-4a80-415a-979f-b2be6db510a8",
      "metadata": {
        "execution": {
          "iopub.execute_input": "2025-06-05T18:53:19.699080Z",
          "iopub.status.busy": "2025-06-05T18:53:19.698439Z",
          "iopub.status.idle": "2025-06-05T18:53:25.063468Z",
          "shell.execute_reply": "2025-06-05T18:53:25.062283Z",
          "shell.execute_reply.started": "2025-06-05T18:53:19.699063Z"
        },
        "id": "0cf2d112-4a80-415a-979f-b2be6db510a8"
      },
      "outputs": [],
      "source": [
        "# Referenz zum Patienten\n",
        "conditions = data.extract(\n",
        "    \"Condition\",\n",
        "    columns=[\n",
        "        exp(\"id\", \"condition_resource_id\"),\n",
        "        exp(\n",
        "            \"code.coding.where(system = 'http://fhir.de/CodeSystem/bfarm/icd-10-gm').code.first()\",\n",
        "            \"icd10_code\",\n",
        "        ),  # kardinalität 0...1\n",
        "        exp(\n",
        "            \"extension('http://hl7.org/fhir/StructureDefinition/condition-assertedDate').valueDateTime.first()\",\n",
        "            \"date_diagnosis\",\n",
        "        ),  # kardinalität 1..1\n",
        "        exp(\"subject.reference\", \"condition_subject_reference\"),\n",
        "    ],\n",
        "    filters=[\n",
        "        \"code.coding.where(system = 'http://fhir.de/CodeSystem/bfarm/icd-10-gm').exists()\"\n",
        "    ],\n",
        ")\n",
        "\n",
        "conditions = conditions.checkpoint(eager=True)\n",
        "conditions_count = conditions.count()  # enforce checkpoint\n",
        "\n",
        "print(conditions_count)"
      ]
    },
    {
      "cell_type": "code",
      "execution_count": null,
      "id": "c6080f72-83af-4eef-9b76-fcabaae181ba",
      "metadata": {
        "execution": {
          "iopub.execute_input": "2025-06-05T18:53:25.065271Z",
          "iopub.status.busy": "2025-06-05T18:53:25.064994Z",
          "iopub.status.idle": "2025-06-05T18:53:25.092871Z",
          "shell.execute_reply": "2025-06-05T18:53:25.091751Z",
          "shell.execute_reply.started": "2025-06-05T18:53:25.065245Z"
        },
        "id": "c6080f72-83af-4eef-9b76-fcabaae181ba"
      },
      "outputs": [],
      "source": [
        "conditions.show()"
      ]
    },
    {
      "cell_type": "code",
      "execution_count": null,
      "id": "e5943f9e-e208-4895-9cef-e406c7ed40d5",
      "metadata": {
        "execution": {
          "iopub.execute_input": "2025-06-05T18:53:25.095087Z",
          "iopub.status.busy": "2025-06-05T18:53:25.094336Z",
          "iopub.status.idle": "2025-06-05T18:53:25.138651Z",
          "shell.execute_reply": "2025-06-05T18:53:25.137567Z",
          "shell.execute_reply.started": "2025-06-05T18:53:25.095043Z"
        },
        "id": "e5943f9e-e208-4895-9cef-e406c7ed40d5"
      },
      "outputs": [],
      "source": [
        "# Vergleiche condition_subject_reference aus dem conditions dataframe mit patient_resource_id aus dem patients dataframe -- wo ist der Unterschied?\n",
        "patients.show()"
      ]
    },
    {
      "cell_type": "markdown",
      "id": "e4058e8b-c80d-4e04-b36a-1e11594d4bed",
      "metadata": {
        "id": "e4058e8b-c80d-4e04-b36a-1e11594d4bed"
      },
      "source": [
        "## JOIN"
      ]
    },
    {
      "cell_type": "code",
      "execution_count": null,
      "id": "06c983b1-c000-4985-80d7-63258b80d608",
      "metadata": {
        "execution": {
          "iopub.execute_input": "2025-06-05T18:53:25.140636Z",
          "iopub.status.busy": "2025-06-05T18:53:25.140125Z",
          "iopub.status.idle": "2025-06-05T18:53:25.242162Z",
          "shell.execute_reply": "2025-06-05T18:53:25.241497Z",
          "shell.execute_reply.started": "2025-06-05T18:53:25.140614Z"
        },
        "id": "06c983b1-c000-4985-80d7-63258b80d608"
      },
      "outputs": [],
      "source": [
        "# entferne das \"Patient/\" in den Werten der Spalte \"condition_subject_reference\", da dieser Präfix in patient_resource_id auch nicht vorkommt\n",
        "# nach dieser Vorverarbeitung können wir dann joinen: patients[\"patient_resource_id\"] == conditions[\"condition_subject_reference\"]\n",
        "\n",
        "conditions = conditions.withColumn(\n",
        "    \"condition_subject_reference\",\n",
        "    regexp_replace(\"condition_subject_reference\", \"^Patient/\", \"\"),\n",
        ")\n",
        "conditions = conditions.checkpoint(eager=True)\n",
        "conditions.count()  # enforce checkpoint"
      ]
    },
    {
      "cell_type": "code",
      "execution_count": null,
      "id": "721a8ca8-96fe-4326-8608-38dfb6e71991",
      "metadata": {
        "execution": {
          "iopub.execute_input": "2025-06-05T18:53:25.243328Z",
          "iopub.status.busy": "2025-06-05T18:53:25.243075Z",
          "iopub.status.idle": "2025-06-05T18:53:25.265920Z",
          "shell.execute_reply": "2025-06-05T18:53:25.265304Z",
          "shell.execute_reply.started": "2025-06-05T18:53:25.243304Z"
        },
        "scrolled": true,
        "id": "721a8ca8-96fe-4326-8608-38dfb6e71991"
      },
      "outputs": [],
      "source": [
        "conditions.show()"
      ]
    },
    {
      "cell_type": "code",
      "execution_count": null,
      "id": "da348c92-a8c9-4802-9768-4fe1475e04ba",
      "metadata": {
        "execution": {
          "iopub.execute_input": "2025-06-05T18:53:25.266999Z",
          "iopub.status.busy": "2025-06-05T18:53:25.266765Z",
          "iopub.status.idle": "2025-06-05T18:53:25.460910Z",
          "shell.execute_reply": "2025-06-05T18:53:25.459754Z",
          "shell.execute_reply.started": "2025-06-05T18:53:25.266976Z"
        },
        "id": "da348c92-a8c9-4802-9768-4fe1475e04ba"
      },
      "outputs": [],
      "source": [
        "patients_conditions = (\n",
        "    patients.alias(\"p\")\n",
        "    .join(\n",
        "        conditions.alias(\"c\"),\n",
        "        patients[\"patient_resource_id\"]\n",
        "        == conditions[\"condition_subject_reference\"],  # Join condition\n",
        "        \"left\",  # Left join\n",
        "    )\n",
        "    .select(\"c.*\", \"p.*\")\n",
        ")\n",
        "\n",
        "patients_conditions = patients_conditions.checkpoint(eager=True)\n",
        "patients_conditions_count = patients_conditions.count()\n",
        "patients_conditions_count"
      ]
    },
    {
      "cell_type": "code",
      "execution_count": null,
      "id": "66c6ee9e-5651-47e9-a2cf-ba9ba8af9fc0",
      "metadata": {
        "execution": {
          "iopub.execute_input": "2025-06-05T18:53:25.462125Z",
          "iopub.status.busy": "2025-06-05T18:53:25.461875Z",
          "iopub.status.idle": "2025-06-05T18:53:25.501266Z",
          "shell.execute_reply": "2025-06-05T18:53:25.499887Z",
          "shell.execute_reply.started": "2025-06-05T18:53:25.462101Z"
        },
        "id": "66c6ee9e-5651-47e9-a2cf-ba9ba8af9fc0"
      },
      "outputs": [],
      "source": [
        "patients_conditions.show()"
      ]
    },
    {
      "cell_type": "code",
      "execution_count": null,
      "id": "d4537856-01fc-4832-839a-1ff376991361",
      "metadata": {
        "id": "d4537856-01fc-4832-839a-1ff376991361"
      },
      "outputs": [],
      "source": []
    },
    {
      "cell_type": "markdown",
      "id": "1100703a-39a5-470a-84db-9544b9f021a0",
      "metadata": {
        "id": "1100703a-39a5-470a-84db-9544b9f021a0"
      },
      "source": [
        "## Resolve"
      ]
    },
    {
      "cell_type": "code",
      "execution_count": null,
      "id": "aa2c0818-6ebb-4382-affc-6da3a65f2075",
      "metadata": {
        "execution": {
          "iopub.execute_input": "2025-06-05T18:53:25.503460Z",
          "iopub.status.busy": "2025-06-05T18:53:25.502956Z",
          "iopub.status.idle": "2025-06-05T18:53:39.369006Z",
          "shell.execute_reply": "2025-06-05T18:53:39.367823Z",
          "shell.execute_reply.started": "2025-06-05T18:53:25.503412Z"
        },
        "id": "aa2c0818-6ebb-4382-affc-6da3a65f2075"
      },
      "outputs": [],
      "source": [
        "# deutlich schlankere Alternative zu zwei einzelnen extracts von patients und conditions und join\n",
        "# resolve löst Referenz auf\n",
        "\n",
        "conditions_patients_resolve = data.extract(\n",
        "    \"Condition\",\n",
        "    columns=[\n",
        "        exp(\"id\", \"condition_resource_id\"),\n",
        "        exp(\n",
        "            \"code.coding.where(system = 'http://fhir.de/CodeSystem/bfarm/icd-10-gm').code.first()\",\n",
        "            \"icd10_code\",\n",
        "        ),  # kardinalität 0...1\n",
        "        exp(\n",
        "            \"extension('http://hl7.org/fhir/StructureDefinition/condition-assertedDate').valueDateTime.first()\",\n",
        "            \"date_diagnosis\",\n",
        "        ),  # kardinalität 1..1\n",
        "        exp(\"subject.reference\", \"condition_subject_reference\"),\n",
        "        exp(\"subject.resolve().ofType(Patient).id\", \"patient_resource_id\"),\n",
        "        exp(\n",
        "            \"subject.resolve().ofType(Patient).identifier.where(type.coding.where(system='http://terminology.hl7.org/CodeSystem/v2-0203' and code='MR').exists()).value\",\n",
        "            \"patid_pseudonym\",\n",
        "        ),\n",
        "        exp(\"subject.resolve().ofType(Patient).birthDate\", \"birth_date\"),\n",
        "        exp(\"subject.resolve().ofType(Patient).gender\", \"gender\"),\n",
        "        exp(\"subject.resolve().ofType(Patient).deceasedDateTime\", \"deceased_datetime\"),\n",
        "    ],\n",
        "    filters=[\n",
        "        \"code.coding.where(system = 'http://fhir.de/CodeSystem/bfarm/icd-10-gm').exists()\"\n",
        "    ],\n",
        ")\n",
        "conditions_patients_resolve = conditions_patients_resolve.checkpoint(eager=True)\n",
        "conditions_patients_resolve_count = conditions_patients_resolve.count()\n",
        "conditions_patients_resolve_count"
      ]
    },
    {
      "cell_type": "code",
      "execution_count": null,
      "id": "9dd171bb-9c28-4011-9a0e-fddec7978fb1",
      "metadata": {
        "execution": {
          "iopub.execute_input": "2025-06-05T18:53:39.370193Z",
          "iopub.status.busy": "2025-06-05T18:53:39.369963Z",
          "iopub.status.idle": "2025-06-05T18:53:39.399619Z",
          "shell.execute_reply": "2025-06-05T18:53:39.398782Z",
          "shell.execute_reply.started": "2025-06-05T18:53:39.370173Z"
        },
        "id": "9dd171bb-9c28-4011-9a0e-fddec7978fb1"
      },
      "outputs": [],
      "source": [
        "conditions_patients_resolve.show()"
      ]
    },
    {
      "cell_type": "markdown",
      "id": "21238d44-45a9-461c-9ced-065609970478",
      "metadata": {
        "id": "21238d44-45a9-461c-9ced-065609970478"
      },
      "source": [
        "## ReverseResolve"
      ]
    },
    {
      "cell_type": "code",
      "execution_count": null,
      "id": "de15e1fb-8714-48e3-abcf-6a5831d88f66",
      "metadata": {
        "execution": {
          "iopub.execute_input": "2025-06-05T18:53:39.400489Z",
          "iopub.status.busy": "2025-06-05T18:53:39.400283Z",
          "iopub.status.idle": "2025-06-05T18:53:54.782122Z",
          "shell.execute_reply": "2025-06-05T18:53:54.781301Z",
          "shell.execute_reply.started": "2025-06-05T18:53:39.400470Z"
        },
        "id": "de15e1fb-8714-48e3-abcf-6a5831d88f66"
      },
      "outputs": [],
      "source": [
        "# löst Referenz rückwarts auf\n",
        "\n",
        "patients_condition_reverse_resolve = data.extract(\n",
        "    \"Patient\",\n",
        "    columns=[\n",
        "        exp(\"id\", \"patient_resource_id\"),\n",
        "        exp(\n",
        "            \"identifier.where(type.coding.where(system='http://terminology.hl7.org/CodeSystem/v2-0203' and code='MR').exists()).value\",\n",
        "            \"patid_pseudonym\",\n",
        "        ),\n",
        "        exp(\"gender\", \"gender\"),\n",
        "        exp(\"birthDate\", \"birth_date\"),\n",
        "        exp(\"deceasedDateTime\", \"deceased_datetime\"),\n",
        "        exp(\"id\", \"condition_resource_id\"),\n",
        "        exp(\n",
        "            \"reverseResolve(Condition.subject).code.coding.where(system = 'http://fhir.de/CodeSystem/bfarm/icd-10-gm').code.first()\",\n",
        "            \"icd10_code\",\n",
        "        ),  # kardinalität 0...1\n",
        "        exp(\n",
        "            \"reverseResolve(Condition.subject).extension('http://hl7.org/fhir/StructureDefinition/condition-assertedDate').valueDateTime.first()\",\n",
        "            \"date_diagnosis\",\n",
        "        ),  # kardinalität 1..1\n",
        "        exp(\n",
        "            \"reverseResolve(Condition.subject).subject.reference\",\n",
        "            \"condition_subject_reference\",\n",
        "        ),\n",
        "    ],\n",
        ")\n",
        "\n",
        "patients_condition_reverse_resolve = patients_condition_reverse_resolve.checkpoint(\n",
        "    eager=True\n",
        ")\n",
        "patients_condition_reverse_resolve_count = patients_condition_reverse_resolve.count()\n",
        "patients_condition_reverse_resolve_count"
      ]
    },
    {
      "cell_type": "code",
      "execution_count": null,
      "id": "ba3595a2-b71f-461f-ab1a-9828833c6a77",
      "metadata": {
        "execution": {
          "iopub.execute_input": "2025-06-05T18:53:54.783863Z",
          "iopub.status.busy": "2025-06-05T18:53:54.783414Z",
          "iopub.status.idle": "2025-06-05T18:53:54.816098Z",
          "shell.execute_reply": "2025-06-05T18:53:54.814746Z",
          "shell.execute_reply.started": "2025-06-05T18:53:54.783823Z"
        },
        "id": "ba3595a2-b71f-461f-ab1a-9828833c6a77"
      },
      "outputs": [],
      "source": [
        "patients_condition_reverse_resolve.show()"
      ]
    },
    {
      "cell_type": "markdown",
      "id": "c659c236-8b0b-4ba9-8a82-fb5f1a8ede77",
      "metadata": {
        "id": "c659c236-8b0b-4ba9-8a82-fb5f1a8ede77"
      },
      "source": [
        "### 3 Lösungswege für dasselbe Ergebnis"
      ]
    },
    {
      "cell_type": "code",
      "execution_count": null,
      "id": "e7b0622a-6abb-4155-a43a-22004c10fb12",
      "metadata": {
        "execution": {
          "iopub.execute_input": "2025-06-05T18:53:54.818517Z",
          "iopub.status.busy": "2025-06-05T18:53:54.817680Z",
          "iopub.status.idle": "2025-06-05T18:53:54.891204Z",
          "shell.execute_reply": "2025-06-05T18:53:54.890067Z",
          "shell.execute_reply.started": "2025-06-05T18:53:54.818470Z"
        },
        "id": "e7b0622a-6abb-4155-a43a-22004c10fb12"
      },
      "outputs": [],
      "source": [
        "# 1)\n",
        "print(\"aus join\")\n",
        "patients_conditions.sort(\"condition_resource_id\").show(2)\n",
        "\n",
        "# 2)\n",
        "print(\"aus resolve:\")\n",
        "conditions_patients_resolve.sort(\"condition_resource_id\").show(2)\n",
        "\n",
        "# 3\n",
        "print(\"aus reverseResolve:\")\n",
        "patients_condition_reverse_resolve.sort(\"condition_resource_id\").show(2)"
      ]
    },
    {
      "cell_type": "code",
      "execution_count": null,
      "id": "8250a3ab-aafd-4a82-8725-6ea140f6de69",
      "metadata": {
        "execution": {
          "iopub.execute_input": "2025-06-05T18:53:54.893582Z",
          "iopub.status.busy": "2025-06-05T18:53:54.892770Z",
          "iopub.status.idle": "2025-06-05T18:53:55.047579Z",
          "shell.execute_reply": "2025-06-05T18:53:55.046417Z",
          "shell.execute_reply.started": "2025-06-05T18:53:54.893533Z"
        },
        "id": "8250a3ab-aafd-4a82-8725-6ea140f6de69"
      },
      "outputs": [],
      "source": [
        "### Übung: Altersverteilung der onkologischen Patient:innen\n",
        "\n",
        "# 1.1 Berechne das Alter bei Diagnose aus dem Geburtsdatum und Diagnosedatum und füge es als neue Spalte in den DataFrame ein\n",
        "# Hinweis: diese Funktionen sind hilfreich: withColumn und\n",
        "from pyspark.sql.functions import col, datediff, floor, to_date\n",
        "\n",
        "patients_conditions = patients_conditions.withColumn(\n",
        "    \"birth_date\", to_date(col(\"birth_date\"))\n",
        ").withColumn(\n",
        "    \"age_at_diagnosis\",\n",
        "    floor(datediff(col(\"date_diagnosis\"), col(\"birth_date\")) / 365.25),\n",
        ")\n",
        "\n",
        "patients_conditions.show(truncate=False)\n",
        "\n",
        "# 1.2 Daten in Pandas überführen\n",
        "\n",
        "patients_conditions_pd = patients_conditions.toPandas()\n",
        "\n",
        "# 1.3 Zeichne ein Histogramm der Altersverteilung\n",
        "\n",
        "import matplotlib.pyplot as plt\n",
        "\n",
        "plt.figure(figsize=(10, 6))\n",
        "plt.hist(\n",
        "    patients_conditions_pd[\"age_at_diagnosis\"].dropna(),\n",
        "    bins=10,\n",
        "    edgecolor=\"black\",\n",
        "    color=\"blue\",\n",
        ")\n",
        "plt.xlabel(\"Alter (Jahre)\")\n",
        "plt.ylabel(\"Anzahl Patient:innen\")\n",
        "plt.grid(True)\n",
        "plt.show()"
      ]
    },
    {
      "cell_type": "markdown",
      "id": "60045f55-8804-4e7f-baef-bd010b08c194",
      "metadata": {
        "id": "60045f55-8804-4e7f-baef-bd010b08c194"
      },
      "source": [
        "# 3.  GRUPPENARBEIT\n",
        "### 4 ENTITÄTEN:\n",
        "##### (Quelle zugegebenermaßen aus Zeitgründen ChatGPT und stichprobenartig überprüft - falls hier etwas gar nicht passt, bitte melden :) )\n",
        "### 1. Ösophagus C15\n",
        "#### (Speiseröhrenkrebs)\n",
        "\n",
        "    Häufigkeit: Relativ selten, aber mit hoher Sterblichkeitsrate – etwa 5.000–6.000 Neuerkrankungen pro Jahr in Deutschland.\n",
        "\n",
        "    Typen: Zwei Hauptformen – Plattenepithelkarzinom (oberer/mittlerer Ösophagus) und Adenokarzinom (unterer Ösophagus).\n",
        "\n",
        "    Risikofaktoren: Rauchen, Alkohol, Refluxkrankheit (Barrett-Ösophagus), Adipositas.\n",
        "\n",
        "    Symptome: Schluckbeschwerden (Dysphagie), Gewichtsverlust, Brustschmerzen.\n",
        "\n",
        "    Prognose: Sehr schlecht; 5-Jahres-Überlebensrate liegt bei unter 20 %, oft wegen später Diagnose.\n",
        "### 2. Colon C18\n",
        "#### (Dickdarmkrebs, ohne Rektum)\n",
        "\n",
        "    Häufigkeit: Eine der häufigsten Krebsarten – etwa 33.000 Neuerkrankungen pro Jahr in Deutschland.\n",
        "\n",
        "    Früherkennung: Darmspiegelung (Koloskopie) ab 50 (Männer) bzw. 55 (Frauen) empfohlen.\n",
        "\n",
        "    Risikofaktoren: Ernährung (viel rotes Fleisch, wenig Ballaststoffe), familiäre Belastung, chronisch entzündliche Darmerkrankungen.\n",
        "\n",
        "    Symptome: Blut im Stuhl, Veränderungen des Stuhlgangs, unklare Bauchschmerzen.\n",
        "\n",
        "    Prognose: Bei früher Diagnose gute Heilungschancen – 5-Jahres-Überlebensrate >60 %.\n",
        "### 3. Pankreas C25\n",
        "#### (Bauchspeicheldrüsenkrebs)\n",
        "\n",
        "    Häufigkeit: Etwa 20.000 Neuerkrankungen jährlich in Deutschland, steigende Tendenz.\n",
        "\n",
        "    Typ: Meist duktales Adenokarzinom des Pankreaskopfes.\n",
        "\n",
        "    Risikofaktoren: Rauchen, chronische Pankreatitis, Diabetes mellitus, genetische Prädisposition.\n",
        "\n",
        "    Symptome: Unspezifisch – Gewichtsverlust, Oberbauchschmerzen, Ikterus (Gelbsucht).\n",
        "\n",
        "    Prognose: Sehr schlecht – 5-Jahres-Überlebensrate unter 10 %, meist späte Diagnose.\n",
        "### 4. Gliom C71\n",
        "#### (Hirntumor, maligner, z. B. Glioblastom)\n",
        "\n",
        "    Häufigkeit: Etwa 6.000–8.000 neue primäre Hirntumoren pro Jahr in Deutschland, davon viele Gliome.\n",
        "\n",
        "    Typen: Astrozytom, Oligodendrogliom, Glioblastom (besonders aggressiv).\n",
        "\n",
        "    Risikofaktoren: Meist unklar; wenige bekannte genetische Syndrome (z. B. Li-Fraumeni).\n",
        "\n",
        "    Symptome: Kopfschmerzen, epileptische Anfälle, neurologische Ausfälle (z. B. Lähmungen, Sprachstörungen).\n",
        "\n",
        "    Prognose: Stark abhängig vom Grad – Glioblastome (WHO Grad IV) haben eine mittlere Überlebenszeit von ca. 15 Monaten trotz Therapie.\n",
        "### Aufgabe: Wählt eine Entität aus (jede Entität sollte von mind. einer Gruppe gewählt werden) und führt folgende Analysen durch.\n",
        "#### 3.1: Wie häufig ist die Diagnose?\n",
        "#### 3.2: Wie ist die Diagnoseverteilung zwischen den Geschlechtern verteilt?\n",
        "#### 3.3: Wie sieht die Altersverteilung der Diagnose aus? Visualisiere das Ergebnis, z.B. in einem Histogramm.\n",
        "#### 3.4: Therapieanalyse: Operation, Strahlentherapie\n",
        "#### 3.5: Freie Auswertung - was interessiert dich noch innerhalb deiner Kohorte?"
      ]
    },
    {
      "cell_type": "code",
      "execution_count": null,
      "id": "211ddcf9-add5-4578-a14f-b2328a346e8a",
      "metadata": {
        "execution": {
          "iopub.status.busy": "2025-06-05T18:53:55.047993Z",
          "iopub.status.idle": "2025-06-05T18:53:55.048186Z",
          "shell.execute_reply": "2025-06-05T18:53:55.048097Z",
          "shell.execute_reply.started": "2025-06-05T18:53:55.048087Z"
        },
        "id": "211ddcf9-add5-4578-a14f-b2328a346e8a"
      },
      "outputs": [],
      "source": [
        "# Lösung 3.1 für C71 Kohorte\n",
        "patients_conditions_c71 = patients_conditions.filter(\n",
        "    col(\"icd10_code\").startswith(\"C71\")\n",
        ")\n",
        "\n",
        "patients_conditions_c71 = patients_conditions_c71.checkpoint(eager=True)\n",
        "patients_conditions_c71_count = patients_conditions_c71.count()\n",
        "\n",
        "print(\"patients_conditions_c71_count =\", patients_conditions_c71_count)\n",
        "\n",
        "print(\n",
        "    \"distinct condition ids count =\",\n",
        "    patients_conditions_c71.select(\"condition_resource_id\").distinct().count(),\n",
        ")"
      ]
    },
    {
      "cell_type": "code",
      "execution_count": null,
      "id": "fccc83df-1c90-48a6-a3b8-111c45522cb8",
      "metadata": {
        "execution": {
          "iopub.status.busy": "2025-06-05T18:53:55.048696Z",
          "iopub.status.idle": "2025-06-05T18:53:55.048874Z",
          "shell.execute_reply": "2025-06-05T18:53:55.048793Z",
          "shell.execute_reply.started": "2025-06-05T18:53:55.048784Z"
        },
        "id": "fccc83df-1c90-48a6-a3b8-111c45522cb8"
      },
      "outputs": [],
      "source": [
        "patients_conditions_c71.show()"
      ]
    },
    {
      "cell_type": "code",
      "execution_count": null,
      "id": "1a464640-bf1a-42ad-88e1-aceb02eb4d05",
      "metadata": {
        "execution": {
          "iopub.status.busy": "2025-06-05T18:53:55.049381Z",
          "iopub.status.idle": "2025-06-05T18:53:55.049557Z",
          "shell.execute_reply": "2025-06-05T18:53:55.049476Z",
          "shell.execute_reply.started": "2025-06-05T18:53:55.049467Z"
        },
        "id": "1a464640-bf1a-42ad-88e1-aceb02eb4d05"
      },
      "outputs": [],
      "source": [
        "# Lösung 3.2 für C71 Kohorte\n",
        "\n",
        "female = patients_conditions_c71.filter(col(\"gender\") == \"female\").count()\n",
        "male = patients_conditions_c71.filter(col(\"gender\") == \"male\").count()\n",
        "\n",
        "print(\"female:\", female, \", male:\", male)"
      ]
    },
    {
      "cell_type": "code",
      "execution_count": null,
      "id": "da00b42c-02a4-4a49-8c8f-e11eef19e2d5",
      "metadata": {
        "execution": {
          "iopub.status.busy": "2025-06-05T18:53:55.050137Z",
          "iopub.status.idle": "2025-06-05T18:53:55.050319Z",
          "shell.execute_reply": "2025-06-05T18:53:55.050237Z",
          "shell.execute_reply.started": "2025-06-05T18:53:55.050228Z"
        },
        "id": "da00b42c-02a4-4a49-8c8f-e11eef19e2d5"
      },
      "outputs": [],
      "source": [
        "# Lösung 3.3 für C71 Kohorte\n",
        "patients_conditions_c71 = patients_conditions_c71.withColumn(\n",
        "    \"birth_date\", to_date(col(\"birth_date\"))\n",
        ").withColumn(\n",
        "    \"age_at_diagnosis\",\n",
        "    floor(datediff(col(\"date_diagnosis\"), col(\"birth_date\")) / 365.25),\n",
        ")\n",
        "\n",
        "patients_conditions_c71.show(truncate=False)\n",
        "\n",
        "patients_conditions_c71 = patients_conditions_c71.toPandas()\n",
        "\n",
        "import matplotlib.pyplot as plt\n",
        "\n",
        "plt.figure(figsize=(10, 6))\n",
        "plt.hist(\n",
        "    patients_conditions_pd[\"age_at_diagnosis\"].dropna(),\n",
        "    bins=10,\n",
        "    edgecolor=\"black\",\n",
        "    color=\"blue\",\n",
        ")\n",
        "plt.xlabel(\"Alter (Jahre)\")\n",
        "plt.ylabel(\"Anzahl Patient:innen\")\n",
        "plt.grid(True)\n",
        "plt.show()"
      ]
    },
    {
      "cell_type": "markdown",
      "id": "14907e12",
      "metadata": {
        "id": "14907e12"
      },
      "source": [
        "### 3.4: Therapieanalyse"
      ]
    },
    {
      "cell_type": "markdown",
      "id": "73ac6c45-22a0-4315-ab19-b7e66ddd7145",
      "metadata": {
        "execution": {
          "iopub.status.busy": "2025-06-05T11:10:22.194312Z",
          "iopub.status.idle": "2025-06-05T11:10:22.194513Z",
          "shell.execute_reply": "2025-06-05T11:10:22.194422Z",
          "shell.execute_reply.started": "2025-06-05T11:10:22.194412Z"
        },
        "id": "73ac6c45-22a0-4315-ab19-b7e66ddd7145"
      },
      "source": [
        "#### OPERATION -- RESOURCENTYP: PROCEDURE\n",
        "https://simplifier.net/guide/mii-ig-modul-onkologie-2024-de/MIIIGModulOnkologie/TechnischeImplementierung/FHIR-Profile/Operation/Operation-Procedure.page.md?version=current"
      ]
    },
    {
      "cell_type": "code",
      "execution_count": null,
      "id": "c3db28a7-e696-41e7-b2d5-39207482a502",
      "metadata": {
        "execution": {
          "iopub.execute_input": "2025-06-05T18:02:52.034025Z",
          "iopub.status.busy": "2025-06-05T18:02:52.033424Z",
          "iopub.status.idle": "2025-06-05T18:02:52.039882Z",
          "shell.execute_reply": "2025-06-05T18:02:52.038507Z",
          "shell.execute_reply.started": "2025-06-05T18:02:52.033974Z"
        },
        "id": "c3db28a7-e696-41e7-b2d5-39207482a502"
      },
      "outputs": [],
      "source": [
        "# 3.4 Operationen: untersuche wie häufig deine Kohorte die Therapieform Operation erhält.\n",
        "\n",
        "# Extrahiere die folgenden Spalten: op resource id, category, op_date, op intention, OPS Code + icd10 code und condition_resource_id der zugrundeliegenden Diagnose\n",
        "# Welche OP Intentionen findest du in deiner Kohorte, wie oft kommen sie jeweils vor und wofür stehen die Codes? (Stichwort ValueSet im Implementation Guide)\n",
        "# Extrahiere hierfür die entsprechende Extension (analog zum Diagnosedatum im Einführungsbeispiel).\n",
        "\n",
        "# Hinweise\n",
        "# - mithilfe der folgenden Snomed CT category.coding.codes kannst du Operationen filtern:\n",
        "# 387713003 - Surgical procedure\n",
        "# 165197003 - Diagnostic assessment\n",
        "# 394841004 - Other category\n",
        "\n",
        "# - über Procedure.reasonReference hast du die Verbindung zur zugrundeliegenden Condition Resource = Diagnose.\n",
        "# - überprüfe dringend jederzeit die distinct op_resource_ids und betrachte den gesamten dataframe, um sicherzustellen, dass du keine duplizierten Zeilen erzeugt hast."
      ]
    },
    {
      "cell_type": "markdown",
      "id": "08c64da2",
      "metadata": {
        "id": "08c64da2"
      },
      "source": [
        "#### STRAHLENTHERAPIE -- RESOURCENTYP: PROCEDURE\n",
        "https://simplifier.net/guide/mii-ig-modul-onkologie-2024-de/MIIIGModulOnkologie/TechnischeImplementierung/FHIR-Profile/Strahlentherapie/Strahlentherapie-Procedure.page.md?version=current"
      ]
    },
    {
      "cell_type": "code",
      "execution_count": null,
      "id": "46919526-8f21-45f2-a7f1-bac8584f3b87",
      "metadata": {
        "id": "46919526-8f21-45f2-a7f1-bac8584f3b87"
      },
      "outputs": [],
      "source": [
        "# 3.4 Strahlentherapie: untersuche wie häufig deine Kohorte die Therapieform Strahlentherapie erhält.\n",
        "\n",
        "# Extrahiere die folgenden Spalten: st resource id, category, st_start_date und st_end_date und st_datetime, op intention, OPS Code + icd10 code und condition_resource_id der zugrundeliegenden Diagnose\n",
        "# Welche OP Intentionen findest du in deiner Kohorte, wie oft kommen sie jeweils vor und wofür stehen die Codes? (Stichwort ValueSet im Implementation Guide)\n",
        "# Extrahiere hierfür die entsprechende Extension (analog zum Diagnosedatum im Einführungsbeispiel).\n",
        "\n",
        "# Hinweise\n",
        "# - mithilfe der folgenden Snomed CT category.coding.codes kannst du Operationen filtern:\n",
        "# \"1287742003\" Radiotherapy (procedure)\n",
        "# \"399315003\" Radionuclide therapy (procedure)\n",
        "\n",
        "# - über Procedure.reasonReference hast du die Verbindung zur zugrundeliegenden Condition Resource = Diagnose.\n",
        "# - überprüfe dringend jederzeit die distinct st_resource_ids und betrachte den gesamten dataframe, um sicherzustellen, dass du keine duplizierten Zeilen erzeugt hast.\n",
        "\n",
        "\n",
        "# 3.4 Operationen - Lösung:"
      ]
    },
    {
      "cell_type": "code",
      "execution_count": null,
      "id": "55e5611d",
      "metadata": {
        "id": "55e5611d"
      },
      "outputs": [],
      "source": []
    },
    {
      "cell_type": "markdown",
      "id": "11fa2de7",
      "metadata": {
        "id": "11fa2de7"
      },
      "source": [
        "### 3.5: Freie Auswertung - was interessiert dich noch innerhalb deiner Kohorte?\n",
        "#### Aufgabe: überlege dir deine eigene Auswertung, erzeuge ggf. einen anschaulichen Plot\n",
        "#### Inspiration: Geschlecht/Altersverteilung der Therapieformen"
      ]
    },
    {
      "cell_type": "code",
      "execution_count": null,
      "id": "bb8c2530-e3ff-45a6-8512-721080ab0edf",
      "metadata": {
        "execution": {
          "iopub.status.busy": "2025-06-05T11:10:22.195663Z",
          "iopub.status.idle": "2025-06-05T11:10:22.195916Z",
          "shell.execute_reply": "2025-06-05T11:10:22.195812Z",
          "shell.execute_reply.started": "2025-06-05T11:10:22.195801Z"
        },
        "id": "bb8c2530-e3ff-45a6-8512-721080ab0edf"
      },
      "outputs": [],
      "source": []
    },
    {
      "cell_type": "code",
      "execution_count": null,
      "id": "89e3a037-6de0-47d0-b694-b54f93969d17",
      "metadata": {
        "id": "89e3a037-6de0-47d0-b694-b54f93969d17"
      },
      "outputs": [],
      "source": []
    },
    {
      "cell_type": "code",
      "execution_count": null,
      "id": "3572129d-11b3-4cbc-98d6-53d0cf529a05",
      "metadata": {
        "id": "3572129d-11b3-4cbc-98d6-53d0cf529a05"
      },
      "outputs": [],
      "source": []
    },
    {
      "cell_type": "code",
      "execution_count": null,
      "id": "fee8f105-bcaf-44f2-8db2-01dc47491602",
      "metadata": {
        "id": "fee8f105-bcaf-44f2-8db2-01dc47491602"
      },
      "outputs": [],
      "source": []
    },
    {
      "cell_type": "code",
      "execution_count": null,
      "id": "3c39b502-9945-486e-85e2-0be401dd0044",
      "metadata": {
        "id": "3c39b502-9945-486e-85e2-0be401dd0044"
      },
      "outputs": [],
      "source": []
    },
    {
      "cell_type": "code",
      "execution_count": null,
      "id": "072ad723-5871-4248-b0fe-639eca079d63",
      "metadata": {
        "id": "072ad723-5871-4248-b0fe-639eca079d63"
      },
      "outputs": [],
      "source": []
    },
    {
      "cell_type": "code",
      "execution_count": null,
      "id": "f5ca49e7-e595-4676-8ab3-5c7b20cf51b2",
      "metadata": {
        "id": "f5ca49e7-e595-4676-8ab3-5c7b20cf51b2"
      },
      "outputs": [],
      "source": []
    },
    {
      "cell_type": "code",
      "execution_count": null,
      "id": "104ab237-4f8c-4708-87a3-138dbfcd8055",
      "metadata": {
        "id": "104ab237-4f8c-4708-87a3-138dbfcd8055"
      },
      "outputs": [],
      "source": []
    },
    {
      "cell_type": "code",
      "execution_count": null,
      "id": "b3ecce50-5c65-403c-9b50-965b16850e15",
      "metadata": {
        "id": "b3ecce50-5c65-403c-9b50-965b16850e15"
      },
      "outputs": [],
      "source": []
    },
    {
      "cell_type": "code",
      "execution_count": null,
      "id": "38665273-3d20-4bbd-9d39-d7f5ca074f03",
      "metadata": {
        "id": "38665273-3d20-4bbd-9d39-d7f5ca074f03"
      },
      "outputs": [],
      "source": []
    }
  ],
  "metadata": {
    "kernelspec": {
      "display_name": ".venv",
      "language": "python",
      "name": "python3"
    },
    "language_info": {
      "codemirror_mode": {
        "name": "ipython",
        "version": 3
      },
      "file_extension": ".py",
      "mimetype": "text/x-python",
      "name": "python",
      "nbconvert_exporter": "python",
      "pygments_lexer": "ipython3",
      "version": "3.11.9"
    },
    "colab": {
      "provenance": []
    }
  },
  "nbformat": 4,
  "nbformat_minor": 5
}